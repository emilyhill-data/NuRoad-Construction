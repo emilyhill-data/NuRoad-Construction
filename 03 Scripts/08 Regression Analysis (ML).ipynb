{
 "cells": [
  {
   "cell_type": "markdown",
   "id": "8d31db69",
   "metadata": {},
   "source": [
    "## 01 import libraries & data\n",
    "## 02 data cleaning\n",
    "### - hypothesis for this notebook\n",
    "## 03 data prep for regression analysis\n",
    "## 04 regression analysis\n",
    "### - reflection on model performance & possible data bias"
   ]
  },
  {
   "cell_type": "markdown",
   "id": "d86054ae",
   "metadata": {},
   "source": [
    "# 01 import libraries & data"
   ]
  },
  {
   "cell_type": "code",
   "execution_count": 1,
   "id": "314e8907",
   "metadata": {},
   "outputs": [],
   "source": [
    "#import libraries\n",
    "import pandas as pd\n",
    "import os\n",
    "import numpy as np\n",
    "import seaborn as sns\n",
    "import matplotlib.pyplot as plt\n",
    "import matplotlib\n",
    "import sklearn\n",
    "from sklearn.model_selection import train_test_split\n",
    "from sklearn.linear_model import LinearRegression\n",
    "from sklearn.metrics import mean_squared_error, r2_score"
   ]
  },
  {
   "cell_type": "code",
   "execution_count": 2,
   "id": "a5a84367",
   "metadata": {},
   "outputs": [],
   "source": [
    "#graphs will display within the notebook\n",
    "%matplotlib inline"
   ]
  },
  {
   "cell_type": "code",
   "execution_count": 3,
   "id": "660d7c6c",
   "metadata": {},
   "outputs": [],
   "source": [
    "#create path to project folder\n",
    "path = r'C:\\Users\\erhil\\OneDrive\\Career Foundry Program\\Immersion Data Analytics Course\\A6 - Adv. Analytics & Dashboard Design\\Project A6'"
   ]
  },
  {
   "cell_type": "code",
   "execution_count": 4,
   "id": "ffab35f6",
   "metadata": {},
   "outputs": [],
   "source": [
    "#import data\n",
    "df = pd.read_csv(os.path.join(path, '02 Data', 'Prepared', 'merged3.csv'), index_col = False)"
   ]
  },
  {
   "cell_type": "markdown",
   "id": "01e5afb7",
   "metadata": {},
   "source": [
    "# 02 data cleaning"
   ]
  },
  {
   "cell_type": "code",
   "execution_count": 5,
   "id": "e019f407",
   "metadata": {},
   "outputs": [
    {
     "data": {
      "text/plain": [
       "Index(['ID', 'Severity', 'Distance(mi)', 'City', 'County', 'State', 'Timezone',\n",
       "       'Airport_Code', 'Weather_Timestamp', 'Temperature(F)', 'Visibility(mi)',\n",
       "       'Wind_Direction', 'Precipitation(in)', 'Weather_Condition',\n",
       "       'Start_Time_no_ext', 'End_Time_no_ext', 'Zipcode_no_ext',\n",
       "       'Airport_Type', 'Airport_Name', 'dist_to_weather(mi)',\n",
       "       'project_time_length', 'const_total_minutes'],\n",
       "      dtype='object')"
      ]
     },
     "execution_count": 5,
     "metadata": {},
     "output_type": "execute_result"
    }
   ],
   "source": [
    "df.columns"
   ]
  },
  {
   "cell_type": "code",
   "execution_count": 6,
   "id": "40129ed8",
   "metadata": {},
   "outputs": [],
   "source": [
    "pd.set_option('display.max_columns', None)"
   ]
  },
  {
   "cell_type": "code",
   "execution_count": 7,
   "id": "45edbfc9",
   "metadata": {},
   "outputs": [
    {
     "data": {
      "text/html": [
       "<div>\n",
       "<style scoped>\n",
       "    .dataframe tbody tr th:only-of-type {\n",
       "        vertical-align: middle;\n",
       "    }\n",
       "\n",
       "    .dataframe tbody tr th {\n",
       "        vertical-align: top;\n",
       "    }\n",
       "\n",
       "    .dataframe thead th {\n",
       "        text-align: right;\n",
       "    }\n",
       "</style>\n",
       "<table border=\"1\" class=\"dataframe\">\n",
       "  <thead>\n",
       "    <tr style=\"text-align: right;\">\n",
       "      <th></th>\n",
       "      <th>ID</th>\n",
       "      <th>Severity</th>\n",
       "      <th>Distance(mi)</th>\n",
       "      <th>City</th>\n",
       "      <th>County</th>\n",
       "      <th>State</th>\n",
       "      <th>Timezone</th>\n",
       "      <th>Airport_Code</th>\n",
       "      <th>Weather_Timestamp</th>\n",
       "      <th>Temperature(F)</th>\n",
       "      <th>Visibility(mi)</th>\n",
       "      <th>Wind_Direction</th>\n",
       "      <th>Precipitation(in)</th>\n",
       "      <th>Weather_Condition</th>\n",
       "      <th>Start_Time_no_ext</th>\n",
       "      <th>End_Time_no_ext</th>\n",
       "      <th>Zipcode_no_ext</th>\n",
       "      <th>Airport_Type</th>\n",
       "      <th>Airport_Name</th>\n",
       "      <th>dist_to_weather(mi)</th>\n",
       "      <th>project_time_length</th>\n",
       "      <th>const_total_minutes</th>\n",
       "    </tr>\n",
       "  </thead>\n",
       "  <tbody>\n",
       "    <tr>\n",
       "      <th>0</th>\n",
       "      <td>C-2</td>\n",
       "      <td>2</td>\n",
       "      <td>0.433173</td>\n",
       "      <td>Lafayette</td>\n",
       "      <td>Lafayette</td>\n",
       "      <td>LA</td>\n",
       "      <td>US/Central</td>\n",
       "      <td>KLFT</td>\n",
       "      <td>2021-11-12 07:59:00</td>\n",
       "      <td>55.0</td>\n",
       "      <td>3.0</td>\n",
       "      <td>CALM</td>\n",
       "      <td>0.0</td>\n",
       "      <td>Mostly Cloudy</td>\n",
       "      <td>2021-11-12 07:59:00</td>\n",
       "      <td>2021-11-12 08:22:30</td>\n",
       "      <td>70501</td>\n",
       "      <td>large_airport</td>\n",
       "      <td>Lafayette Regional Airport</td>\n",
       "      <td>1.673991</td>\n",
       "      <td>0 days 00:23:30</td>\n",
       "      <td>23.500000</td>\n",
       "    </tr>\n",
       "    <tr>\n",
       "      <th>1</th>\n",
       "      <td>C-3</td>\n",
       "      <td>2</td>\n",
       "      <td>0.192266</td>\n",
       "      <td>Denver</td>\n",
       "      <td>Denver</td>\n",
       "      <td>CO</td>\n",
       "      <td>US/Mountain</td>\n",
       "      <td>KBKF</td>\n",
       "      <td>2021-10-12 06:58:00</td>\n",
       "      <td>37.0</td>\n",
       "      <td>10.0</td>\n",
       "      <td>WSW</td>\n",
       "      <td>0.0</td>\n",
       "      <td>Partly Cloudy</td>\n",
       "      <td>2021-10-12 07:17:30</td>\n",
       "      <td>2021-10-12 09:18:55</td>\n",
       "      <td>80224</td>\n",
       "      <td>medium_airport</td>\n",
       "      <td>Buckley Air Force Base</td>\n",
       "      <td>9.058579</td>\n",
       "      <td>0 days 02:01:25</td>\n",
       "      <td>121.416667</td>\n",
       "    </tr>\n",
       "    <tr>\n",
       "      <th>2</th>\n",
       "      <td>C-4</td>\n",
       "      <td>4</td>\n",
       "      <td>0.032112</td>\n",
       "      <td>Whittier</td>\n",
       "      <td>Los Angeles</td>\n",
       "      <td>CA</td>\n",
       "      <td>US/Pacific</td>\n",
       "      <td>KFUL</td>\n",
       "      <td>2021-02-10 02:53:00</td>\n",
       "      <td>54.0</td>\n",
       "      <td>9.0</td>\n",
       "      <td>CALM</td>\n",
       "      <td>0.0</td>\n",
       "      <td>Cloudy</td>\n",
       "      <td>2021-02-10 02:46:10</td>\n",
       "      <td>2021-02-17 23:59:00</td>\n",
       "      <td>90605</td>\n",
       "      <td>small_airport</td>\n",
       "      <td>Fullerton Municipal Airport</td>\n",
       "      <td>6.800913</td>\n",
       "      <td>7 days 21:12:50</td>\n",
       "      <td>11352.833333</td>\n",
       "    </tr>\n",
       "    <tr>\n",
       "      <th>3</th>\n",
       "      <td>C-5</td>\n",
       "      <td>2</td>\n",
       "      <td>0.996057</td>\n",
       "      <td>Connellsville</td>\n",
       "      <td>Fayette</td>\n",
       "      <td>PA</td>\n",
       "      <td>US/Eastern</td>\n",
       "      <td>KLBE</td>\n",
       "      <td>2020-09-24 15:53:00</td>\n",
       "      <td>73.0</td>\n",
       "      <td>10.0</td>\n",
       "      <td>SSW</td>\n",
       "      <td>0.0</td>\n",
       "      <td>Partly Cloudy</td>\n",
       "      <td>2020-09-24 15:58:00</td>\n",
       "      <td>2020-09-25 21:04:54</td>\n",
       "      <td>15425</td>\n",
       "      <td>medium_airport</td>\n",
       "      <td>Arnold Palmer Regional Airport</td>\n",
       "      <td>21.136875</td>\n",
       "      <td>1 days 05:06:54</td>\n",
       "      <td>1746.900000</td>\n",
       "    </tr>\n",
       "    <tr>\n",
       "      <th>4</th>\n",
       "      <td>C-6</td>\n",
       "      <td>2</td>\n",
       "      <td>0.747595</td>\n",
       "      <td>Dallas</td>\n",
       "      <td>Dallas</td>\n",
       "      <td>TX</td>\n",
       "      <td>US/Central</td>\n",
       "      <td>KDAL</td>\n",
       "      <td>2021-06-08 21:53:00</td>\n",
       "      <td>84.0</td>\n",
       "      <td>10.0</td>\n",
       "      <td>SSE</td>\n",
       "      <td>0.0</td>\n",
       "      <td>Partly Cloudy</td>\n",
       "      <td>2021-06-08 21:35:00</td>\n",
       "      <td>2021-06-08 22:04:00</td>\n",
       "      <td>75247</td>\n",
       "      <td>large_airport</td>\n",
       "      <td>Dallas Love Field</td>\n",
       "      <td>2.452856</td>\n",
       "      <td>0 days 00:29:00</td>\n",
       "      <td>29.000000</td>\n",
       "    </tr>\n",
       "  </tbody>\n",
       "</table>\n",
       "</div>"
      ],
      "text/plain": [
       "    ID  Severity  Distance(mi)           City       County State     Timezone  \\\n",
       "0  C-2         2      0.433173      Lafayette    Lafayette    LA   US/Central   \n",
       "1  C-3         2      0.192266         Denver       Denver    CO  US/Mountain   \n",
       "2  C-4         4      0.032112       Whittier  Los Angeles    CA   US/Pacific   \n",
       "3  C-5         2      0.996057  Connellsville      Fayette    PA   US/Eastern   \n",
       "4  C-6         2      0.747595         Dallas       Dallas    TX   US/Central   \n",
       "\n",
       "  Airport_Code    Weather_Timestamp  Temperature(F)  Visibility(mi)  \\\n",
       "0         KLFT  2021-11-12 07:59:00            55.0             3.0   \n",
       "1         KBKF  2021-10-12 06:58:00            37.0            10.0   \n",
       "2         KFUL  2021-02-10 02:53:00            54.0             9.0   \n",
       "3         KLBE  2020-09-24 15:53:00            73.0            10.0   \n",
       "4         KDAL  2021-06-08 21:53:00            84.0            10.0   \n",
       "\n",
       "  Wind_Direction  Precipitation(in) Weather_Condition    Start_Time_no_ext  \\\n",
       "0           CALM                0.0     Mostly Cloudy  2021-11-12 07:59:00   \n",
       "1            WSW                0.0     Partly Cloudy  2021-10-12 07:17:30   \n",
       "2           CALM                0.0            Cloudy  2021-02-10 02:46:10   \n",
       "3            SSW                0.0     Partly Cloudy  2020-09-24 15:58:00   \n",
       "4            SSE                0.0     Partly Cloudy  2021-06-08 21:35:00   \n",
       "\n",
       "       End_Time_no_ext  Zipcode_no_ext    Airport_Type  \\\n",
       "0  2021-11-12 08:22:30           70501   large_airport   \n",
       "1  2021-10-12 09:18:55           80224  medium_airport   \n",
       "2  2021-02-17 23:59:00           90605   small_airport   \n",
       "3  2020-09-25 21:04:54           15425  medium_airport   \n",
       "4  2021-06-08 22:04:00           75247   large_airport   \n",
       "\n",
       "                     Airport_Name  dist_to_weather(mi) project_time_length  \\\n",
       "0      Lafayette Regional Airport             1.673991     0 days 00:23:30   \n",
       "1          Buckley Air Force Base             9.058579     0 days 02:01:25   \n",
       "2     Fullerton Municipal Airport             6.800913     7 days 21:12:50   \n",
       "3  Arnold Palmer Regional Airport            21.136875     1 days 05:06:54   \n",
       "4               Dallas Love Field             2.452856     0 days 00:29:00   \n",
       "\n",
       "   const_total_minutes  \n",
       "0            23.500000  \n",
       "1           121.416667  \n",
       "2         11352.833333  \n",
       "3          1746.900000  \n",
       "4            29.000000  "
      ]
     },
     "execution_count": 7,
     "metadata": {},
     "output_type": "execute_result"
    }
   ],
   "source": [
    "df.head()"
   ]
  },
  {
   "cell_type": "code",
   "execution_count": 8,
   "id": "4fb91171",
   "metadata": {},
   "outputs": [
    {
     "data": {
      "text/plain": [
       "(5153650, 22)"
      ]
     },
     "execution_count": 8,
     "metadata": {},
     "output_type": "execute_result"
    }
   ],
   "source": [
    "df.shape"
   ]
  },
  {
   "cell_type": "code",
   "execution_count": 9,
   "id": "9630310a",
   "metadata": {},
   "outputs": [
    {
     "name": "stdout",
     "output_type": "stream",
     "text": [
      "<class 'pandas.core.frame.DataFrame'>\n",
      "RangeIndex: 5153650 entries, 0 to 5153649\n",
      "Data columns (total 22 columns):\n",
      " #   Column               Dtype  \n",
      "---  ------               -----  \n",
      " 0   ID                   object \n",
      " 1   Severity             int64  \n",
      " 2   Distance(mi)         float64\n",
      " 3   City                 object \n",
      " 4   County               object \n",
      " 5   State                object \n",
      " 6   Timezone             object \n",
      " 7   Airport_Code         object \n",
      " 8   Weather_Timestamp    object \n",
      " 9   Temperature(F)       float64\n",
      " 10  Visibility(mi)       float64\n",
      " 11  Wind_Direction       object \n",
      " 12  Precipitation(in)    float64\n",
      " 13  Weather_Condition    object \n",
      " 14  Start_Time_no_ext    object \n",
      " 15  End_Time_no_ext      object \n",
      " 16  Zipcode_no_ext       int64  \n",
      " 17  Airport_Type         object \n",
      " 18  Airport_Name         object \n",
      " 19  dist_to_weather(mi)  float64\n",
      " 20  project_time_length  object \n",
      " 21  const_total_minutes  float64\n",
      "dtypes: float64(6), int64(2), object(14)\n",
      "memory usage: 865.0+ MB\n"
     ]
    }
   ],
   "source": [
    "df.info()"
   ]
  },
  {
   "cell_type": "markdown",
   "id": "7a8e4311",
   "metadata": {},
   "source": [
    "### check for missing values"
   ]
  },
  {
   "cell_type": "code",
   "execution_count": 10,
   "id": "85ef5f8c",
   "metadata": {},
   "outputs": [
    {
     "data": {
      "text/plain": [
       "ID                     0\n",
       "Severity               0\n",
       "Distance(mi)           0\n",
       "City                   0\n",
       "County                 0\n",
       "State                  0\n",
       "Timezone               0\n",
       "Airport_Code           0\n",
       "Weather_Timestamp      0\n",
       "Temperature(F)         0\n",
       "Visibility(mi)         0\n",
       "Wind_Direction         0\n",
       "Precipitation(in)      0\n",
       "Weather_Condition      0\n",
       "Start_Time_no_ext      0\n",
       "End_Time_no_ext        0\n",
       "Zipcode_no_ext         0\n",
       "Airport_Type           0\n",
       "Airport_Name           0\n",
       "dist_to_weather(mi)    0\n",
       "project_time_length    0\n",
       "const_total_minutes    0\n",
       "dtype: int64"
      ]
     },
     "execution_count": 10,
     "metadata": {},
     "output_type": "execute_result"
    }
   ],
   "source": [
    "#check for missing values\n",
    "df.isnull().sum()"
   ]
  },
  {
   "cell_type": "markdown",
   "id": "b6b088c5",
   "metadata": {},
   "source": [
    "### duplicates check"
   ]
  },
  {
   "cell_type": "code",
   "execution_count": 11,
   "id": "df28625a",
   "metadata": {},
   "outputs": [],
   "source": [
    "#check duplicates\n",
    "dups = df[df.duplicated()]"
   ]
  },
  {
   "cell_type": "code",
   "execution_count": 12,
   "id": "7127be68",
   "metadata": {},
   "outputs": [
    {
     "data": {
      "text/plain": [
       "(0, 22)"
      ]
     },
     "execution_count": 12,
     "metadata": {},
     "output_type": "execute_result"
    }
   ],
   "source": [
    "dups.shape\n",
    "#no duplicates"
   ]
  },
  {
   "cell_type": "markdown",
   "id": "5fa6406b",
   "metadata": {},
   "source": [
    "### mixed data check"
   ]
  },
  {
   "cell_type": "code",
   "execution_count": 13,
   "id": "12d68235",
   "metadata": {},
   "outputs": [],
   "source": [
    "for col in df.columns.tolist():\n",
    "    weird = (df[[col]].applymap(type) != df[[col]].iloc[0].apply(type)).any(axis = 1)\n",
    "    if len (df[weird]) > 0:\n",
    "        print (col)\n"
   ]
  },
  {
   "cell_type": "markdown",
   "id": "860eba7a",
   "metadata": {},
   "source": [
    "### extreme values check"
   ]
  },
  {
   "cell_type": "code",
   "execution_count": 14,
   "id": "1d3809d3",
   "metadata": {},
   "outputs": [
    {
     "data": {
      "text/plain": [
       "<seaborn.axisgrid.FacetGrid at 0x1fa55293fd0>"
      ]
     },
     "execution_count": 14,
     "metadata": {},
     "output_type": "execute_result"
    },
    {
     "data": {
      "image/png": "[encoded data removed]",
      "text/plain": [
       "<Figure size 360x360 with 1 Axes>"
      ]
     },
     "metadata": {
      "needs_background": "light"
     },
     "output_type": "display_data"
    }
   ],
   "source": [
    "sns.displot(df['const_total_minutes'], bins = 20)"
   ]
  },
  {
   "cell_type": "code",
   "execution_count": 15,
   "id": "6376f392",
   "metadata": {},
   "outputs": [
    {
     "data": {
      "text/plain": [
       "min       1.500000e+00\n",
       "max       3.010486e+06\n",
       "median    4.278333e+02\n",
       "mean      2.710810e+04\n",
       "Name: const_total_minutes, dtype: float64"
      ]
     },
     "execution_count": 15,
     "metadata": {},
     "output_type": "execute_result"
    }
   ],
   "source": [
    "df.const_total_minutes.agg(['min', 'max', 'median', 'mean'])"
   ]
  },
  {
   "cell_type": "markdown",
   "id": "a1fd703c",
   "metadata": {},
   "source": [
    "## hypothesis:\n",
    "The farther away the construction from the weather station, the longer construction will take.\n",
    "## null hypothesis:\n",
    "There is no difference in the time that construction takes and the distance to the weather station.\n",
    "## alternate hypothesis:\n",
    "There is a difference in the time that construction takes and the distance to the weather station."
   ]
  },
  {
   "cell_type": "markdown",
   "id": "a19baf0b",
   "metadata": {},
   "source": [
    "# 03 data prep for regression analysis"
   ]
  },
  {
   "cell_type": "code",
   "execution_count": 16,
   "id": "91f81c9d",
   "metadata": {},
   "outputs": [
    {
     "data": {
      "image/png": "[encoded data removed]",
      "text/plain": [
       "<Figure size 432x288 with 1 Axes>"
      ]
     },
     "metadata": {
      "needs_background": "light"
     },
     "output_type": "display_data"
    }
   ],
   "source": [
    "#create a scatterplot using matplotlib to look at variables\n",
    "\n",
    "df.plot(x = 'const_total_minutes', y = 'dist_to_weather(mi)', style = 'o')\n",
    "plt.title = ('Construction Time vs. Distance to Weather Station')\n",
    "plt.xlabel = ('Construction Time (minutes)')\n",
    "plt.ylabel = ('Distance to Weather Station (miles)')\n",
    "plt.show()"
   ]
  },
  {
   "cell_type": "code",
   "execution_count": 17,
   "id": "9e93547f",
   "metadata": {},
   "outputs": [],
   "source": [
    "#reshape the variables into NumPy arrays & put them into separate objects.\n",
    "X = df['const_total_minutes'].values.reshape(-1, 1)\n",
    "y = df['dist_to_weather(mi)'].values.reshape(-1, 1)"
   ]
  },
  {
   "cell_type": "code",
   "execution_count": 18,
   "id": "35ce8804",
   "metadata": {},
   "outputs": [
    {
     "data": {
      "text/plain": [
       "array([[2.35000000e+01],\n",
       "       [1.21416667e+02],\n",
       "       [1.13528333e+04],\n",
       "       ...,\n",
       "       [9.32543983e+05],\n",
       "       [4.80000000e+02],\n",
       "       [3.68000000e+02]])"
      ]
     },
     "execution_count": 18,
     "metadata": {},
     "output_type": "execute_result"
    }
   ],
   "source": [
    "X"
   ]
  },
  {
   "cell_type": "code",
   "execution_count": 19,
   "id": "ce837b9b",
   "metadata": {},
   "outputs": [
    {
     "data": {
      "text/plain": [
       "array([[ 1.67399099],\n",
       "       [ 9.05857923],\n",
       "       [ 6.80091335],\n",
       "       ...,\n",
       "       [ 4.56049902],\n",
       "       [14.07108473],\n",
       "       [ 4.27181629]])"
      ]
     },
     "execution_count": 19,
     "metadata": {},
     "output_type": "execute_result"
    }
   ],
   "source": [
    "y"
   ]
  },
  {
   "cell_type": "code",
   "execution_count": 20,
   "id": "de6c0754",
   "metadata": {},
   "outputs": [],
   "source": [
    "#split data into a training set & a test set\n",
    "X_train, X_test, y_train, y_test = train_test_split(\n",
    "    X, y, test_size = 0.3, random_state = 4)"
   ]
  },
  {
   "cell_type": "markdown",
   "id": "646f447a",
   "metadata": {},
   "source": [
    "# 04 regression analysis"
   ]
  },
  {
   "cell_type": "code",
   "execution_count": 21,
   "id": "cefed6b5",
   "metadata": {},
   "outputs": [],
   "source": [
    "#create a regression object\n",
    "reg = LinearRegression()"
   ]
  },
  {
   "cell_type": "code",
   "execution_count": 22,
   "id": "0b3b9046",
   "metadata": {},
   "outputs": [
    {
     "data": {
      "text/plain": [
       "LinearRegression()"
      ]
     },
     "execution_count": 22,
     "metadata": {},
     "output_type": "execute_result"
    }
   ],
   "source": [
    "#fit the regression object onto the training set\n",
    "reg.fit(X_train, y_train)"
   ]
  },
  {
   "cell_type": "code",
   "execution_count": 23,
   "id": "42255d49",
   "metadata": {},
   "outputs": [],
   "source": [
    "#predict values of y using x\n",
    "y_predicted = reg.predict(X_test)"
   ]
  },
  {
   "cell_type": "code",
   "execution_count": 24,
   "id": "ebee8dde",
   "metadata": {
    "scrolled": true
   },
   "outputs": [
    {
     "ename": "TypeError",
     "evalue": "'str' object is not callable",
     "output_type": "error",
     "traceback": [
      "\u001b[1;31m---------------------------------------------------------------------------\u001b[0m",
      "\u001b[1;31mTypeError\u001b[0m                                 Traceback (most recent call last)",
      "\u001b[1;32m~\\AppData\\Local\\Temp/ipykernel_27700/3052518849.py\u001b[0m in \u001b[0;36m<module>\u001b[1;34m\u001b[0m\n\u001b[0;32m      5\u001b[0m \u001b[0mplt\u001b[0m\u001b[1;33m.\u001b[0m\u001b[0mscatter\u001b[0m\u001b[1;33m(\u001b[0m\u001b[0mX_test\u001b[0m\u001b[1;33m,\u001b[0m \u001b[0my_test\u001b[0m\u001b[1;33m,\u001b[0m \u001b[0mcolor\u001b[0m\u001b[1;33m=\u001b[0m\u001b[1;34m'gray'\u001b[0m\u001b[1;33m,\u001b[0m \u001b[0ms\u001b[0m \u001b[1;33m=\u001b[0m \u001b[1;36m15\u001b[0m\u001b[1;33m)\u001b[0m\u001b[1;33m\u001b[0m\u001b[1;33m\u001b[0m\u001b[0m\n\u001b[0;32m      6\u001b[0m \u001b[0mplt\u001b[0m\u001b[1;33m.\u001b[0m\u001b[0mplot\u001b[0m\u001b[1;33m(\u001b[0m\u001b[0mX_test\u001b[0m\u001b[1;33m,\u001b[0m \u001b[0my_predicted\u001b[0m\u001b[1;33m,\u001b[0m \u001b[0mcolor\u001b[0m\u001b[1;33m=\u001b[0m\u001b[1;34m'red'\u001b[0m\u001b[1;33m,\u001b[0m \u001b[0mlinewidth\u001b[0m \u001b[1;33m=\u001b[0m\u001b[1;36m3\u001b[0m\u001b[1;33m)\u001b[0m\u001b[1;33m\u001b[0m\u001b[1;33m\u001b[0m\u001b[0m\n\u001b[1;32m----> 7\u001b[1;33m \u001b[0mplt\u001b[0m\u001b[1;33m.\u001b[0m\u001b[0mtitle\u001b[0m\u001b[1;33m(\u001b[0m\u001b[1;34m'Construction Time vs Dist to Weather Station (test set)'\u001b[0m\u001b[1;33m)\u001b[0m\u001b[1;33m\u001b[0m\u001b[1;33m\u001b[0m\u001b[0m\n\u001b[0m\u001b[0;32m      8\u001b[0m \u001b[0mplt\u001b[0m\u001b[1;33m.\u001b[0m\u001b[0mxlabel\u001b[0m\u001b[1;33m(\u001b[0m\u001b[1;34m'Construction Time in minutes'\u001b[0m\u001b[1;33m)\u001b[0m\u001b[1;33m\u001b[0m\u001b[1;33m\u001b[0m\u001b[0m\n\u001b[0;32m      9\u001b[0m \u001b[0mplt\u001b[0m\u001b[1;33m.\u001b[0m\u001b[0mylabel\u001b[0m\u001b[1;33m(\u001b[0m\u001b[1;34m'Distance to Weather Station in miles'\u001b[0m\u001b[1;33m)\u001b[0m\u001b[1;33m\u001b[0m\u001b[1;33m\u001b[0m\u001b[0m\n",
      "\u001b[1;31mTypeError\u001b[0m: 'str' object is not callable"
     ]
    },
    {
     "data": {
      "image/png": "[encoded data removed]",
      "text/plain": [
       "<Figure size 432x288 with 1 Axes>"
      ]
     },
     "metadata": {
      "needs_background": "light"
     },
     "output_type": "display_data"
    }
   ],
   "source": [
    "#create a plot that shows the line of regression from the model on the test set\n",
    "\n",
    "plt.scatter(X_test, y_test, color='gray', s = 15)\n",
    "plt.scatter(X_test, y_test, color='gray', s = 15)\n",
    "plt.scatter(X_test, y_test, color='gray', s = 15)\n",
    "plt.plot(X_test, y_predicted, color='red', linewidth =3)\n",
    "plt.title('Construction Time vs Dist to Weather Station (test set)')\n",
    "plt.xlabel('Construction Time in minutes')\n",
    "plt.ylabel('Distance to Weather Station in miles')\n",
    "plt.show()"
   ]
  },
  {
   "cell_type": "markdown",
   "id": "824500e5",
   "metadata": {},
   "source": [
    "The regression line looks inappropriate with the data. There does not appear to have a clear trend."
   ]
  },
  {
   "cell_type": "code",
   "execution_count": 25,
   "id": "e1860267",
   "metadata": {},
   "outputs": [],
   "source": [
    "#create objects that contain the model summary stats\n",
    "rmse = mean_squared_error(y_test, y_predicted)\n",
    "r2 = r2_score(y_test, y_predicted)"
   ]
  },
  {
   "cell_type": "code",
   "execution_count": 26,
   "id": "fdf11088",
   "metadata": {},
   "outputs": [
    {
     "name": "stdout",
     "output_type": "stream",
     "text": [
      "Slope:  [[1.4521791e-06]]\n",
      "Mean Squared error:  57.712186001736725\n",
      "R2 score:  0.0004721277968899873\n"
     ]
    }
   ],
   "source": [
    "print('Slope: ', reg.coef_)\n",
    "print('Mean Squared error: ', rmse)\n",
    "print('R2 score: ', r2)"
   ]
  },
  {
   "cell_type": "code",
   "execution_count": 27,
   "id": "72366b14",
   "metadata": {},
   "outputs": [
    {
     "data": {
      "text/plain": [
       "array([[8.80897476],\n",
       "       [8.80882301],\n",
       "       [8.80135808],\n",
       "       ...,\n",
       "       [8.81050621],\n",
       "       [8.80104526],\n",
       "       [8.80077533]])"
      ]
     },
     "execution_count": 27,
     "metadata": {},
     "output_type": "execute_result"
    }
   ],
   "source": [
    "y_predicted"
   ]
  },
  {
   "cell_type": "code",
   "execution_count": 28,
   "id": "1dc4fd85",
   "metadata": {
    "scrolled": true
   },
   "outputs": [
    {
     "data": {
      "text/html": [
       "<div>\n",
       "<style scoped>\n",
       "    .dataframe tbody tr th:only-of-type {\n",
       "        vertical-align: middle;\n",
       "    }\n",
       "\n",
       "    .dataframe tbody tr th {\n",
       "        vertical-align: top;\n",
       "    }\n",
       "\n",
       "    .dataframe thead th {\n",
       "        text-align: right;\n",
       "    }\n",
       "</style>\n",
       "<table border=\"1\" class=\"dataframe\">\n",
       "  <thead>\n",
       "    <tr style=\"text-align: right;\">\n",
       "      <th></th>\n",
       "      <th>Actual</th>\n",
       "      <th>Predicted</th>\n",
       "    </tr>\n",
       "  </thead>\n",
       "  <tbody>\n",
       "    <tr>\n",
       "      <th>0</th>\n",
       "      <td>15.065636</td>\n",
       "      <td>8.808975</td>\n",
       "    </tr>\n",
       "    <tr>\n",
       "      <th>1</th>\n",
       "      <td>5.535725</td>\n",
       "      <td>8.808823</td>\n",
       "    </tr>\n",
       "    <tr>\n",
       "      <th>2</th>\n",
       "      <td>5.254573</td>\n",
       "      <td>8.801358</td>\n",
       "    </tr>\n",
       "    <tr>\n",
       "      <th>3</th>\n",
       "      <td>27.554013</td>\n",
       "      <td>8.802068</td>\n",
       "    </tr>\n",
       "    <tr>\n",
       "      <th>4</th>\n",
       "      <td>2.773707</td>\n",
       "      <td>8.800766</td>\n",
       "    </tr>\n",
       "    <tr>\n",
       "      <th>5</th>\n",
       "      <td>11.919519</td>\n",
       "      <td>8.824923</td>\n",
       "    </tr>\n",
       "    <tr>\n",
       "      <th>6</th>\n",
       "      <td>9.867583</td>\n",
       "      <td>8.800619</td>\n",
       "    </tr>\n",
       "    <tr>\n",
       "      <th>7</th>\n",
       "      <td>7.053979</td>\n",
       "      <td>8.800669</td>\n",
       "    </tr>\n",
       "    <tr>\n",
       "      <th>8</th>\n",
       "      <td>3.870260</td>\n",
       "      <td>8.802747</td>\n",
       "    </tr>\n",
       "    <tr>\n",
       "      <th>9</th>\n",
       "      <td>2.412892</td>\n",
       "      <td>8.801320</td>\n",
       "    </tr>\n",
       "    <tr>\n",
       "      <th>10</th>\n",
       "      <td>4.145611</td>\n",
       "      <td>8.800656</td>\n",
       "    </tr>\n",
       "    <tr>\n",
       "      <th>11</th>\n",
       "      <td>0.559769</td>\n",
       "      <td>8.801025</td>\n",
       "    </tr>\n",
       "    <tr>\n",
       "      <th>12</th>\n",
       "      <td>18.873337</td>\n",
       "      <td>8.801460</td>\n",
       "    </tr>\n",
       "    <tr>\n",
       "      <th>13</th>\n",
       "      <td>3.073154</td>\n",
       "      <td>8.801809</td>\n",
       "    </tr>\n",
       "    <tr>\n",
       "      <th>14</th>\n",
       "      <td>7.191058</td>\n",
       "      <td>8.800763</td>\n",
       "    </tr>\n",
       "    <tr>\n",
       "      <th>15</th>\n",
       "      <td>4.399971</td>\n",
       "      <td>8.800830</td>\n",
       "    </tr>\n",
       "    <tr>\n",
       "      <th>16</th>\n",
       "      <td>16.961420</td>\n",
       "      <td>8.809917</td>\n",
       "    </tr>\n",
       "    <tr>\n",
       "      <th>17</th>\n",
       "      <td>11.010361</td>\n",
       "      <td>8.801082</td>\n",
       "    </tr>\n",
       "    <tr>\n",
       "      <th>18</th>\n",
       "      <td>10.552050</td>\n",
       "      <td>8.801907</td>\n",
       "    </tr>\n",
       "    <tr>\n",
       "      <th>19</th>\n",
       "      <td>4.933762</td>\n",
       "      <td>8.801022</td>\n",
       "    </tr>\n",
       "  </tbody>\n",
       "</table>\n",
       "</div>"
      ],
      "text/plain": [
       "       Actual  Predicted\n",
       "0   15.065636   8.808975\n",
       "1    5.535725   8.808823\n",
       "2    5.254573   8.801358\n",
       "3   27.554013   8.802068\n",
       "4    2.773707   8.800766\n",
       "5   11.919519   8.824923\n",
       "6    9.867583   8.800619\n",
       "7    7.053979   8.800669\n",
       "8    3.870260   8.802747\n",
       "9    2.412892   8.801320\n",
       "10   4.145611   8.800656\n",
       "11   0.559769   8.801025\n",
       "12  18.873337   8.801460\n",
       "13   3.073154   8.801809\n",
       "14   7.191058   8.800763\n",
       "15   4.399971   8.800830\n",
       "16  16.961420   8.809917\n",
       "17  11.010361   8.801082\n",
       "18  10.552050   8.801907\n",
       "19   4.933762   8.801022"
      ]
     },
     "execution_count": 28,
     "metadata": {},
     "output_type": "execute_result"
    }
   ],
   "source": [
    "#create a dataframe comparing the actual and predicted values of y\n",
    "\n",
    "data = pd. DataFrame({'Actual': y_test.flatten(), 'Predicted': y_predicted.flatten()})\n",
    "data.head(20)"
   ]
  },
  {
   "cell_type": "markdown",
   "id": "cb1c193e",
   "metadata": {},
   "source": [
    " "
   ]
  },
  {
   "cell_type": "markdown",
   "id": "5e62f0df",
   "metadata": {},
   "source": [
    "### compare how regression fits the training set"
   ]
  },
  {
   "cell_type": "code",
   "execution_count": 29,
   "id": "0714e3f0",
   "metadata": {},
   "outputs": [],
   "source": [
    "# predict\n",
    "\n",
    "y_predicted_train = reg.predict(X_train)"
   ]
  },
  {
   "cell_type": "code",
   "execution_count": 30,
   "id": "be3f6e35",
   "metadata": {},
   "outputs": [],
   "source": [
    "rmse = mean_squared_error(y_train, y_predicted_train)\n",
    "r2 = r2_score(y_train, y_predicted_train)"
   ]
  },
  {
   "cell_type": "code",
   "execution_count": 31,
   "id": "b7880be4",
   "metadata": {},
   "outputs": [
    {
     "name": "stdout",
     "output_type": "stream",
     "text": [
      "Slope:  [[1.4521791e-06]]\n",
      "Mean squared error:  57.56060152935807\n",
      "R2 score:  0.00046317724157496354\n"
     ]
    }
   ],
   "source": [
    "print('Slope: ', reg.coef_)\n",
    "print('Mean squared error: ', rmse)\n",
    "print('R2 score: ', r2)"
   ]
  },
  {
   "cell_type": "code",
   "execution_count": 32,
   "id": "731d5273",
   "metadata": {},
   "outputs": [
    {
     "ename": "TypeError",
     "evalue": "'str' object is not callable",
     "output_type": "error",
     "traceback": [
      "\u001b[1;31m---------------------------------------------------------------------------\u001b[0m",
      "\u001b[1;31mTypeError\u001b[0m                                 Traceback (most recent call last)",
      "\u001b[1;32m~\\AppData\\Local\\Temp/ipykernel_27700/3116367127.py\u001b[0m in \u001b[0;36m<module>\u001b[1;34m\u001b[0m\n\u001b[0;32m      3\u001b[0m \u001b[0mplt\u001b[0m\u001b[1;33m.\u001b[0m\u001b[0mscatter\u001b[0m\u001b[1;33m(\u001b[0m\u001b[0mX_train\u001b[0m\u001b[1;33m,\u001b[0m \u001b[0my_train\u001b[0m\u001b[1;33m,\u001b[0m \u001b[0mcolor\u001b[0m \u001b[1;33m=\u001b[0m \u001b[1;34m'green'\u001b[0m\u001b[1;33m,\u001b[0m \u001b[0ms\u001b[0m \u001b[1;33m=\u001b[0m \u001b[1;36m15\u001b[0m\u001b[1;33m)\u001b[0m\u001b[1;33m\u001b[0m\u001b[1;33m\u001b[0m\u001b[0m\n\u001b[0;32m      4\u001b[0m \u001b[0mplt\u001b[0m\u001b[1;33m.\u001b[0m\u001b[0mplot\u001b[0m\u001b[1;33m(\u001b[0m\u001b[0mX_train\u001b[0m\u001b[1;33m,\u001b[0m \u001b[0my_predicted_train\u001b[0m\u001b[1;33m,\u001b[0m \u001b[0mcolor\u001b[0m \u001b[1;33m=\u001b[0m \u001b[1;34m'red'\u001b[0m\u001b[1;33m,\u001b[0m \u001b[0mlinewidth\u001b[0m \u001b[1;33m=\u001b[0m \u001b[1;36m3\u001b[0m\u001b[1;33m)\u001b[0m\u001b[1;33m\u001b[0m\u001b[1;33m\u001b[0m\u001b[0m\n\u001b[1;32m----> 5\u001b[1;33m \u001b[0mplt\u001b[0m\u001b[1;33m.\u001b[0m\u001b[0mtitle\u001b[0m\u001b[1;33m(\u001b[0m\u001b[1;34m'Construction Time vs Dist to Weather Station (test set)'\u001b[0m\u001b[1;33m)\u001b[0m\u001b[1;33m\u001b[0m\u001b[1;33m\u001b[0m\u001b[0m\n\u001b[0m\u001b[0;32m      6\u001b[0m \u001b[0mplt\u001b[0m\u001b[1;33m.\u001b[0m\u001b[0mxlabel\u001b[0m\u001b[1;33m(\u001b[0m\u001b[1;34m'Construction Total Time in minutes'\u001b[0m\u001b[1;33m)\u001b[0m\u001b[1;33m\u001b[0m\u001b[1;33m\u001b[0m\u001b[0m\n\u001b[0;32m      7\u001b[0m \u001b[0mplt\u001b[0m\u001b[1;33m.\u001b[0m\u001b[0mylabel\u001b[0m\u001b[1;33m(\u001b[0m\u001b[1;34m'Distance to Weather Station in miles'\u001b[0m\u001b[1;33m)\u001b[0m\u001b[1;33m\u001b[0m\u001b[1;33m\u001b[0m\u001b[0m\n",
      "\u001b[1;31mTypeError\u001b[0m: 'str' object is not callable"
     ]
    },
    {
     "data": {
      "image/png": "[encoded data removed]",
      "text/plain": [
       "<Figure size 432x288 with 1 Axes>"
      ]
     },
     "metadata": {
      "needs_background": "light"
     },
     "output_type": "display_data"
    }
   ],
   "source": [
    "#visualizing the training set results\n",
    "\n",
    "plt.scatter(X_train, y_train, color = 'green', s = 15)\n",
    "plt.plot(X_train, y_predicted_train, color = 'red', linewidth = 3)\n",
    "plt.title('Construction Time vs Dist to Weather Station (test set)')\n",
    "plt.xlabel('Construction Total Time in minutes')\n",
    "plt.ylabel('Distance to Weather Station in miles')\n",
    "plt.show()"
   ]
  },
  {
   "cell_type": "markdown",
   "id": "291bb31d",
   "metadata": {},
   "source": [
    "The mean squared error (MSE) is 57.7 for the test set, ideally I would like this value close to zero for the regression line to be a good representation of the data. Since this represents the squared distance between points and the line, the value of about 7.6 miles is not terribly far off. The training set was very close to this value also (57.6).\n",
    "\n",
    "The r^2 value of 0.00047 for the test set indicates that since this value is very close to zero, it is a POOR fit for this set of data. This would be like saying that this line fits the data at a value of 0.04% (out of 100%!). Not very convincing. The training set has an r^2 value of 0.00046, which is almost exactly the test set's value."
   ]
  },
  {
   "cell_type": "markdown",
   "id": "c5029b6b",
   "metadata": {},
   "source": [
    "### Reflection on possible data bias\n",
    "\n",
    "Addressing exclusion bias:\n",
    "In the cleaning process, I eliminated all distance = 0 mile construction jobs representing road construction. \n",
    "\n",
    "Addressing measurement bias:\n",
    "The construction job time lengths have been converted to minutes. This data was computed by subtracting the end date/time from the beginning date/time. This may include time that construction was not active. Some jobs may be broken up into actual construction time starts/stops on consecutive days and some may be from the initiation of the construction project until the end of the project.\n"
   ]
  },
  {
   "cell_type": "code",
   "execution_count": null,
   "id": "7efe20a4",
   "metadata": {},
   "outputs": [],
   "source": []
  }
 ],
 "metadata": {
  "kernelspec": {
   "display_name": "Python 3 (ipykernel)",
   "language": "python",
   "name": "python3"
  },
  "language_info": {
   "codemirror_mode": {
    "name": "ipython",
    "version": 3
   },
   "file_extension": ".py",
   "mimetype": "text/x-python",
   "name": "python",
   "nbconvert_exporter": "python",
   "pygments_lexer": "ipython3",
   "version": "3.9.7"
  }
 },
 "nbformat": 4,
 "nbformat_minor": 5
}
