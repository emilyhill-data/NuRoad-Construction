{
 "cells": [
  {
   "cell_type": "markdown",
   "id": "4360926d",
   "metadata": {},
   "source": [
    "## analyzing time series contents:\n",
    "### 01 import libraries & data\n",
    "### 02 subsetting, wrangling, and cleaning time-series data\n",
    "### 03 time series analysis: decomposition\n",
    "### 04 testing for stationarity\n",
    "### 05 stationarizing the US Construction data"
   ]
  },
  {
   "cell_type": "markdown",
   "id": "a1cbc644",
   "metadata": {},
   "source": [
    "# 01 import libraries & data"
   ]
  },
  {
   "cell_type": "code",
   "execution_count": 1,
   "id": "29ba79d4",
   "metadata": {},
   "outputs": [],
   "source": [
    "import pandas as pd\n",
    "import numpy as np\n",
    "import os\n",
    "import seaborn as sns\n",
    "import matplotlib\n",
    "import matplotlib.pyplot as plt\n",
    "import statsmodels.api as sm\n",
    "import warnings\n",
    "\n",
    "warnings.filterwarnings(\"ignore\")\n",
    "#disable depracation warnings; more relevant to developers\n",
    "\n",
    "plt.style.use('fivethirtyeight')\n",
    "#styling option for how plots appear *see 6.6 lesson for links"
   ]
  },
  {
   "cell_type": "code",
   "execution_count": 2,
   "id": "c25e8128",
   "metadata": {},
   "outputs": [],
   "source": [
    "#path\n",
    "path = r'C:\\Users\\erhil\\OneDrive\\Career Foundry Program\\Immersion Data Analytics Course\\A6 - Adv. Analytics & Dashboard Design\\Project A6'"
   ]
  },
  {
   "cell_type": "code",
   "execution_count": 3,
   "id": "0fecfd1a",
   "metadata": {},
   "outputs": [],
   "source": [
    "#import data\n",
    "df = pd.read_csv(os.path.join(path, '02 Data', 'Prepared', 'merged3.csv'), index_col = False)"
   ]
  },
  {
   "cell_type": "code",
   "execution_count": 4,
   "id": "a8239dd6",
   "metadata": {},
   "outputs": [
    {
     "data": {
      "text/html": [
       "<div>\n",
       "<style scoped>\n",
       "    .dataframe tbody tr th:only-of-type {\n",
       "        vertical-align: middle;\n",
       "    }\n",
       "\n",
       "    .dataframe tbody tr th {\n",
       "        vertical-align: top;\n",
       "    }\n",
       "\n",
       "    .dataframe thead th {\n",
       "        text-align: right;\n",
       "    }\n",
       "</style>\n",
       "<table border=\"1\" class=\"dataframe\">\n",
       "  <thead>\n",
       "    <tr style=\"text-align: right;\">\n",
       "      <th></th>\n",
       "      <th>ID</th>\n",
       "      <th>Severity</th>\n",
       "      <th>Distance(mi)</th>\n",
       "      <th>City</th>\n",
       "      <th>County</th>\n",
       "      <th>State</th>\n",
       "      <th>Timezone</th>\n",
       "      <th>Airport_Code</th>\n",
       "      <th>Weather_Timestamp</th>\n",
       "      <th>Temperature(F)</th>\n",
       "      <th>...</th>\n",
       "      <th>Precipitation(in)</th>\n",
       "      <th>Weather_Condition</th>\n",
       "      <th>Start_Time_no_ext</th>\n",
       "      <th>End_Time_no_ext</th>\n",
       "      <th>Zipcode_no_ext</th>\n",
       "      <th>Airport_Type</th>\n",
       "      <th>Airport_Name</th>\n",
       "      <th>dist_to_weather(mi)</th>\n",
       "      <th>project_time_length</th>\n",
       "      <th>const_total_minutes</th>\n",
       "    </tr>\n",
       "  </thead>\n",
       "  <tbody>\n",
       "    <tr>\n",
       "      <th>0</th>\n",
       "      <td>C-2</td>\n",
       "      <td>2</td>\n",
       "      <td>0.433173</td>\n",
       "      <td>Lafayette</td>\n",
       "      <td>Lafayette</td>\n",
       "      <td>LA</td>\n",
       "      <td>US/Central</td>\n",
       "      <td>KLFT</td>\n",
       "      <td>2021-11-12 07:59:00</td>\n",
       "      <td>55.0</td>\n",
       "      <td>...</td>\n",
       "      <td>0.0</td>\n",
       "      <td>Mostly Cloudy</td>\n",
       "      <td>2021-11-12 07:59:00</td>\n",
       "      <td>2021-11-12 08:22:30</td>\n",
       "      <td>70501</td>\n",
       "      <td>large_airport</td>\n",
       "      <td>Lafayette Regional Airport</td>\n",
       "      <td>1.673991</td>\n",
       "      <td>0 days 00:23:30</td>\n",
       "      <td>23.500000</td>\n",
       "    </tr>\n",
       "    <tr>\n",
       "      <th>1</th>\n",
       "      <td>C-3</td>\n",
       "      <td>2</td>\n",
       "      <td>0.192266</td>\n",
       "      <td>Denver</td>\n",
       "      <td>Denver</td>\n",
       "      <td>CO</td>\n",
       "      <td>US/Mountain</td>\n",
       "      <td>KBKF</td>\n",
       "      <td>2021-10-12 06:58:00</td>\n",
       "      <td>37.0</td>\n",
       "      <td>...</td>\n",
       "      <td>0.0</td>\n",
       "      <td>Partly Cloudy</td>\n",
       "      <td>2021-10-12 07:17:30</td>\n",
       "      <td>2021-10-12 09:18:55</td>\n",
       "      <td>80224</td>\n",
       "      <td>medium_airport</td>\n",
       "      <td>Buckley Air Force Base</td>\n",
       "      <td>9.058579</td>\n",
       "      <td>0 days 02:01:25</td>\n",
       "      <td>121.416667</td>\n",
       "    </tr>\n",
       "    <tr>\n",
       "      <th>2</th>\n",
       "      <td>C-4</td>\n",
       "      <td>4</td>\n",
       "      <td>0.032112</td>\n",
       "      <td>Whittier</td>\n",
       "      <td>Los Angeles</td>\n",
       "      <td>CA</td>\n",
       "      <td>US/Pacific</td>\n",
       "      <td>KFUL</td>\n",
       "      <td>2021-02-10 02:53:00</td>\n",
       "      <td>54.0</td>\n",
       "      <td>...</td>\n",
       "      <td>0.0</td>\n",
       "      <td>Cloudy</td>\n",
       "      <td>2021-02-10 02:46:10</td>\n",
       "      <td>2021-02-17 23:59:00</td>\n",
       "      <td>90605</td>\n",
       "      <td>small_airport</td>\n",
       "      <td>Fullerton Municipal Airport</td>\n",
       "      <td>6.800913</td>\n",
       "      <td>7 days 21:12:50</td>\n",
       "      <td>11352.833333</td>\n",
       "    </tr>\n",
       "    <tr>\n",
       "      <th>3</th>\n",
       "      <td>C-5</td>\n",
       "      <td>2</td>\n",
       "      <td>0.996057</td>\n",
       "      <td>Connellsville</td>\n",
       "      <td>Fayette</td>\n",
       "      <td>PA</td>\n",
       "      <td>US/Eastern</td>\n",
       "      <td>KLBE</td>\n",
       "      <td>2020-09-24 15:53:00</td>\n",
       "      <td>73.0</td>\n",
       "      <td>...</td>\n",
       "      <td>0.0</td>\n",
       "      <td>Partly Cloudy</td>\n",
       "      <td>2020-09-24 15:58:00</td>\n",
       "      <td>2020-09-25 21:04:54</td>\n",
       "      <td>15425</td>\n",
       "      <td>medium_airport</td>\n",
       "      <td>Arnold Palmer Regional Airport</td>\n",
       "      <td>21.136875</td>\n",
       "      <td>1 days 05:06:54</td>\n",
       "      <td>1746.900000</td>\n",
       "    </tr>\n",
       "    <tr>\n",
       "      <th>4</th>\n",
       "      <td>C-6</td>\n",
       "      <td>2</td>\n",
       "      <td>0.747595</td>\n",
       "      <td>Dallas</td>\n",
       "      <td>Dallas</td>\n",
       "      <td>TX</td>\n",
       "      <td>US/Central</td>\n",
       "      <td>KDAL</td>\n",
       "      <td>2021-06-08 21:53:00</td>\n",
       "      <td>84.0</td>\n",
       "      <td>...</td>\n",
       "      <td>0.0</td>\n",
       "      <td>Partly Cloudy</td>\n",
       "      <td>2021-06-08 21:35:00</td>\n",
       "      <td>2021-06-08 22:04:00</td>\n",
       "      <td>75247</td>\n",
       "      <td>large_airport</td>\n",
       "      <td>Dallas Love Field</td>\n",
       "      <td>2.452856</td>\n",
       "      <td>0 days 00:29:00</td>\n",
       "      <td>29.000000</td>\n",
       "    </tr>\n",
       "  </tbody>\n",
       "</table>\n",
       "<p>5 rows × 22 columns</p>\n",
       "</div>"
      ],
      "text/plain": [
       "    ID  Severity  Distance(mi)           City       County State     Timezone  \\\n",
       "0  C-2         2      0.433173      Lafayette    Lafayette    LA   US/Central   \n",
       "1  C-3         2      0.192266         Denver       Denver    CO  US/Mountain   \n",
       "2  C-4         4      0.032112       Whittier  Los Angeles    CA   US/Pacific   \n",
       "3  C-5         2      0.996057  Connellsville      Fayette    PA   US/Eastern   \n",
       "4  C-6         2      0.747595         Dallas       Dallas    TX   US/Central   \n",
       "\n",
       "  Airport_Code    Weather_Timestamp  Temperature(F)  ...  Precipitation(in)  \\\n",
       "0         KLFT  2021-11-12 07:59:00            55.0  ...                0.0   \n",
       "1         KBKF  2021-10-12 06:58:00            37.0  ...                0.0   \n",
       "2         KFUL  2021-02-10 02:53:00            54.0  ...                0.0   \n",
       "3         KLBE  2020-09-24 15:53:00            73.0  ...                0.0   \n",
       "4         KDAL  2021-06-08 21:53:00            84.0  ...                0.0   \n",
       "\n",
       "  Weather_Condition    Start_Time_no_ext      End_Time_no_ext Zipcode_no_ext  \\\n",
       "0     Mostly Cloudy  2021-11-12 07:59:00  2021-11-12 08:22:30          70501   \n",
       "1     Partly Cloudy  2021-10-12 07:17:30  2021-10-12 09:18:55          80224   \n",
       "2            Cloudy  2021-02-10 02:46:10  2021-02-17 23:59:00          90605   \n",
       "3     Partly Cloudy  2020-09-24 15:58:00  2020-09-25 21:04:54          15425   \n",
       "4     Partly Cloudy  2021-06-08 21:35:00  2021-06-08 22:04:00          75247   \n",
       "\n",
       "     Airport_Type                    Airport_Name dist_to_weather(mi)  \\\n",
       "0   large_airport      Lafayette Regional Airport            1.673991   \n",
       "1  medium_airport          Buckley Air Force Base            9.058579   \n",
       "2   small_airport     Fullerton Municipal Airport            6.800913   \n",
       "3  medium_airport  Arnold Palmer Regional Airport           21.136875   \n",
       "4   large_airport               Dallas Love Field            2.452856   \n",
       "\n",
       "  project_time_length  const_total_minutes  \n",
       "0     0 days 00:23:30            23.500000  \n",
       "1     0 days 02:01:25           121.416667  \n",
       "2     7 days 21:12:50         11352.833333  \n",
       "3     1 days 05:06:54          1746.900000  \n",
       "4     0 days 00:29:00            29.000000  \n",
       "\n",
       "[5 rows x 22 columns]"
      ]
     },
     "execution_count": 4,
     "metadata": {},
     "output_type": "execute_result"
    }
   ],
   "source": [
    "df.head()"
   ]
  },
  {
   "cell_type": "code",
   "execution_count": 5,
   "id": "31eb27e3",
   "metadata": {},
   "outputs": [
    {
     "data": {
      "text/plain": [
       "ID                      object\n",
       "Severity                 int64\n",
       "Distance(mi)           float64\n",
       "City                    object\n",
       "County                  object\n",
       "State                   object\n",
       "Timezone                object\n",
       "Airport_Code            object\n",
       "Weather_Timestamp       object\n",
       "Temperature(F)         float64\n",
       "Visibility(mi)         float64\n",
       "Wind_Direction          object\n",
       "Precipitation(in)      float64\n",
       "Weather_Condition       object\n",
       "Start_Time_no_ext       object\n",
       "End_Time_no_ext         object\n",
       "Zipcode_no_ext           int64\n",
       "Airport_Type            object\n",
       "Airport_Name            object\n",
       "dist_to_weather(mi)    float64\n",
       "project_time_length     object\n",
       "const_total_minutes    float64\n",
       "dtype: object"
      ]
     },
     "execution_count": 5,
     "metadata": {},
     "output_type": "execute_result"
    }
   ],
   "source": [
    "df.dtypes"
   ]
  },
  {
   "cell_type": "code",
   "execution_count": 6,
   "id": "7311158a",
   "metadata": {},
   "outputs": [
    {
     "data": {
      "text/plain": [
       "count                 5153650\n",
       "unique                1611738\n",
       "top       2021-02-16 05:41:49\n",
       "freq                     1296\n",
       "Name: Start_Time_no_ext, dtype: object"
      ]
     },
     "execution_count": 6,
     "metadata": {},
     "output_type": "execute_result"
    }
   ],
   "source": [
    "df['Start_Time_no_ext'].describe()"
   ]
  },
  {
   "cell_type": "code",
   "execution_count": 7,
   "id": "8f817e5b",
   "metadata": {},
   "outputs": [],
   "source": [
    "#split 'Start_Time_no_ext' to 'start_date' and 'start_time' will not need time\n",
    "df[['start_date', 'start_time']] = df['Start_Time_no_ext'].str.split(' ', expand = True)"
   ]
  },
  {
   "cell_type": "code",
   "execution_count": 8,
   "id": "b45f200c",
   "metadata": {},
   "outputs": [
    {
     "data": {
      "text/html": [
       "<div>\n",
       "<style scoped>\n",
       "    .dataframe tbody tr th:only-of-type {\n",
       "        vertical-align: middle;\n",
       "    }\n",
       "\n",
       "    .dataframe tbody tr th {\n",
       "        vertical-align: top;\n",
       "    }\n",
       "\n",
       "    .dataframe thead th {\n",
       "        text-align: right;\n",
       "    }\n",
       "</style>\n",
       "<table border=\"1\" class=\"dataframe\">\n",
       "  <thead>\n",
       "    <tr style=\"text-align: right;\">\n",
       "      <th></th>\n",
       "      <th>ID</th>\n",
       "      <th>Severity</th>\n",
       "      <th>Distance(mi)</th>\n",
       "      <th>City</th>\n",
       "      <th>County</th>\n",
       "      <th>State</th>\n",
       "      <th>Timezone</th>\n",
       "      <th>Airport_Code</th>\n",
       "      <th>Weather_Timestamp</th>\n",
       "      <th>Temperature(F)</th>\n",
       "      <th>...</th>\n",
       "      <th>Start_Time_no_ext</th>\n",
       "      <th>End_Time_no_ext</th>\n",
       "      <th>Zipcode_no_ext</th>\n",
       "      <th>Airport_Type</th>\n",
       "      <th>Airport_Name</th>\n",
       "      <th>dist_to_weather(mi)</th>\n",
       "      <th>project_time_length</th>\n",
       "      <th>const_total_minutes</th>\n",
       "      <th>start_date</th>\n",
       "      <th>start_time</th>\n",
       "    </tr>\n",
       "  </thead>\n",
       "  <tbody>\n",
       "    <tr>\n",
       "      <th>0</th>\n",
       "      <td>C-2</td>\n",
       "      <td>2</td>\n",
       "      <td>0.433173</td>\n",
       "      <td>Lafayette</td>\n",
       "      <td>Lafayette</td>\n",
       "      <td>LA</td>\n",
       "      <td>US/Central</td>\n",
       "      <td>KLFT</td>\n",
       "      <td>2021-11-12 07:59:00</td>\n",
       "      <td>55.0</td>\n",
       "      <td>...</td>\n",
       "      <td>2021-11-12 07:59:00</td>\n",
       "      <td>2021-11-12 08:22:30</td>\n",
       "      <td>70501</td>\n",
       "      <td>large_airport</td>\n",
       "      <td>Lafayette Regional Airport</td>\n",
       "      <td>1.673991</td>\n",
       "      <td>0 days 00:23:30</td>\n",
       "      <td>23.500000</td>\n",
       "      <td>2021-11-12</td>\n",
       "      <td>07:59:00</td>\n",
       "    </tr>\n",
       "    <tr>\n",
       "      <th>1</th>\n",
       "      <td>C-3</td>\n",
       "      <td>2</td>\n",
       "      <td>0.192266</td>\n",
       "      <td>Denver</td>\n",
       "      <td>Denver</td>\n",
       "      <td>CO</td>\n",
       "      <td>US/Mountain</td>\n",
       "      <td>KBKF</td>\n",
       "      <td>2021-10-12 06:58:00</td>\n",
       "      <td>37.0</td>\n",
       "      <td>...</td>\n",
       "      <td>2021-10-12 07:17:30</td>\n",
       "      <td>2021-10-12 09:18:55</td>\n",
       "      <td>80224</td>\n",
       "      <td>medium_airport</td>\n",
       "      <td>Buckley Air Force Base</td>\n",
       "      <td>9.058579</td>\n",
       "      <td>0 days 02:01:25</td>\n",
       "      <td>121.416667</td>\n",
       "      <td>2021-10-12</td>\n",
       "      <td>07:17:30</td>\n",
       "    </tr>\n",
       "    <tr>\n",
       "      <th>2</th>\n",
       "      <td>C-4</td>\n",
       "      <td>4</td>\n",
       "      <td>0.032112</td>\n",
       "      <td>Whittier</td>\n",
       "      <td>Los Angeles</td>\n",
       "      <td>CA</td>\n",
       "      <td>US/Pacific</td>\n",
       "      <td>KFUL</td>\n",
       "      <td>2021-02-10 02:53:00</td>\n",
       "      <td>54.0</td>\n",
       "      <td>...</td>\n",
       "      <td>2021-02-10 02:46:10</td>\n",
       "      <td>2021-02-17 23:59:00</td>\n",
       "      <td>90605</td>\n",
       "      <td>small_airport</td>\n",
       "      <td>Fullerton Municipal Airport</td>\n",
       "      <td>6.800913</td>\n",
       "      <td>7 days 21:12:50</td>\n",
       "      <td>11352.833333</td>\n",
       "      <td>2021-02-10</td>\n",
       "      <td>02:46:10</td>\n",
       "    </tr>\n",
       "    <tr>\n",
       "      <th>3</th>\n",
       "      <td>C-5</td>\n",
       "      <td>2</td>\n",
       "      <td>0.996057</td>\n",
       "      <td>Connellsville</td>\n",
       "      <td>Fayette</td>\n",
       "      <td>PA</td>\n",
       "      <td>US/Eastern</td>\n",
       "      <td>KLBE</td>\n",
       "      <td>2020-09-24 15:53:00</td>\n",
       "      <td>73.0</td>\n",
       "      <td>...</td>\n",
       "      <td>2020-09-24 15:58:00</td>\n",
       "      <td>2020-09-25 21:04:54</td>\n",
       "      <td>15425</td>\n",
       "      <td>medium_airport</td>\n",
       "      <td>Arnold Palmer Regional Airport</td>\n",
       "      <td>21.136875</td>\n",
       "      <td>1 days 05:06:54</td>\n",
       "      <td>1746.900000</td>\n",
       "      <td>2020-09-24</td>\n",
       "      <td>15:58:00</td>\n",
       "    </tr>\n",
       "    <tr>\n",
       "      <th>4</th>\n",
       "      <td>C-6</td>\n",
       "      <td>2</td>\n",
       "      <td>0.747595</td>\n",
       "      <td>Dallas</td>\n",
       "      <td>Dallas</td>\n",
       "      <td>TX</td>\n",
       "      <td>US/Central</td>\n",
       "      <td>KDAL</td>\n",
       "      <td>2021-06-08 21:53:00</td>\n",
       "      <td>84.0</td>\n",
       "      <td>...</td>\n",
       "      <td>2021-06-08 21:35:00</td>\n",
       "      <td>2021-06-08 22:04:00</td>\n",
       "      <td>75247</td>\n",
       "      <td>large_airport</td>\n",
       "      <td>Dallas Love Field</td>\n",
       "      <td>2.452856</td>\n",
       "      <td>0 days 00:29:00</td>\n",
       "      <td>29.000000</td>\n",
       "      <td>2021-06-08</td>\n",
       "      <td>21:35:00</td>\n",
       "    </tr>\n",
       "  </tbody>\n",
       "</table>\n",
       "<p>5 rows × 24 columns</p>\n",
       "</div>"
      ],
      "text/plain": [
       "    ID  Severity  Distance(mi)           City       County State     Timezone  \\\n",
       "0  C-2         2      0.433173      Lafayette    Lafayette    LA   US/Central   \n",
       "1  C-3         2      0.192266         Denver       Denver    CO  US/Mountain   \n",
       "2  C-4         4      0.032112       Whittier  Los Angeles    CA   US/Pacific   \n",
       "3  C-5         2      0.996057  Connellsville      Fayette    PA   US/Eastern   \n",
       "4  C-6         2      0.747595         Dallas       Dallas    TX   US/Central   \n",
       "\n",
       "  Airport_Code    Weather_Timestamp  Temperature(F)  ...    Start_Time_no_ext  \\\n",
       "0         KLFT  2021-11-12 07:59:00            55.0  ...  2021-11-12 07:59:00   \n",
       "1         KBKF  2021-10-12 06:58:00            37.0  ...  2021-10-12 07:17:30   \n",
       "2         KFUL  2021-02-10 02:53:00            54.0  ...  2021-02-10 02:46:10   \n",
       "3         KLBE  2020-09-24 15:53:00            73.0  ...  2020-09-24 15:58:00   \n",
       "4         KDAL  2021-06-08 21:53:00            84.0  ...  2021-06-08 21:35:00   \n",
       "\n",
       "       End_Time_no_ext  Zipcode_no_ext    Airport_Type  \\\n",
       "0  2021-11-12 08:22:30           70501   large_airport   \n",
       "1  2021-10-12 09:18:55           80224  medium_airport   \n",
       "2  2021-02-17 23:59:00           90605   small_airport   \n",
       "3  2020-09-25 21:04:54           15425  medium_airport   \n",
       "4  2021-06-08 22:04:00           75247   large_airport   \n",
       "\n",
       "                     Airport_Name dist_to_weather(mi)  project_time_length  \\\n",
       "0      Lafayette Regional Airport            1.673991      0 days 00:23:30   \n",
       "1          Buckley Air Force Base            9.058579      0 days 02:01:25   \n",
       "2     Fullerton Municipal Airport            6.800913      7 days 21:12:50   \n",
       "3  Arnold Palmer Regional Airport           21.136875      1 days 05:06:54   \n",
       "4               Dallas Love Field            2.452856      0 days 00:29:00   \n",
       "\n",
       "  const_total_minutes  start_date  start_time  \n",
       "0           23.500000  2021-11-12    07:59:00  \n",
       "1          121.416667  2021-10-12    07:17:30  \n",
       "2        11352.833333  2021-02-10    02:46:10  \n",
       "3         1746.900000  2020-09-24    15:58:00  \n",
       "4           29.000000  2021-06-08    21:35:00  \n",
       "\n",
       "[5 rows x 24 columns]"
      ]
     },
     "execution_count": 8,
     "metadata": {},
     "output_type": "execute_result"
    }
   ],
   "source": [
    "df.head()"
   ]
  },
  {
   "cell_type": "code",
   "execution_count": 9,
   "id": "cb9010f1",
   "metadata": {},
   "outputs": [
    {
     "data": {
      "text/plain": [
       "2021-02-16    17962\n",
       "2021-10-26    16928\n",
       "2021-12-17    16386\n",
       "2021-09-24    15711\n",
       "2021-11-19    15424\n",
       "              ...  \n",
       "2016-01-05        1\n",
       "2016-01-07        1\n",
       "2016-01-09        1\n",
       "2016-01-18        1\n",
       "2016-01-28        1\n",
       "Name: start_date, Length: 2177, dtype: int64"
      ]
     },
     "execution_count": 9,
     "metadata": {},
     "output_type": "execute_result"
    }
   ],
   "source": [
    "df['start_date'].value_counts()"
   ]
  },
  {
   "cell_type": "markdown",
   "id": "c61a4186",
   "metadata": {},
   "source": [
    "# 02 subsetting, wrangling, and cleaning data"
   ]
  },
  {
   "cell_type": "code",
   "execution_count": 10,
   "id": "7079b894",
   "metadata": {},
   "outputs": [],
   "source": [
    "#create new df with only needed columns\n",
    "df_ts = df[['start_date', 'Distance(mi)']]"
   ]
  },
  {
   "cell_type": "code",
   "execution_count": 11,
   "id": "79decb02",
   "metadata": {},
   "outputs": [
    {
     "data": {
      "text/html": [
       "<div>\n",
       "<style scoped>\n",
       "    .dataframe tbody tr th:only-of-type {\n",
       "        vertical-align: middle;\n",
       "    }\n",
       "\n",
       "    .dataframe tbody tr th {\n",
       "        vertical-align: top;\n",
       "    }\n",
       "\n",
       "    .dataframe thead th {\n",
       "        text-align: right;\n",
       "    }\n",
       "</style>\n",
       "<table border=\"1\" class=\"dataframe\">\n",
       "  <thead>\n",
       "    <tr style=\"text-align: right;\">\n",
       "      <th></th>\n",
       "      <th>start_date</th>\n",
       "      <th>Distance(mi)</th>\n",
       "      <th>start_date_datetime</th>\n",
       "    </tr>\n",
       "  </thead>\n",
       "  <tbody>\n",
       "    <tr>\n",
       "      <th>0</th>\n",
       "      <td>2021-11-12</td>\n",
       "      <td>0.433173</td>\n",
       "      <td>2021-11-12</td>\n",
       "    </tr>\n",
       "    <tr>\n",
       "      <th>1</th>\n",
       "      <td>2021-10-12</td>\n",
       "      <td>0.192266</td>\n",
       "      <td>2021-10-12</td>\n",
       "    </tr>\n",
       "    <tr>\n",
       "      <th>2</th>\n",
       "      <td>2021-02-10</td>\n",
       "      <td>0.032112</td>\n",
       "      <td>2021-02-10</td>\n",
       "    </tr>\n",
       "    <tr>\n",
       "      <th>3</th>\n",
       "      <td>2020-09-24</td>\n",
       "      <td>0.996057</td>\n",
       "      <td>2020-09-24</td>\n",
       "    </tr>\n",
       "    <tr>\n",
       "      <th>4</th>\n",
       "      <td>2021-06-08</td>\n",
       "      <td>0.747595</td>\n",
       "      <td>2021-06-08</td>\n",
       "    </tr>\n",
       "  </tbody>\n",
       "</table>\n",
       "</div>"
      ],
      "text/plain": [
       "   start_date  Distance(mi) start_date_datetime\n",
       "0  2021-11-12      0.433173          2021-11-12\n",
       "1  2021-10-12      0.192266          2021-10-12\n",
       "2  2021-02-10      0.032112          2021-02-10\n",
       "3  2020-09-24      0.996057          2020-09-24\n",
       "4  2021-06-08      0.747595          2021-06-08"
      ]
     },
     "execution_count": 11,
     "metadata": {},
     "output_type": "execute_result"
    }
   ],
   "source": [
    "from datetime import datetime\n",
    "\n",
    "#make new column 'start_date_datetime' type datetime out of 'start_date' for time series analysis\n",
    "\n",
    "df_ts['start_date_datetime'] = pd.to_datetime(df_ts['start_date'])\n",
    "df_ts.head()"
   ]
  },
  {
   "cell_type": "code",
   "execution_count": 12,
   "id": "996fd119",
   "metadata": {},
   "outputs": [
    {
     "data": {
      "text/plain": [
       "start_date                     object\n",
       "Distance(mi)                  float64\n",
       "start_date_datetime    datetime64[ns]\n",
       "dtype: object"
      ]
     },
     "execution_count": 12,
     "metadata": {},
     "output_type": "execute_result"
    }
   ],
   "source": [
    "df_ts.dtypes"
   ]
  },
  {
   "cell_type": "markdown",
   "id": "b41e5d83",
   "metadata": {},
   "source": [
    "I am creating quarter-year groupings to minimize the number of records (5,153,650) and will use this column as the index."
   ]
  },
  {
   "cell_type": "code",
   "execution_count": 13,
   "id": "1a46a00d",
   "metadata": {},
   "outputs": [],
   "source": [
    "# make quarters for 2016\n",
    "df_ts.loc[(df_ts['start_date_datetime']>='2016-01-01') & (df_ts['start_date_datetime']<'2016-04-01'), 'quarter'] = '2016-01-01'\n",
    "df_ts.loc[(df_ts['start_date_datetime']>='2016-04-01') & (df_ts['start_date_datetime']<'2016-07-01'), 'quarter'] = '2016-04-01'\n",
    "df_ts.loc[(df_ts['start_date_datetime']>='2016-07-01') & (df_ts['start_date_datetime']<'2016-10-01'), 'quarter'] = '2016-07-01'\n",
    "df_ts.loc[(df_ts['start_date_datetime']>='2016-10-01') & (df_ts['start_date_datetime']<'2017-01-01'), 'quarter'] = '2016-10-01'"
   ]
  },
  {
   "cell_type": "code",
   "execution_count": 14,
   "id": "1e676803",
   "metadata": {},
   "outputs": [],
   "source": [
    "# make quarters for 2017\n",
    "df_ts.loc[(df_ts['start_date_datetime']>='2017-01-01') & (df_ts['start_date_datetime']<'2017-04-01'), 'quarter'] = '2017-01-01'\n",
    "df_ts.loc[(df_ts['start_date_datetime']>='2017-04-01') & (df_ts['start_date_datetime']<'2017-07-01'), 'quarter'] = '2017-04-01'\n",
    "df_ts.loc[(df_ts['start_date_datetime']>='2017-07-01') & (df_ts['start_date_datetime']<'2017-10-01'), 'quarter'] = '2017-07-01'\n",
    "df_ts.loc[(df_ts['start_date_datetime']>='2017-10-01') & (df_ts['start_date_datetime']<'2018-01-01'), 'quarter'] = '2017-10-01'"
   ]
  },
  {
   "cell_type": "code",
   "execution_count": 15,
   "id": "4d3ecf58",
   "metadata": {},
   "outputs": [],
   "source": [
    "# make quarters for 2018\n",
    "df_ts.loc[(df_ts['start_date_datetime']>='2018-01-01') & (df_ts['start_date_datetime']<'2018-04-01'), 'quarter'] = '2018-01-01'\n",
    "df_ts.loc[(df_ts['start_date_datetime']>='2018-04-01') & (df_ts['start_date_datetime']<'2018-07-01'), 'quarter'] = '2018-04-01'\n",
    "df_ts.loc[(df_ts['start_date_datetime']>='2018-07-01') & (df_ts['start_date_datetime']<'2018-10-01'), 'quarter'] = '2018-07-01'\n",
    "df_ts.loc[(df_ts['start_date_datetime']>='2018-10-01') & (df_ts['start_date_datetime']<'2019-01-01'), 'quarter'] = '2018-10-01'"
   ]
  },
  {
   "cell_type": "code",
   "execution_count": 16,
   "id": "a4c5585f",
   "metadata": {},
   "outputs": [],
   "source": [
    "# make quarters for 2019\n",
    "df_ts.loc[(df_ts['start_date_datetime']>='2019-01-01') & (df_ts['start_date_datetime']<'2019-04-01'), 'quarter'] = '2019-01-01'\n",
    "df_ts.loc[(df_ts['start_date_datetime']>='2019-04-01') & (df_ts['start_date_datetime']<'2019-07-01'), 'quarter'] = '2019-04-01'\n",
    "df_ts.loc[(df_ts['start_date_datetime']>='2019-07-01') & (df_ts['start_date_datetime']<'2019-10-01'), 'quarter'] = '2019-07-01'\n",
    "df_ts.loc[(df_ts['start_date_datetime']>='2019-10-01') & (df_ts['start_date_datetime']<'2020-01-01'), 'quarter'] = '2019-10-01'"
   ]
  },
  {
   "cell_type": "code",
   "execution_count": 17,
   "id": "52a305ae",
   "metadata": {},
   "outputs": [],
   "source": [
    "# make quarters for 2020\n",
    "df_ts.loc[(df_ts['start_date_datetime']>='2020-01-01') & (df_ts['start_date_datetime']<'2020-04-01'), 'quarter'] = '2020-01-01'\n",
    "df_ts.loc[(df_ts['start_date_datetime']>='2020-04-01') & (df_ts['start_date_datetime']<'2020-07-01'), 'quarter'] = '2020-04-01'\n",
    "df_ts.loc[(df_ts['start_date_datetime']>='2020-07-01') & (df_ts['start_date_datetime']<'2020-10-01'), 'quarter'] = '2020-07-01'\n",
    "df_ts.loc[(df_ts['start_date_datetime']>='2020-10-01') & (df_ts['start_date_datetime']<'2021-01-01'), 'quarter'] = '2020-10-01'"
   ]
  },
  {
   "cell_type": "code",
   "execution_count": 18,
   "id": "07137013",
   "metadata": {},
   "outputs": [],
   "source": [
    "# make quarters for 2021\n",
    "df_ts.loc[(df_ts['start_date_datetime']>='2021-01-01') & (df_ts['start_date_datetime']<'2021-04-01'), 'quarter'] = '2021-01-01'\n",
    "df_ts.loc[(df_ts['start_date_datetime']>='2021-04-01') & (df_ts['start_date_datetime']<'2021-07-01'), 'quarter'] = '2021-04-01'\n",
    "df_ts.loc[(df_ts['start_date_datetime']>='2021-07-01') & (df_ts['start_date_datetime']<'2021-10-01'), 'quarter'] = '2021-07-01'\n",
    "df_ts.loc[(df_ts['start_date_datetime']>='2021-10-01') & (df_ts['start_date_datetime']<'2022-01-01'), 'quarter'] = '2021-10-01'"
   ]
  },
  {
   "cell_type": "code",
   "execution_count": 19,
   "id": "b2172a9f",
   "metadata": {},
   "outputs": [
    {
     "data": {
      "text/html": [
       "<div>\n",
       "<style scoped>\n",
       "    .dataframe tbody tr th:only-of-type {\n",
       "        vertical-align: middle;\n",
       "    }\n",
       "\n",
       "    .dataframe tbody tr th {\n",
       "        vertical-align: top;\n",
       "    }\n",
       "\n",
       "    .dataframe thead th {\n",
       "        text-align: right;\n",
       "    }\n",
       "</style>\n",
       "<table border=\"1\" class=\"dataframe\">\n",
       "  <thead>\n",
       "    <tr style=\"text-align: right;\">\n",
       "      <th></th>\n",
       "      <th>start_date</th>\n",
       "      <th>Distance(mi)</th>\n",
       "      <th>start_date_datetime</th>\n",
       "      <th>quarter</th>\n",
       "    </tr>\n",
       "  </thead>\n",
       "  <tbody>\n",
       "    <tr>\n",
       "      <th>0</th>\n",
       "      <td>2021-11-12</td>\n",
       "      <td>0.433173</td>\n",
       "      <td>2021-11-12</td>\n",
       "      <td>2021-10-01</td>\n",
       "    </tr>\n",
       "    <tr>\n",
       "      <th>1</th>\n",
       "      <td>2021-10-12</td>\n",
       "      <td>0.192266</td>\n",
       "      <td>2021-10-12</td>\n",
       "      <td>2021-10-01</td>\n",
       "    </tr>\n",
       "    <tr>\n",
       "      <th>2</th>\n",
       "      <td>2021-02-10</td>\n",
       "      <td>0.032112</td>\n",
       "      <td>2021-02-10</td>\n",
       "      <td>2021-01-01</td>\n",
       "    </tr>\n",
       "    <tr>\n",
       "      <th>3</th>\n",
       "      <td>2020-09-24</td>\n",
       "      <td>0.996057</td>\n",
       "      <td>2020-09-24</td>\n",
       "      <td>2020-07-01</td>\n",
       "    </tr>\n",
       "    <tr>\n",
       "      <th>4</th>\n",
       "      <td>2021-06-08</td>\n",
       "      <td>0.747595</td>\n",
       "      <td>2021-06-08</td>\n",
       "      <td>2021-04-01</td>\n",
       "    </tr>\n",
       "  </tbody>\n",
       "</table>\n",
       "</div>"
      ],
      "text/plain": [
       "   start_date  Distance(mi) start_date_datetime     quarter\n",
       "0  2021-11-12      0.433173          2021-11-12  2021-10-01\n",
       "1  2021-10-12      0.192266          2021-10-12  2021-10-01\n",
       "2  2021-02-10      0.032112          2021-02-10  2021-01-01\n",
       "3  2020-09-24      0.996057          2020-09-24  2020-07-01\n",
       "4  2021-06-08      0.747595          2021-06-08  2021-04-01"
      ]
     },
     "execution_count": 19,
     "metadata": {},
     "output_type": "execute_result"
    }
   ],
   "source": [
    "df_ts.head()"
   ]
  },
  {
   "cell_type": "code",
   "execution_count": 20,
   "id": "5efb06b8",
   "metadata": {},
   "outputs": [],
   "source": [
    "#create new df for just quarter-years and distance\n",
    "df_ts2 = df_ts[['quarter', 'Distance(mi)']]"
   ]
  },
  {
   "cell_type": "code",
   "execution_count": 21,
   "id": "1a2c9780",
   "metadata": {},
   "outputs": [],
   "source": [
    "df_ts2['quarter'] = pd.to_datetime(df_ts2['quarter'])"
   ]
  },
  {
   "cell_type": "code",
   "execution_count": 22,
   "id": "b0e782f0",
   "metadata": {},
   "outputs": [
    {
     "data": {
      "text/plain": [
       "quarter         datetime64[ns]\n",
       "Distance(mi)           float64\n",
       "dtype: object"
      ]
     },
     "execution_count": 22,
     "metadata": {},
     "output_type": "execute_result"
    }
   ],
   "source": [
    "df_ts2.dtypes"
   ]
  },
  {
   "cell_type": "code",
   "execution_count": 23,
   "id": "324c9a5d",
   "metadata": {},
   "outputs": [],
   "source": [
    "#create index on the 'quarter' variable\n",
    "df_ts2= df_ts2.set_index('quarter')\n"
   ]
  },
  {
   "cell_type": "code",
   "execution_count": 24,
   "id": "a1e7d839",
   "metadata": {},
   "outputs": [
    {
     "data": {
      "text/html": [
       "<div>\n",
       "<style scoped>\n",
       "    .dataframe tbody tr th:only-of-type {\n",
       "        vertical-align: middle;\n",
       "    }\n",
       "\n",
       "    .dataframe tbody tr th {\n",
       "        vertical-align: top;\n",
       "    }\n",
       "\n",
       "    .dataframe thead th {\n",
       "        text-align: right;\n",
       "    }\n",
       "</style>\n",
       "<table border=\"1\" class=\"dataframe\">\n",
       "  <thead>\n",
       "    <tr style=\"text-align: right;\">\n",
       "      <th></th>\n",
       "      <th>Distance(mi)</th>\n",
       "    </tr>\n",
       "    <tr>\n",
       "      <th>quarter</th>\n",
       "      <th></th>\n",
       "    </tr>\n",
       "  </thead>\n",
       "  <tbody>\n",
       "    <tr>\n",
       "      <th>2016-01-01</th>\n",
       "      <td>0.010000</td>\n",
       "    </tr>\n",
       "    <tr>\n",
       "      <th>2016-01-01</th>\n",
       "      <td>0.995633</td>\n",
       "    </tr>\n",
       "    <tr>\n",
       "      <th>2016-01-01</th>\n",
       "      <td>0.827209</td>\n",
       "    </tr>\n",
       "    <tr>\n",
       "      <th>2016-01-01</th>\n",
       "      <td>46.280000</td>\n",
       "    </tr>\n",
       "    <tr>\n",
       "      <th>2016-01-01</th>\n",
       "      <td>0.775782</td>\n",
       "    </tr>\n",
       "    <tr>\n",
       "      <th>...</th>\n",
       "      <td>...</td>\n",
       "    </tr>\n",
       "    <tr>\n",
       "      <th>2021-10-01</th>\n",
       "      <td>0.600160</td>\n",
       "    </tr>\n",
       "    <tr>\n",
       "      <th>2021-10-01</th>\n",
       "      <td>0.093912</td>\n",
       "    </tr>\n",
       "    <tr>\n",
       "      <th>2021-10-01</th>\n",
       "      <td>0.392033</td>\n",
       "    </tr>\n",
       "    <tr>\n",
       "      <th>2021-10-01</th>\n",
       "      <td>1.200000</td>\n",
       "    </tr>\n",
       "    <tr>\n",
       "      <th>2021-10-01</th>\n",
       "      <td>2.722803</td>\n",
       "    </tr>\n",
       "  </tbody>\n",
       "</table>\n",
       "<p>5153650 rows × 1 columns</p>\n",
       "</div>"
      ],
      "text/plain": [
       "            Distance(mi)\n",
       "quarter                 \n",
       "2016-01-01      0.010000\n",
       "2016-01-01      0.995633\n",
       "2016-01-01      0.827209\n",
       "2016-01-01     46.280000\n",
       "2016-01-01      0.775782\n",
       "...                  ...\n",
       "2021-10-01      0.600160\n",
       "2021-10-01      0.093912\n",
       "2021-10-01      0.392033\n",
       "2021-10-01      1.200000\n",
       "2021-10-01      2.722803\n",
       "\n",
       "[5153650 rows x 1 columns]"
      ]
     },
     "execution_count": 24,
     "metadata": {},
     "output_type": "execute_result"
    }
   ],
   "source": [
    "#sort on index ascending\n",
    "df_ts2.sort_index(axis = 0)"
   ]
  },
  {
   "cell_type": "code",
   "execution_count": 28,
   "id": "f1bcb5da",
   "metadata": {},
   "outputs": [],
   "source": [
    "%matplotlib inline"
   ]
  },
  {
   "cell_type": "code",
   "execution_count": 30,
   "id": "3c2e7d31",
   "metadata": {},
   "outputs": [],
   "source": [
    "#create a new df grouped by quarter and getting total distance/quarter\n",
    "df_ts4 = df_ts2.groupby(['quarter']).sum()"
   ]
  },
  {
   "cell_type": "code",
   "execution_count": 31,
   "id": "835b9926",
   "metadata": {},
   "outputs": [
    {
     "data": {
      "text/html": [
       "<div>\n",
       "<style scoped>\n",
       "    .dataframe tbody tr th:only-of-type {\n",
       "        vertical-align: middle;\n",
       "    }\n",
       "\n",
       "    .dataframe tbody tr th {\n",
       "        vertical-align: top;\n",
       "    }\n",
       "\n",
       "    .dataframe thead th {\n",
       "        text-align: right;\n",
       "    }\n",
       "</style>\n",
       "<table border=\"1\" class=\"dataframe\">\n",
       "  <thead>\n",
       "    <tr style=\"text-align: right;\">\n",
       "      <th></th>\n",
       "      <th>Distance(mi)</th>\n",
       "    </tr>\n",
       "    <tr>\n",
       "      <th>quarter</th>\n",
       "      <th></th>\n",
       "    </tr>\n",
       "  </thead>\n",
       "  <tbody>\n",
       "    <tr>\n",
       "      <th>2016-01-01</th>\n",
       "      <td>6790.353928</td>\n",
       "    </tr>\n",
       "    <tr>\n",
       "      <th>2016-04-01</th>\n",
       "      <td>52324.283079</td>\n",
       "    </tr>\n",
       "    <tr>\n",
       "      <th>2016-07-01</th>\n",
       "      <td>111176.711161</td>\n",
       "    </tr>\n",
       "    <tr>\n",
       "      <th>2016-10-01</th>\n",
       "      <td>84382.332644</td>\n",
       "    </tr>\n",
       "    <tr>\n",
       "      <th>2017-01-01</th>\n",
       "      <td>71884.097491</td>\n",
       "    </tr>\n",
       "  </tbody>\n",
       "</table>\n",
       "</div>"
      ],
      "text/plain": [
       "             Distance(mi)\n",
       "quarter                  \n",
       "2016-01-01    6790.353928\n",
       "2016-04-01   52324.283079\n",
       "2016-07-01  111176.711161\n",
       "2016-10-01   84382.332644\n",
       "2017-01-01   71884.097491"
      ]
     },
     "execution_count": 31,
     "metadata": {},
     "output_type": "execute_result"
    }
   ],
   "source": [
    "df_ts4.head()"
   ]
  },
  {
   "cell_type": "code",
   "execution_count": 32,
   "id": "e547aa74",
   "metadata": {},
   "outputs": [
    {
     "data": {
      "text/plain": [
       "Text(0.5, 1.0, 'Total Construction Lengths (miles) 2016-2021')"
      ]
     },
     "execution_count": 32,
     "metadata": {},
     "output_type": "execute_result"
    },
    {
     "data": {
      "image/png": "[encoded data removed]",
      "text/plain": [
       "<Figure size 1500x500 with 1 Axes>"
      ]
     },
     "metadata": {
      "needs_background": "light"
     },
     "output_type": "display_data"
    }
   ],
   "source": [
    "#plot total construction distance\n",
    "plt.figure(figsize = (15,5), dpi = 100)\n",
    "plt.plot(df_ts4)\n",
    "plt.xticks(rotation = 45)\n",
    "plt.title('Total Construction Lengths (miles) 2016-2021')"
   ]
  },
  {
   "cell_type": "code",
   "execution_count": 61,
   "id": "1766b482",
   "metadata": {},
   "outputs": [
    {
     "data": {
      "text/plain": [
       "Distance(mi)    0\n",
       "dtype: int64"
      ]
     },
     "execution_count": 61,
     "metadata": {},
     "output_type": "execute_result"
    }
   ],
   "source": [
    "df_ts4.isnull().sum()\n",
    "#no dups"
   ]
  },
  {
   "cell_type": "code",
   "execution_count": 62,
   "id": "501d48be",
   "metadata": {},
   "outputs": [
    {
     "data": {
      "text/plain": [
       "0"
      ]
     },
     "execution_count": 62,
     "metadata": {},
     "output_type": "execute_result"
    }
   ],
   "source": [
    "dups = df.duplicated()\n",
    "dups.sum()\n",
    "#whole df has no duplicates"
   ]
  },
  {
   "cell_type": "code",
   "execution_count": 63,
   "id": "e8e8e5e6",
   "metadata": {},
   "outputs": [
    {
     "data": {
      "text/plain": [
       "0"
      ]
     },
     "execution_count": 63,
     "metadata": {},
     "output_type": "execute_result"
    }
   ],
   "source": [
    "dups2 = df_ts4.duplicated()\n",
    "dups2.sum()\n",
    "#subset df_ts4 has no duplicates either"
   ]
  },
  {
   "cell_type": "markdown",
   "id": "4c41a907",
   "metadata": {},
   "source": [
    "# 03 time series analysis: decomposition"
   ]
  },
  {
   "cell_type": "code",
   "execution_count": 64,
   "id": "f596ed77",
   "metadata": {},
   "outputs": [],
   "source": [
    "#decompose the time series using an additive model since the plot seems linear (positive) trend\n",
    "decomposition = sm.tsa.seasonal_decompose(df_ts4, model = 'additive')"
   ]
  },
  {
   "cell_type": "code",
   "execution_count": 65,
   "id": "69455e55",
   "metadata": {},
   "outputs": [],
   "source": [
    "#this defines a fixed size for all special charts\n",
    "\n",
    "from pylab import rcParams\n",
    "\n",
    "rcParams['figure.figsize'] = 18, 7"
   ]
  },
  {
   "cell_type": "code",
   "execution_count": 51,
   "id": "8a3face7",
   "metadata": {},
   "outputs": [
    {
     "data": {
      "text/plain": [
       "<function matplotlib.pyplot.show(close=None, block=None)>"
      ]
     },
     "execution_count": 51,
     "metadata": {},
     "output_type": "execute_result"
    },
    {
     "data": {
      "image/png": "[encoded data removed]",
      "text/plain": [
       "<Figure size 1296x504 with 4 Axes>"
      ]
     },
     "metadata": {
      "needs_background": "light"
     },
     "output_type": "display_data"
    }
   ],
   "source": [
    "#plot separate components\n",
    "decomposition.plot()\n",
    "plt.show"
   ]
  },
  {
   "cell_type": "markdown",
   "id": "822110c7",
   "metadata": {},
   "source": [
    "The first plot shows the original line chart of the total construction in miles from 2016-2021 represented quarterly.\n",
    "The second plot is the overall trend of the data, which is increasing. (implying that since there is an increasing trend and seasonality, this is a non-stationary time series).\n",
    "The third plot shows the seasonality of the data that occurs each year. In this case, it seems as though for the first quarter, construction distances increase in the 2nd quarter and fall for the remainder of the year. The first quarter seems to be the least construction.\n",
    "The last plot is the \"noise\" or \"residual\". The points that are not on the line represent values that are not explained by the trend and the seasonality."
   ]
  },
  {
   "cell_type": "markdown",
   "id": "af6e4561",
   "metadata": {},
   "source": [
    "# 04 testing for stationarity"
   ]
  },
  {
   "cell_type": "code",
   "execution_count": 52,
   "id": "c6565ca9",
   "metadata": {},
   "outputs": [
    {
     "name": "stdout",
     "output_type": "stream",
     "text": [
      "Dickey-Fuller Stationarity test:\n",
      "Test Statistic                  0.776708\n",
      "p-value                         0.991251\n",
      "Number of Lags Used             8.000000\n",
      "Number of Observations Used    15.000000\n",
      "Critical Value (1%)            -3.964443\n",
      "Critical Value (5%)            -3.084908\n",
      "Critical Value (10%)           -2.681814\n",
      "dtype: float64\n"
     ]
    }
   ],
   "source": [
    "# The adfuller() function will import from the model from statsmodels for the test; however, running it will only return \n",
    "# an array of numbers. This is why you need to also define a function that prints the correct output from that array.\n",
    "\n",
    "from statsmodels.tsa.stattools import adfuller\n",
    "\n",
    "def dickey_fuller(timeseries): #this defines this function\n",
    "    print ('Dickey-Fuller Stationarity test:')\n",
    "    #this 'adfuller' performs the dickey-fuller test:\n",
    "    test = adfuller(timeseries, autolag='AIC')\n",
    "    result = pd.Series(test[0:4], index = ['Test Statistic', 'p-value', 'Number of Lags Used', 'Number of Observations Used'])\n",
    "    for key, value in test[4].items():\n",
    "        result['Critical Value (%s)'%key] = value\n",
    "    print (result)\n",
    "\n",
    "dickey_fuller(df_ts4['Distance(mi)'])"
   ]
  },
  {
   "cell_type": "markdown",
   "id": "dac5b49f",
   "metadata": {},
   "source": [
    "The Dickey-Fuller test checks for the presence of a unit root (a random jump that cannot be explained by variation in the data).\n",
    "The null hypothesis is that there is a unit root (a random jump that cannot be explained by variation in the data).\n",
    "The alternate hypothesis is that there is no unit root.\n",
    "Since the test statistic is larger than all critical values, I cannot reject the null hypothesis, so there is a unit root in this data and this data is non-stationary.\n",
    "Further, the p-value that is acceptable is less than .05 to be able to say that the probability of observing the test statistic is probable, and this is clearly not even close at 0.99."
   ]
  },
  {
   "cell_type": "code",
   "execution_count": 53,
   "id": "d85809bc",
   "metadata": {},
   "outputs": [
    {
     "data": {
      "image/png": "[encoded data removed]",
      "text/plain": [
       "<Figure size 1296x504 with 1 Axes>"
      ]
     },
     "metadata": {
      "needs_background": "light"
     },
     "output_type": "display_data"
    }
   ],
   "source": [
    "#plot of auto-correlations\n",
    "from statsmodels.graphics.tsaplots import plot_acf, plot_pacf\n",
    "\n",
    "plot_acf(df_ts4)\n",
    "plt.show()"
   ]
  },
  {
   "cell_type": "markdown",
   "id": "125e3f1d",
   "metadata": {},
   "source": [
    "# 05 stationarizing the US Construction data"
   ]
  },
  {
   "cell_type": "code",
   "execution_count": 54,
   "id": "5f2b86cc",
   "metadata": {},
   "outputs": [],
   "source": [
    "data_diff = df_ts4 - df_ts4.shift(1)"
   ]
  },
  {
   "cell_type": "code",
   "execution_count": 55,
   "id": "f2d22e1d",
   "metadata": {},
   "outputs": [],
   "source": [
    "#removing the missing values that came about as a result of the differencing\n",
    "#these must be removed or I cannot run dickey-fuller test\n",
    "data_diff.dropna(inplace = True)\n"
   ]
  },
  {
   "cell_type": "code",
   "execution_count": 56,
   "id": "ca1aad44",
   "metadata": {},
   "outputs": [
    {
     "data": {
      "text/html": [
       "<div>\n",
       "<style scoped>\n",
       "    .dataframe tbody tr th:only-of-type {\n",
       "        vertical-align: middle;\n",
       "    }\n",
       "\n",
       "    .dataframe tbody tr th {\n",
       "        vertical-align: top;\n",
       "    }\n",
       "\n",
       "    .dataframe thead th {\n",
       "        text-align: right;\n",
       "    }\n",
       "</style>\n",
       "<table border=\"1\" class=\"dataframe\">\n",
       "  <thead>\n",
       "    <tr style=\"text-align: right;\">\n",
       "      <th></th>\n",
       "      <th>Distance(mi)</th>\n",
       "    </tr>\n",
       "    <tr>\n",
       "      <th>quarter</th>\n",
       "      <th></th>\n",
       "    </tr>\n",
       "  </thead>\n",
       "  <tbody>\n",
       "    <tr>\n",
       "      <th>2016-04-01</th>\n",
       "      <td>45533.929152</td>\n",
       "    </tr>\n",
       "    <tr>\n",
       "      <th>2016-07-01</th>\n",
       "      <td>58852.428081</td>\n",
       "    </tr>\n",
       "    <tr>\n",
       "      <th>2016-10-01</th>\n",
       "      <td>-26794.378517</td>\n",
       "    </tr>\n",
       "    <tr>\n",
       "      <th>2017-01-01</th>\n",
       "      <td>-12498.235153</td>\n",
       "    </tr>\n",
       "    <tr>\n",
       "      <th>2017-04-01</th>\n",
       "      <td>55918.512625</td>\n",
       "    </tr>\n",
       "  </tbody>\n",
       "</table>\n",
       "</div>"
      ],
      "text/plain": [
       "            Distance(mi)\n",
       "quarter                 \n",
       "2016-04-01  45533.929152\n",
       "2016-07-01  58852.428081\n",
       "2016-10-01 -26794.378517\n",
       "2017-01-01 -12498.235153\n",
       "2017-04-01  55918.512625"
      ]
     },
     "execution_count": 56,
     "metadata": {},
     "output_type": "execute_result"
    }
   ],
   "source": [
    "data_diff.head()"
   ]
  },
  {
   "cell_type": "code",
   "execution_count": 57,
   "id": "dd3ac8db",
   "metadata": {},
   "outputs": [
    {
     "data": {
      "text/plain": [
       "Index(['Distance(mi)'], dtype='object')"
      ]
     },
     "execution_count": 57,
     "metadata": {},
     "output_type": "execute_result"
    }
   ],
   "source": [
    "data_diff.columns"
   ]
  },
  {
   "cell_type": "code",
   "execution_count": 58,
   "id": "b323182a",
   "metadata": {},
   "outputs": [
    {
     "data": {
      "text/plain": [
       "[<matplotlib.lines.Line2D at 0x267ddc0df40>]"
      ]
     },
     "execution_count": 58,
     "metadata": {},
     "output_type": "execute_result"
    },
    {
     "data": {
      "image/png": "[encoded data removed]",
      "text/plain": [
       "<Figure size 1500x500 with 1 Axes>"
      ]
     },
     "metadata": {
      "needs_background": "light"
     },
     "output_type": "display_data"
    }
   ],
   "source": [
    "plt.figure(figsize = (15,5), dpi = 100)\n",
    "plt.plot(data_diff)"
   ]
  },
  {
   "cell_type": "code",
   "execution_count": 59,
   "id": "288ca5ae",
   "metadata": {},
   "outputs": [
    {
     "name": "stdout",
     "output_type": "stream",
     "text": [
      "Dickey-Fuller Stationarity test:\n",
      "Test Statistic                 -0.670626\n",
      "p-value                         0.854212\n",
      "Number of Lags Used             9.000000\n",
      "Number of Observations Used    13.000000\n",
      "Critical Value (1%)            -4.068854\n",
      "Critical Value (5%)            -3.127149\n",
      "Critical Value (10%)           -2.701730\n",
      "dtype: float64\n"
     ]
    }
   ],
   "source": [
    "dickey_fuller(data_diff)"
   ]
  },
  {
   "cell_type": "markdown",
   "id": "bbd2c5d0",
   "metadata": {},
   "source": [
    "The null hypothesis is that there is a unit root (a random jump that cannot be explained by variation in the data).\n",
    "The alternate hypothesis is that there is no unit root.\n",
    "Since the test statistic is larger than all critical values, I still cannot reject the null hypothesis, so there is a unit root in this data and this data is non-stationary. The p-value is better than 0.99, but is still dismal at 0.85 to say that this statistic is representative of this data. (P-value should be < 0.05)."
   ]
  },
  {
   "cell_type": "code",
   "execution_count": 60,
   "id": "3b008fe8",
   "metadata": {},
   "outputs": [
    {
     "data": {
      "image/png": "[encoded data removed]",
      "text/plain": [
       "<Figure size 1296x504 with 1 Axes>"
      ]
     },
     "metadata": {
      "needs_background": "light"
     },
     "output_type": "display_data"
    }
   ],
   "source": [
    "plot_acf(data_diff)\n",
    "plt.show()"
   ]
  },
  {
   "cell_type": "code",
   "execution_count": 66,
   "id": "543f1836",
   "metadata": {},
   "outputs": [],
   "source": [
    "#data differencing again\n",
    "data_diff2 = data_diff - data_diff.shift(1)"
   ]
  },
  {
   "cell_type": "code",
   "execution_count": 67,
   "id": "c2dfcc53",
   "metadata": {},
   "outputs": [],
   "source": [
    "#removing the missing values that came about as a result of the differencing\n",
    "#these must be removed or I cannot run dickey-fuller test\n",
    "data_diff2.dropna(inplace = True)"
   ]
  },
  {
   "cell_type": "code",
   "execution_count": 69,
   "id": "4163d17a",
   "metadata": {},
   "outputs": [
    {
     "data": {
      "text/html": [
       "<div>\n",
       "<style scoped>\n",
       "    .dataframe tbody tr th:only-of-type {\n",
       "        vertical-align: middle;\n",
       "    }\n",
       "\n",
       "    .dataframe tbody tr th {\n",
       "        vertical-align: top;\n",
       "    }\n",
       "\n",
       "    .dataframe thead th {\n",
       "        text-align: right;\n",
       "    }\n",
       "</style>\n",
       "<table border=\"1\" class=\"dataframe\">\n",
       "  <thead>\n",
       "    <tr style=\"text-align: right;\">\n",
       "      <th></th>\n",
       "      <th>Distance(mi)</th>\n",
       "    </tr>\n",
       "    <tr>\n",
       "      <th>quarter</th>\n",
       "      <th></th>\n",
       "    </tr>\n",
       "  </thead>\n",
       "  <tbody>\n",
       "    <tr>\n",
       "      <th>2016-07-01</th>\n",
       "      <td>13318.498929</td>\n",
       "    </tr>\n",
       "    <tr>\n",
       "      <th>2016-10-01</th>\n",
       "      <td>-85646.806598</td>\n",
       "    </tr>\n",
       "    <tr>\n",
       "      <th>2017-01-01</th>\n",
       "      <td>14296.143364</td>\n",
       "    </tr>\n",
       "    <tr>\n",
       "      <th>2017-04-01</th>\n",
       "      <td>68416.747778</td>\n",
       "    </tr>\n",
       "    <tr>\n",
       "      <th>2017-07-01</th>\n",
       "      <td>17533.372230</td>\n",
       "    </tr>\n",
       "  </tbody>\n",
       "</table>\n",
       "</div>"
      ],
      "text/plain": [
       "            Distance(mi)\n",
       "quarter                 \n",
       "2016-07-01  13318.498929\n",
       "2016-10-01 -85646.806598\n",
       "2017-01-01  14296.143364\n",
       "2017-04-01  68416.747778\n",
       "2017-07-01  17533.372230"
      ]
     },
     "execution_count": 69,
     "metadata": {},
     "output_type": "execute_result"
    }
   ],
   "source": [
    "data_diff2.head()"
   ]
  },
  {
   "cell_type": "code",
   "execution_count": 70,
   "id": "7edc3af1",
   "metadata": {},
   "outputs": [
    {
     "data": {
      "text/plain": [
       "Index(['Distance(mi)'], dtype='object')"
      ]
     },
     "execution_count": 70,
     "metadata": {},
     "output_type": "execute_result"
    }
   ],
   "source": [
    "data_diff2.columns"
   ]
  },
  {
   "cell_type": "code",
   "execution_count": 72,
   "id": "6f9e71d8",
   "metadata": {
    "scrolled": true
   },
   "outputs": [
    {
     "data": {
      "text/plain": [
       "[<matplotlib.lines.Line2D at 0x267de051f40>]"
      ]
     },
     "execution_count": 72,
     "metadata": {},
     "output_type": "execute_result"
    },
    {
     "data": {
      "image/png": "[encoded data removed]",
      "text/plain": [
       "<Figure size 1500x500 with 1 Axes>"
      ]
     },
     "metadata": {
      "needs_background": "light"
     },
     "output_type": "display_data"
    }
   ],
   "source": [
    "plt.figure(figsize = (15,5), dpi = 100)\n",
    "plt.plot(data_diff2)"
   ]
  },
  {
   "cell_type": "code",
   "execution_count": 73,
   "id": "3e5c64e2",
   "metadata": {},
   "outputs": [
    {
     "name": "stdout",
     "output_type": "stream",
     "text": [
      "Dickey-Fuller Stationarity test:\n",
      "Test Statistic                  0.697571\n",
      "p-value                         0.989789\n",
      "Number of Lags Used             9.000000\n",
      "Number of Observations Used    12.000000\n",
      "Critical Value (1%)            -4.137829\n",
      "Critical Value (5%)            -3.154972\n",
      "Critical Value (10%)           -2.714477\n",
      "dtype: float64\n"
     ]
    }
   ],
   "source": [
    "dickey_fuller(data_diff2)"
   ]
  },
  {
   "cell_type": "markdown",
   "id": "be68ce87",
   "metadata": {},
   "source": [
    "The null hypothesis is that there is a unit root (a random jump that cannot be explained by variation in the data).\n",
    "The alternate hypothesis is that there is no unit root.\n",
    "Since the test statistic is still larger than all critical values, I still cannot reject the null hypothesis, so there is a unit root in this data and this data is non-stationary.The p-value is back up to 0.98, so is again, the statistic is unrepresentative of this dataset."
   ]
  },
  {
   "cell_type": "code",
   "execution_count": 74,
   "id": "135a4ff3",
   "metadata": {},
   "outputs": [
    {
     "data": {
      "image/png": "[encoded data removed]",
      "text/plain": [
       "<Figure size 1296x504 with 1 Axes>"
      ]
     },
     "metadata": {
      "needs_background": "light"
     },
     "output_type": "display_data"
    }
   ],
   "source": [
    "plot_acf(data_diff2)\n",
    "plt.show()"
   ]
  },
  {
   "cell_type": "code",
   "execution_count": null,
   "id": "4e69e644",
   "metadata": {},
   "outputs": [],
   "source": []
  }
 ],
 "metadata": {
  "kernelspec": {
   "display_name": "Python 3 (ipykernel)",
   "language": "python",
   "name": "python3"
  },
  "language_info": {
   "codemirror_mode": {
    "name": "ipython",
    "version": 3
   },
   "file_extension": ".py",
   "mimetype": "text/x-python",
   "name": "python",
   "nbconvert_exporter": "python",
   "pygments_lexer": "ipython3",
   "version": "3.9.7"
  }
 },
 "nbformat": 4,
 "nbformat_minor": 5
}
