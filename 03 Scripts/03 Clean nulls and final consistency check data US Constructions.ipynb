{
 "cells": [
  {
   "cell_type": "markdown",
   "id": "56c8b295",
   "metadata": {},
   "source": [
    "## Contents\n",
    "## 01 Import Libraries\n",
    "## 02 Import Data\n",
    "## 03 Null Check & Consistency Checks\n",
    "### a. Wind_Direction column make all capitals/abbreviated\n",
    "### b. Create df_clean with null Wind_Direction records omitted\n",
    "### c. Modify df_clean with null Weather_Condition records omitted\n",
    "### d. Modify df_clean with null City records omitted\n",
    "### e. Check number of records\n",
    "### f. look at each column for value_counts to better understand the data\n",
    "#### - start_time and end_time: made HH:MM:SS and omitted further breakdown of seconds new columns: Start_Time_no_ext and End_Time_no_ext\n",
    "#### - zipcode: omitted the extension, kept only 5 digits new column: Zipcode_no_ext\n",
    "#### - temperature/wind_chill values >= 134 degrees are not possible, so were replaced by NaN, then omitted\n",
    "### g. omit zipcode, start_time, end_time (original, messy) columns\n",
    "## 04 Export clean.csv\n",
    "## 05 Export clean.describe table"
   ]
  },
  {
   "cell_type": "markdown",
   "id": "546109d9",
   "metadata": {},
   "source": [
    "# 01 Import Libraries"
   ]
  },
  {
   "cell_type": "code",
   "execution_count": null,
   "id": "5c2b85eb",
   "metadata": {},
   "outputs": [],
   "source": [
    "# import libraries\n",
    "import pandas as pd\n",
    "import numpy as np\n",
    "import os\n",
    "import matplotlib.pyplot as plt\n",
    "import seaborn as sns\n",
    "import scipy"
   ]
  },
  {
   "cell_type": "markdown",
   "id": "ab171573",
   "metadata": {},
   "source": [
    "# 02 Import Data"
   ]
  },
  {
   "cell_type": "code",
   "execution_count": null,
   "id": "66c1a81e",
   "metadata": {},
   "outputs": [],
   "source": [
    "#import data\n",
    "path = r'C:\\Users\\erhil\\OneDrive\\Career Foundry Program\\Immersion Data Analytics Course\\A6 - Adv. Analytics & Dashboard Design\\Project A6'"
   ]
  },
  {
   "cell_type": "code",
   "execution_count": null,
   "id": "b12fd13f",
   "metadata": {},
   "outputs": [],
   "source": [
    "#import data\n",
    "df = pd.read_csv(os.path.join(path, '02 Data', 'Prepared', 'half_clean2.csv'), index_col = False)"
   ]
  },
  {
   "cell_type": "markdown",
   "id": "0a82396c",
   "metadata": {},
   "source": [
    "# 03 Null & Consistency Checks"
   ]
  },
  {
   "cell_type": "code",
   "execution_count": null,
   "id": "73a86b97",
   "metadata": {},
   "outputs": [],
   "source": [
    "df.shape"
   ]
  },
  {
   "cell_type": "code",
   "execution_count": null,
   "id": "afa566c2",
   "metadata": {},
   "outputs": [],
   "source": [
    "df.isnull().sum()"
   ]
  },
  {
   "cell_type": "code",
   "execution_count": null,
   "id": "805cf2e3",
   "metadata": {},
   "outputs": [],
   "source": [
    "df.head()"
   ]
  },
  {
   "cell_type": "markdown",
   "id": "c939dac9",
   "metadata": {},
   "source": [
    "## a. Clean up Wind_Direction column\n",
    "### use all capitals and abbreviations"
   ]
  },
  {
   "cell_type": "code",
   "execution_count": null,
   "id": "7bf1dfd8",
   "metadata": {},
   "outputs": [],
   "source": [
    "df['Wind_Direction'].value_counts(dropna = False)\n",
    "# change: South to S, North to N, East to E, West to W, Variable to VAR, and Calm to CALM"
   ]
  },
  {
   "cell_type": "code",
   "execution_count": null,
   "id": "adb557b6",
   "metadata": {},
   "outputs": [],
   "source": [
    "df['Wind_Direction'] = df['Wind_Direction'].str.replace('South', 'S')\n",
    "df['Wind_Direction'] = df['Wind_Direction'].str.replace('West', 'W')\n",
    "df['Wind_Direction'] = df['Wind_Direction'].str.replace('North', 'N')\n",
    "df['Wind_Direction'] = df['Wind_Direction'].str.replace('East', 'E')\n",
    "df['Wind_Direction'] = df['Wind_Direction'].str.replace('Variable', 'VAR')\n",
    "df['Wind_Direction'] = df['Wind_Direction'].str.replace('Calm', 'CALM')"
   ]
  },
  {
   "cell_type": "code",
   "execution_count": null,
   "id": "d8709285",
   "metadata": {},
   "outputs": [],
   "source": [
    "df['Wind_Direction'].value_counts(dropna = False)"
   ]
  },
  {
   "cell_type": "markdown",
   "id": "7973f3dd",
   "metadata": {},
   "source": [
    "## b. create df_clean with null Wind_Direction records omitted"
   ]
  },
  {
   "cell_type": "code",
   "execution_count": null,
   "id": "a4b944cd",
   "metadata": {},
   "outputs": [],
   "source": [
    "# Records with NaNs omitted from dataframe: Wind_Direction(62357), Weather_Condition(TBD), City(TBD)\n",
    "df_clean = df[df['Wind_Direction'].isnull()==False]"
   ]
  },
  {
   "cell_type": "code",
   "execution_count": null,
   "id": "29497448",
   "metadata": {},
   "outputs": [],
   "source": [
    "df_clean.shape"
   ]
  },
  {
   "cell_type": "code",
   "execution_count": null,
   "id": "83d9be39",
   "metadata": {},
   "outputs": [],
   "source": [
    "df_clean.isnull().sum()"
   ]
  },
  {
   "cell_type": "markdown",
   "id": "4e06ba2e",
   "metadata": {},
   "source": [
    "## c. modify df_clean with null Weather_Condition records omitted"
   ]
  },
  {
   "cell_type": "code",
   "execution_count": null,
   "id": "02570382",
   "metadata": {},
   "outputs": [],
   "source": [
    "# Records with NaNs omitted from dataframe: Wind_Direction(62357)completed, Weather_Condition(13867), City(TBD)\n",
    "df_clean = df_clean[df_clean['Weather_Condition'].isnull()==False]"
   ]
  },
  {
   "cell_type": "code",
   "execution_count": null,
   "id": "5852bc49",
   "metadata": {},
   "outputs": [],
   "source": [
    "df_clean.shape"
   ]
  },
  {
   "cell_type": "code",
   "execution_count": null,
   "id": "66137a4c",
   "metadata": {},
   "outputs": [],
   "source": [
    "df_clean.isnull().sum()"
   ]
  },
  {
   "cell_type": "markdown",
   "id": "7931a4bb",
   "metadata": {},
   "source": [
    "## d. modify df_clean with null City records omitted"
   ]
  },
  {
   "cell_type": "code",
   "execution_count": null,
   "id": "7f3a1b33",
   "metadata": {},
   "outputs": [],
   "source": [
    "# Records with NaNs omitted from dataframe: Wind_Direction(62357)completed, Weather_Condition(13867)completed,\n",
    "# and City(268)\n",
    "df_clean = df_clean[df_clean['City'].isnull()==False]"
   ]
  },
  {
   "cell_type": "code",
   "execution_count": null,
   "id": "5cfc9224",
   "metadata": {},
   "outputs": [],
   "source": [
    "# in this script, I have omitted 62357 + 13867 + 268 = 76,492 records\n",
    "# total eliminated columns = 76,492 + 529,603 = 606,095 out of 6,170,627 (9.8% of total data)\n",
    "df_clean.isnull().sum()"
   ]
  },
  {
   "cell_type": "code",
   "execution_count": null,
   "id": "3a64007b",
   "metadata": {},
   "outputs": [],
   "source": [
    "df_clean.describe()"
   ]
  },
  {
   "cell_type": "code",
   "execution_count": null,
   "id": "c3dd85e3",
   "metadata": {},
   "outputs": [],
   "source": [
    "df_clean.shape"
   ]
  },
  {
   "cell_type": "code",
   "execution_count": null,
   "id": "e54ae252",
   "metadata": {},
   "outputs": [],
   "source": [
    "df_clean.nunique()\n"
   ]
  },
  {
   "cell_type": "markdown",
   "id": "129a9e5b",
   "metadata": {},
   "source": [
    "## e. check number of records"
   ]
  },
  {
   "cell_type": "code",
   "execution_count": null,
   "id": "d0216c91",
   "metadata": {},
   "outputs": [],
   "source": [
    "# number of records omitted previously and the number omitted in this script\n",
    "x = 529603 + (268 + 62357 + 13867)\n",
    "print (x)"
   ]
  },
  {
   "cell_type": "code",
   "execution_count": null,
   "id": "3b9dd429",
   "metadata": {},
   "outputs": [],
   "source": [
    "# number of records removed subtracted from original total records\n",
    "y = 6170627 - x\n",
    "print (y)"
   ]
  },
  {
   "cell_type": "code",
   "execution_count": null,
   "id": "d839883b",
   "metadata": {},
   "outputs": [],
   "source": [
    "# percent of records intact\n",
    "z = (y * 100)/6170627\n",
    "print (z)"
   ]
  },
  {
   "cell_type": "markdown",
   "id": "57d70cf5",
   "metadata": {},
   "source": [
    "## f. look at each column for value_counts to better understand the data\n",
    "### start_time and end_time: made HH:MM:SS and omitted further breakdown of seconds\n",
    "### zipcode: omitted the extension, kept only 5 digits\n",
    "### temperature/wind_chill \n",
    "### "
   ]
  },
  {
   "cell_type": "code",
   "execution_count": null,
   "id": "ba86b164",
   "metadata": {},
   "outputs": [],
   "source": [
    "df_clean['Severity'].value_counts(dropna = False)\n"
   ]
  },
  {
   "cell_type": "code",
   "execution_count": null,
   "id": "60d0c8f8",
   "metadata": {},
   "outputs": [],
   "source": [
    "df_clean['Start_Time'].value_counts(dropna = False).sort_index()\n",
    "# time needs to be cleaned up to consistent format HH:MM:SS"
   ]
  },
  {
   "cell_type": "code",
   "execution_count": null,
   "id": "4833514d",
   "metadata": {},
   "outputs": [],
   "source": [
    "df_clean['Start_Time_no_ext'] = df_clean['Start_Time'].str[:19]\n"
   ]
  },
  {
   "cell_type": "code",
   "execution_count": null,
   "id": "05ea966c",
   "metadata": {},
   "outputs": [],
   "source": [
    "df_clean.head()"
   ]
  },
  {
   "cell_type": "code",
   "execution_count": null,
   "id": "85bb59fc",
   "metadata": {},
   "outputs": [],
   "source": [
    "df_clean['End_Time'].value_counts(dropna = False).sort_index()\n",
    "# time needs to be cleaned up to consistent format HH:MM:SS"
   ]
  },
  {
   "cell_type": "code",
   "execution_count": null,
   "id": "14acc0ff",
   "metadata": {},
   "outputs": [],
   "source": [
    "df_clean['End_Time_no_ext'] = df_clean['End_Time'].str[:19]\n"
   ]
  },
  {
   "cell_type": "code",
   "execution_count": null,
   "id": "c13f8913",
   "metadata": {},
   "outputs": [],
   "source": [
    "df_clean['End_Time_no_ext'].value_counts(dropna = False).sort_index()"
   ]
  },
  {
   "cell_type": "code",
   "execution_count": null,
   "id": "8cc5eda4",
   "metadata": {},
   "outputs": [],
   "source": [
    "df_clean['Start_Lat'].value_counts(dropna = False).sort_index()"
   ]
  },
  {
   "cell_type": "code",
   "execution_count": null,
   "id": "6a1fc687",
   "metadata": {},
   "outputs": [],
   "source": [
    "df_clean['Start_Lng'].value_counts(dropna = False).sort_index()"
   ]
  },
  {
   "cell_type": "code",
   "execution_count": null,
   "id": "c8fecfe9",
   "metadata": {},
   "outputs": [],
   "source": [
    "df_clean['Distance(mi)'].value_counts(dropna = False).sort_index()\n",
    "# .000047 miles is approx. 3 inches; width of TX = 773 miles"
   ]
  },
  {
   "cell_type": "code",
   "execution_count": null,
   "id": "ed606cbf",
   "metadata": {},
   "outputs": [],
   "source": [
    "df_clean['City'].value_counts(dropna = False).sort_index()"
   ]
  },
  {
   "cell_type": "code",
   "execution_count": null,
   "id": "a25ac0ce",
   "metadata": {
    "scrolled": true
   },
   "outputs": [],
   "source": [
    "df_clean['County'].value_counts(dropna = False).sort_index()"
   ]
  },
  {
   "cell_type": "code",
   "execution_count": null,
   "id": "0ca91bc2",
   "metadata": {},
   "outputs": [],
   "source": [
    "df_clean['Zipcode'].value_counts(dropna = False).sort_index()\n",
    "# needs to be cleaned up, omit the extension"
   ]
  },
  {
   "cell_type": "code",
   "execution_count": null,
   "id": "92bfe26c",
   "metadata": {},
   "outputs": [],
   "source": [
    "df_clean['Zipcode_no_ext'] = df_clean['Zipcode'].str[:5]\n"
   ]
  },
  {
   "cell_type": "code",
   "execution_count": null,
   "id": "8cd33e8e",
   "metadata": {},
   "outputs": [],
   "source": [
    "df_clean.head()"
   ]
  },
  {
   "cell_type": "code",
   "execution_count": null,
   "id": "4c91b02a",
   "metadata": {},
   "outputs": [],
   "source": [
    "df_clean['Timezone'].value_counts(dropna = False).sort_index()"
   ]
  },
  {
   "cell_type": "code",
   "execution_count": null,
   "id": "cd5d842f",
   "metadata": {},
   "outputs": [],
   "source": [
    "df_clean['Airport_Code'].value_counts(dropna = False)"
   ]
  },
  {
   "cell_type": "code",
   "execution_count": null,
   "id": "e16f44db",
   "metadata": {},
   "outputs": [],
   "source": [
    "df_clean['Weather_Timestamp'].value_counts(dropna = False)"
   ]
  },
  {
   "cell_type": "code",
   "execution_count": null,
   "id": "496c6ee4",
   "metadata": {},
   "outputs": [],
   "source": [
    "df_clean['Temperature(F)'].value_counts(dropna = False).sort_index()\n",
    "#no way temperatures of 196 degrees.. do something here.."
   ]
  },
  {
   "cell_type": "code",
   "execution_count": null,
   "id": "6cb207bb",
   "metadata": {},
   "outputs": [],
   "source": [
    "df_nuts_temps = df_clean.loc[df_clean['Temperature(F)']>=134]"
   ]
  },
  {
   "cell_type": "code",
   "execution_count": null,
   "id": "f7644102",
   "metadata": {},
   "outputs": [],
   "source": [
    "df_nuts_temps.shape"
   ]
  },
  {
   "cell_type": "code",
   "execution_count": null,
   "id": "f9b11e5f",
   "metadata": {},
   "outputs": [],
   "source": [
    "#find all temperatures 134 degrees and above and replace NaN\n",
    "df_clean.loc[df_clean['Temperature(F)']>=134,'Temperature(F)'] = np.nan"
   ]
  },
  {
   "cell_type": "code",
   "execution_count": null,
   "id": "f1e96c6d",
   "metadata": {},
   "outputs": [],
   "source": [
    "df_clean = df_clean[df_clean['Temperature(F)'].isnull()==False]"
   ]
  },
  {
   "cell_type": "code",
   "execution_count": null,
   "id": "2da3cf34",
   "metadata": {},
   "outputs": [],
   "source": [
    "df_clean.shape"
   ]
  },
  {
   "cell_type": "code",
   "execution_count": null,
   "id": "dde6bb77",
   "metadata": {},
   "outputs": [],
   "source": [
    "df_clean['Wind_Chill(F)'].value_counts(dropna = False).sort_index()"
   ]
  },
  {
   "cell_type": "code",
   "execution_count": null,
   "id": "b9a9aa18",
   "metadata": {},
   "outputs": [],
   "source": [
    "df_clean['Visibility(mi)'].value_counts(dropna = False).sort_index()"
   ]
  },
  {
   "cell_type": "code",
   "execution_count": null,
   "id": "9f2fc969",
   "metadata": {},
   "outputs": [],
   "source": [
    "df_clean['Wind_Direction'].value_counts(dropna = False).sort_index()"
   ]
  },
  {
   "cell_type": "code",
   "execution_count": null,
   "id": "6c9833ee",
   "metadata": {},
   "outputs": [],
   "source": [
    "df_clean['Precipitation(in)'].value_counts(dropna = False).sort_index()"
   ]
  },
  {
   "cell_type": "code",
   "execution_count": null,
   "id": "769667fe",
   "metadata": {},
   "outputs": [],
   "source": [
    "df_clean['Weather_Condition'].value_counts(dropna = False).sort_index()"
   ]
  },
  {
   "cell_type": "code",
   "execution_count": null,
   "id": "8d961638",
   "metadata": {},
   "outputs": [],
   "source": [
    "df_clean.shape"
   ]
  },
  {
   "cell_type": "markdown",
   "id": "e23922a4",
   "metadata": {},
   "source": [
    "## g. omit zipcode, start_time, end_time (original, messy) columns"
   ]
  },
  {
   "cell_type": "code",
   "execution_count": null,
   "id": "708ee0ca",
   "metadata": {},
   "outputs": [],
   "source": [
    "df_clean2 = df_clean.drop(columns=['Zipcode', 'Start_Time', 'End_Time'])"
   ]
  },
  {
   "cell_type": "code",
   "execution_count": null,
   "id": "bfa52b65",
   "metadata": {},
   "outputs": [],
   "source": [
    "df_clean2.shape"
   ]
  },
  {
   "cell_type": "code",
   "execution_count": null,
   "id": "16f0d7a1",
   "metadata": {},
   "outputs": [],
   "source": [
    "df_clean2.to_csv(os.path.join(path, '02 Data', 'Prepared', 'clean.csv'), index = False)\n"
   ]
  },
  {
   "cell_type": "code",
   "execution_count": null,
   "id": "16578a1b",
   "metadata": {},
   "outputs": [],
   "source": [
    "df_clean2.describe()"
   ]
  },
  {
   "cell_type": "code",
   "execution_count": null,
   "id": "9af51730",
   "metadata": {},
   "outputs": [],
   "source": [
    "df_clean2.describe().to_csv(os.path.join(path, '04 Analysis', 'Reports','clean2.csv'), index = False)"
   ]
  },
  {
   "cell_type": "code",
   "execution_count": null,
   "id": "221f6c08",
   "metadata": {},
   "outputs": [],
   "source": [
    "p = (5564502*100)/6170627\n",
    "print (p)"
   ]
  },
  {
   "cell_type": "markdown",
   "id": "4f74a013",
   "metadata": {},
   "source": [
    "90.18% of the original data is still intact.\n",
    "Hawaii is no longer in the cleaned data, as that state only had 12 records in the original data."
   ]
  }
 ],
 "metadata": {
  "kernelspec": {
   "display_name": "Python 3 (ipykernel)",
   "language": "python",
   "name": "python3"
  },
  "language_info": {
   "codemirror_mode": {
    "name": "ipython",
    "version": 3
   },
   "file_extension": ".py",
   "mimetype": "text/x-python",
   "name": "python",
   "nbconvert_exporter": "python",
   "pygments_lexer": "ipython3",
   "version": "3.9.7"
  }
 },
 "nbformat": 4,
 "nbformat_minor": 5
}
