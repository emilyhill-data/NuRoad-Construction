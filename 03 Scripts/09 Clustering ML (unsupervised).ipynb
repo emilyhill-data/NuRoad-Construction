{
 "cells": [
  {
   "cell_type": "markdown",
   "id": "7ffb9b58",
   "metadata": {},
   "source": [
    "## clustering: machine learning \n",
    "## contents:\n",
    "### 01 import libraries & data\n",
    "### 02 clean data/rename columns\n",
    "### 03 the elbow technique\n",
    "### 04 k-means clustering"
   ]
  },
  {
   "cell_type": "markdown",
   "id": "8cadfdfd",
   "metadata": {},
   "source": [
    "# 01 import libraries & data"
   ]
  },
  {
   "cell_type": "code",
   "execution_count": 1,
   "id": "b12aeaac",
   "metadata": {},
   "outputs": [],
   "source": [
    "import pandas as pd\n",
    "import numpy as np\n",
    "import os\n",
    "import matplotlib\n",
    "import matplotlib.pyplot as plt\n",
    "import seaborn as sns\n",
    "import sklearn\n",
    "from sklearn.cluster import KMeans\n",
    "from sklearn.preprocessing import StandardScaler\n",
    "from sklearn.decomposition import PCA\n",
    "import pylab as pl"
   ]
  },
  {
   "cell_type": "code",
   "execution_count": 2,
   "id": "2fc05b9c",
   "metadata": {},
   "outputs": [],
   "source": [
    "%matplotlib inline"
   ]
  },
  {
   "cell_type": "code",
   "execution_count": 3,
   "id": "b9c6a50f",
   "metadata": {},
   "outputs": [],
   "source": [
    "path = r'C:\\Users\\erhil\\OneDrive\\Career Foundry Program\\Immersion Data Analytics Course\\A6 - Adv. Analytics & Dashboard Design\\Project A6'"
   ]
  },
  {
   "cell_type": "code",
   "execution_count": 4,
   "id": "48227007",
   "metadata": {},
   "outputs": [],
   "source": [
    "df = pd.read_csv(os.path.join(path, '02 Data', 'Prepared', 'merged3.csv'), index_col = False)"
   ]
  },
  {
   "cell_type": "markdown",
   "id": "24bde59d",
   "metadata": {},
   "source": [
    "# 02 clean data & rename columns"
   ]
  },
  {
   "cell_type": "code",
   "execution_count": 5,
   "id": "abc25369",
   "metadata": {},
   "outputs": [],
   "source": [
    "pd.set_option('display.max_columns', None)"
   ]
  },
  {
   "cell_type": "code",
   "execution_count": 6,
   "id": "30b9b308",
   "metadata": {},
   "outputs": [
    {
     "data": {
      "text/html": [
       "<div>\n",
       "<style scoped>\n",
       "    .dataframe tbody tr th:only-of-type {\n",
       "        vertical-align: middle;\n",
       "    }\n",
       "\n",
       "    .dataframe tbody tr th {\n",
       "        vertical-align: top;\n",
       "    }\n",
       "\n",
       "    .dataframe thead th {\n",
       "        text-align: right;\n",
       "    }\n",
       "</style>\n",
       "<table border=\"1\" class=\"dataframe\">\n",
       "  <thead>\n",
       "    <tr style=\"text-align: right;\">\n",
       "      <th></th>\n",
       "      <th>ID</th>\n",
       "      <th>Severity</th>\n",
       "      <th>Distance(mi)</th>\n",
       "      <th>City</th>\n",
       "      <th>County</th>\n",
       "      <th>State</th>\n",
       "      <th>Timezone</th>\n",
       "      <th>Airport_Code</th>\n",
       "      <th>Weather_Timestamp</th>\n",
       "      <th>Temperature(F)</th>\n",
       "      <th>Visibility(mi)</th>\n",
       "      <th>Wind_Direction</th>\n",
       "      <th>Precipitation(in)</th>\n",
       "      <th>Weather_Condition</th>\n",
       "      <th>Start_Time_no_ext</th>\n",
       "      <th>End_Time_no_ext</th>\n",
       "      <th>Zipcode_no_ext</th>\n",
       "      <th>Airport_Type</th>\n",
       "      <th>Airport_Name</th>\n",
       "      <th>dist_to_weather(mi)</th>\n",
       "      <th>project_time_length</th>\n",
       "      <th>const_total_minutes</th>\n",
       "    </tr>\n",
       "  </thead>\n",
       "  <tbody>\n",
       "    <tr>\n",
       "      <th>0</th>\n",
       "      <td>C-2</td>\n",
       "      <td>2</td>\n",
       "      <td>0.433173</td>\n",
       "      <td>Lafayette</td>\n",
       "      <td>Lafayette</td>\n",
       "      <td>LA</td>\n",
       "      <td>US/Central</td>\n",
       "      <td>KLFT</td>\n",
       "      <td>2021-11-12 07:59:00</td>\n",
       "      <td>55.0</td>\n",
       "      <td>3.0</td>\n",
       "      <td>CALM</td>\n",
       "      <td>0.0</td>\n",
       "      <td>Mostly Cloudy</td>\n",
       "      <td>2021-11-12 07:59:00</td>\n",
       "      <td>2021-11-12 08:22:30</td>\n",
       "      <td>70501</td>\n",
       "      <td>large_airport</td>\n",
       "      <td>Lafayette Regional Airport</td>\n",
       "      <td>1.673991</td>\n",
       "      <td>0 days 00:23:30</td>\n",
       "      <td>23.500000</td>\n",
       "    </tr>\n",
       "    <tr>\n",
       "      <th>1</th>\n",
       "      <td>C-3</td>\n",
       "      <td>2</td>\n",
       "      <td>0.192266</td>\n",
       "      <td>Denver</td>\n",
       "      <td>Denver</td>\n",
       "      <td>CO</td>\n",
       "      <td>US/Mountain</td>\n",
       "      <td>KBKF</td>\n",
       "      <td>2021-10-12 06:58:00</td>\n",
       "      <td>37.0</td>\n",
       "      <td>10.0</td>\n",
       "      <td>WSW</td>\n",
       "      <td>0.0</td>\n",
       "      <td>Partly Cloudy</td>\n",
       "      <td>2021-10-12 07:17:30</td>\n",
       "      <td>2021-10-12 09:18:55</td>\n",
       "      <td>80224</td>\n",
       "      <td>medium_airport</td>\n",
       "      <td>Buckley Air Force Base</td>\n",
       "      <td>9.058579</td>\n",
       "      <td>0 days 02:01:25</td>\n",
       "      <td>121.416667</td>\n",
       "    </tr>\n",
       "    <tr>\n",
       "      <th>2</th>\n",
       "      <td>C-4</td>\n",
       "      <td>4</td>\n",
       "      <td>0.032112</td>\n",
       "      <td>Whittier</td>\n",
       "      <td>Los Angeles</td>\n",
       "      <td>CA</td>\n",
       "      <td>US/Pacific</td>\n",
       "      <td>KFUL</td>\n",
       "      <td>2021-02-10 02:53:00</td>\n",
       "      <td>54.0</td>\n",
       "      <td>9.0</td>\n",
       "      <td>CALM</td>\n",
       "      <td>0.0</td>\n",
       "      <td>Cloudy</td>\n",
       "      <td>2021-02-10 02:46:10</td>\n",
       "      <td>2021-02-17 23:59:00</td>\n",
       "      <td>90605</td>\n",
       "      <td>small_airport</td>\n",
       "      <td>Fullerton Municipal Airport</td>\n",
       "      <td>6.800913</td>\n",
       "      <td>7 days 21:12:50</td>\n",
       "      <td>11352.833333</td>\n",
       "    </tr>\n",
       "    <tr>\n",
       "      <th>3</th>\n",
       "      <td>C-5</td>\n",
       "      <td>2</td>\n",
       "      <td>0.996057</td>\n",
       "      <td>Connellsville</td>\n",
       "      <td>Fayette</td>\n",
       "      <td>PA</td>\n",
       "      <td>US/Eastern</td>\n",
       "      <td>KLBE</td>\n",
       "      <td>2020-09-24 15:53:00</td>\n",
       "      <td>73.0</td>\n",
       "      <td>10.0</td>\n",
       "      <td>SSW</td>\n",
       "      <td>0.0</td>\n",
       "      <td>Partly Cloudy</td>\n",
       "      <td>2020-09-24 15:58:00</td>\n",
       "      <td>2020-09-25 21:04:54</td>\n",
       "      <td>15425</td>\n",
       "      <td>medium_airport</td>\n",
       "      <td>Arnold Palmer Regional Airport</td>\n",
       "      <td>21.136875</td>\n",
       "      <td>1 days 05:06:54</td>\n",
       "      <td>1746.900000</td>\n",
       "    </tr>\n",
       "    <tr>\n",
       "      <th>4</th>\n",
       "      <td>C-6</td>\n",
       "      <td>2</td>\n",
       "      <td>0.747595</td>\n",
       "      <td>Dallas</td>\n",
       "      <td>Dallas</td>\n",
       "      <td>TX</td>\n",
       "      <td>US/Central</td>\n",
       "      <td>KDAL</td>\n",
       "      <td>2021-06-08 21:53:00</td>\n",
       "      <td>84.0</td>\n",
       "      <td>10.0</td>\n",
       "      <td>SSE</td>\n",
       "      <td>0.0</td>\n",
       "      <td>Partly Cloudy</td>\n",
       "      <td>2021-06-08 21:35:00</td>\n",
       "      <td>2021-06-08 22:04:00</td>\n",
       "      <td>75247</td>\n",
       "      <td>large_airport</td>\n",
       "      <td>Dallas Love Field</td>\n",
       "      <td>2.452856</td>\n",
       "      <td>0 days 00:29:00</td>\n",
       "      <td>29.000000</td>\n",
       "    </tr>\n",
       "  </tbody>\n",
       "</table>\n",
       "</div>"
      ],
      "text/plain": [
       "    ID  Severity  Distance(mi)           City       County State     Timezone  \\\n",
       "0  C-2         2      0.433173      Lafayette    Lafayette    LA   US/Central   \n",
       "1  C-3         2      0.192266         Denver       Denver    CO  US/Mountain   \n",
       "2  C-4         4      0.032112       Whittier  Los Angeles    CA   US/Pacific   \n",
       "3  C-5         2      0.996057  Connellsville      Fayette    PA   US/Eastern   \n",
       "4  C-6         2      0.747595         Dallas       Dallas    TX   US/Central   \n",
       "\n",
       "  Airport_Code    Weather_Timestamp  Temperature(F)  Visibility(mi)  \\\n",
       "0         KLFT  2021-11-12 07:59:00            55.0             3.0   \n",
       "1         KBKF  2021-10-12 06:58:00            37.0            10.0   \n",
       "2         KFUL  2021-02-10 02:53:00            54.0             9.0   \n",
       "3         KLBE  2020-09-24 15:53:00            73.0            10.0   \n",
       "4         KDAL  2021-06-08 21:53:00            84.0            10.0   \n",
       "\n",
       "  Wind_Direction  Precipitation(in) Weather_Condition    Start_Time_no_ext  \\\n",
       "0           CALM                0.0     Mostly Cloudy  2021-11-12 07:59:00   \n",
       "1            WSW                0.0     Partly Cloudy  2021-10-12 07:17:30   \n",
       "2           CALM                0.0            Cloudy  2021-02-10 02:46:10   \n",
       "3            SSW                0.0     Partly Cloudy  2020-09-24 15:58:00   \n",
       "4            SSE                0.0     Partly Cloudy  2021-06-08 21:35:00   \n",
       "\n",
       "       End_Time_no_ext  Zipcode_no_ext    Airport_Type  \\\n",
       "0  2021-11-12 08:22:30           70501   large_airport   \n",
       "1  2021-10-12 09:18:55           80224  medium_airport   \n",
       "2  2021-02-17 23:59:00           90605   small_airport   \n",
       "3  2020-09-25 21:04:54           15425  medium_airport   \n",
       "4  2021-06-08 22:04:00           75247   large_airport   \n",
       "\n",
       "                     Airport_Name  dist_to_weather(mi) project_time_length  \\\n",
       "0      Lafayette Regional Airport             1.673991     0 days 00:23:30   \n",
       "1          Buckley Air Force Base             9.058579     0 days 02:01:25   \n",
       "2     Fullerton Municipal Airport             6.800913     7 days 21:12:50   \n",
       "3  Arnold Palmer Regional Airport            21.136875     1 days 05:06:54   \n",
       "4               Dallas Love Field             2.452856     0 days 00:29:00   \n",
       "\n",
       "   const_total_minutes  \n",
       "0            23.500000  \n",
       "1           121.416667  \n",
       "2         11352.833333  \n",
       "3          1746.900000  \n",
       "4            29.000000  "
      ]
     },
     "execution_count": 6,
     "metadata": {},
     "output_type": "execute_result"
    }
   ],
   "source": [
    "df.head()"
   ]
  },
  {
   "cell_type": "code",
   "execution_count": 7,
   "id": "9c6ab583",
   "metadata": {},
   "outputs": [],
   "source": [
    "df.drop(columns = ['ID', 'City', 'County', 'State', 'Timezone', 'Airport_Code', 'Weather_Timestamp', 'Wind_Direction', 'Weather_Condition', 'Start_Time_no_ext', 'End_Time_no_ext', 'Zipcode_no_ext', 'Airport_Type', 'Airport_Name', 'project_time_length'], inplace = True)"
   ]
  },
  {
   "cell_type": "code",
   "execution_count": 8,
   "id": "82be3e4b",
   "metadata": {},
   "outputs": [
    {
     "data": {
      "text/plain": [
       "(5153650, 7)"
      ]
     },
     "execution_count": 8,
     "metadata": {},
     "output_type": "execute_result"
    }
   ],
   "source": [
    "df.shape"
   ]
  },
  {
   "cell_type": "code",
   "execution_count": 9,
   "id": "61157434",
   "metadata": {},
   "outputs": [
    {
     "name": "stdout",
     "output_type": "stream",
     "text": [
      "<class 'pandas.core.frame.DataFrame'>\n",
      "RangeIndex: 5153650 entries, 0 to 5153649\n",
      "Data columns (total 7 columns):\n",
      " #   Column               Dtype  \n",
      "---  ------               -----  \n",
      " 0   Severity             int64  \n",
      " 1   Distance(mi)         float64\n",
      " 2   Temperature(F)       float64\n",
      " 3   Visibility(mi)       float64\n",
      " 4   Precipitation(in)    float64\n",
      " 5   dist_to_weather(mi)  float64\n",
      " 6   const_total_minutes  float64\n",
      "dtypes: float64(6), int64(1)\n",
      "memory usage: 275.2 MB\n"
     ]
    }
   ],
   "source": [
    "df.info()"
   ]
  },
  {
   "cell_type": "code",
   "execution_count": 10,
   "id": "53c642a3",
   "metadata": {},
   "outputs": [
    {
     "data": {
      "text/html": [
       "<div>\n",
       "<style scoped>\n",
       "    .dataframe tbody tr th:only-of-type {\n",
       "        vertical-align: middle;\n",
       "    }\n",
       "\n",
       "    .dataframe tbody tr th {\n",
       "        vertical-align: top;\n",
       "    }\n",
       "\n",
       "    .dataframe thead th {\n",
       "        text-align: right;\n",
       "    }\n",
       "</style>\n",
       "<table border=\"1\" class=\"dataframe\">\n",
       "  <thead>\n",
       "    <tr style=\"text-align: right;\">\n",
       "      <th></th>\n",
       "      <th>Severity</th>\n",
       "      <th>Distance(mi)</th>\n",
       "      <th>Temperature(F)</th>\n",
       "      <th>Visibility(mi)</th>\n",
       "      <th>Precipitation(in)</th>\n",
       "      <th>dist_to_weather(mi)</th>\n",
       "      <th>const_total_minutes</th>\n",
       "    </tr>\n",
       "  </thead>\n",
       "  <tbody>\n",
       "    <tr>\n",
       "      <th>0</th>\n",
       "      <td>2</td>\n",
       "      <td>0.433173</td>\n",
       "      <td>55.0</td>\n",
       "      <td>3.0</td>\n",
       "      <td>0.0</td>\n",
       "      <td>1.673991</td>\n",
       "      <td>23.500000</td>\n",
       "    </tr>\n",
       "    <tr>\n",
       "      <th>1</th>\n",
       "      <td>2</td>\n",
       "      <td>0.192266</td>\n",
       "      <td>37.0</td>\n",
       "      <td>10.0</td>\n",
       "      <td>0.0</td>\n",
       "      <td>9.058579</td>\n",
       "      <td>121.416667</td>\n",
       "    </tr>\n",
       "    <tr>\n",
       "      <th>2</th>\n",
       "      <td>4</td>\n",
       "      <td>0.032112</td>\n",
       "      <td>54.0</td>\n",
       "      <td>9.0</td>\n",
       "      <td>0.0</td>\n",
       "      <td>6.800913</td>\n",
       "      <td>11352.833333</td>\n",
       "    </tr>\n",
       "    <tr>\n",
       "      <th>3</th>\n",
       "      <td>2</td>\n",
       "      <td>0.996057</td>\n",
       "      <td>73.0</td>\n",
       "      <td>10.0</td>\n",
       "      <td>0.0</td>\n",
       "      <td>21.136875</td>\n",
       "      <td>1746.900000</td>\n",
       "    </tr>\n",
       "    <tr>\n",
       "      <th>4</th>\n",
       "      <td>2</td>\n",
       "      <td>0.747595</td>\n",
       "      <td>84.0</td>\n",
       "      <td>10.0</td>\n",
       "      <td>0.0</td>\n",
       "      <td>2.452856</td>\n",
       "      <td>29.000000</td>\n",
       "    </tr>\n",
       "  </tbody>\n",
       "</table>\n",
       "</div>"
      ],
      "text/plain": [
       "   Severity  Distance(mi)  Temperature(F)  Visibility(mi)  Precipitation(in)  \\\n",
       "0         2      0.433173            55.0             3.0                0.0   \n",
       "1         2      0.192266            37.0            10.0                0.0   \n",
       "2         4      0.032112            54.0             9.0                0.0   \n",
       "3         2      0.996057            73.0            10.0                0.0   \n",
       "4         2      0.747595            84.0            10.0                0.0   \n",
       "\n",
       "   dist_to_weather(mi)  const_total_minutes  \n",
       "0             1.673991            23.500000  \n",
       "1             9.058579           121.416667  \n",
       "2             6.800913         11352.833333  \n",
       "3            21.136875          1746.900000  \n",
       "4             2.452856            29.000000  "
      ]
     },
     "execution_count": 10,
     "metadata": {},
     "output_type": "execute_result"
    }
   ],
   "source": [
    "df.head()"
   ]
  },
  {
   "cell_type": "code",
   "execution_count": 11,
   "id": "b0968e34",
   "metadata": {},
   "outputs": [],
   "source": [
    "#redo total construction time into hours instead of minutes\n",
    "df['const_total_hr'] = df['const_total_minutes']/60"
   ]
  },
  {
   "cell_type": "code",
   "execution_count": 12,
   "id": "5b44b4a2",
   "metadata": {},
   "outputs": [],
   "source": [
    "#create a new column for the rate of time construction took for job in mi/hr\n",
    "df['rate_of_construction(mi/hr)'] = df['Distance(mi)']/df['const_total_hr']"
   ]
  },
  {
   "cell_type": "code",
   "execution_count": 13,
   "id": "57055506",
   "metadata": {},
   "outputs": [
    {
     "data": {
      "text/html": [
       "<div>\n",
       "<style scoped>\n",
       "    .dataframe tbody tr th:only-of-type {\n",
       "        vertical-align: middle;\n",
       "    }\n",
       "\n",
       "    .dataframe tbody tr th {\n",
       "        vertical-align: top;\n",
       "    }\n",
       "\n",
       "    .dataframe thead th {\n",
       "        text-align: right;\n",
       "    }\n",
       "</style>\n",
       "<table border=\"1\" class=\"dataframe\">\n",
       "  <thead>\n",
       "    <tr style=\"text-align: right;\">\n",
       "      <th></th>\n",
       "      <th>Severity</th>\n",
       "      <th>Distance(mi)</th>\n",
       "      <th>Temperature(F)</th>\n",
       "      <th>Visibility(mi)</th>\n",
       "      <th>Precipitation(in)</th>\n",
       "      <th>dist_to_weather(mi)</th>\n",
       "      <th>const_total_minutes</th>\n",
       "      <th>const_total_hr</th>\n",
       "      <th>rate_of_construction(mi/hr)</th>\n",
       "    </tr>\n",
       "  </thead>\n",
       "  <tbody>\n",
       "    <tr>\n",
       "      <th>0</th>\n",
       "      <td>2</td>\n",
       "      <td>0.433173</td>\n",
       "      <td>55.0</td>\n",
       "      <td>3.0</td>\n",
       "      <td>0.0</td>\n",
       "      <td>1.673991</td>\n",
       "      <td>23.500000</td>\n",
       "      <td>0.391667</td>\n",
       "      <td>1.105974</td>\n",
       "    </tr>\n",
       "    <tr>\n",
       "      <th>1</th>\n",
       "      <td>2</td>\n",
       "      <td>0.192266</td>\n",
       "      <td>37.0</td>\n",
       "      <td>10.0</td>\n",
       "      <td>0.0</td>\n",
       "      <td>9.058579</td>\n",
       "      <td>121.416667</td>\n",
       "      <td>2.023611</td>\n",
       "      <td>0.095011</td>\n",
       "    </tr>\n",
       "    <tr>\n",
       "      <th>2</th>\n",
       "      <td>4</td>\n",
       "      <td>0.032112</td>\n",
       "      <td>54.0</td>\n",
       "      <td>9.0</td>\n",
       "      <td>0.0</td>\n",
       "      <td>6.800913</td>\n",
       "      <td>11352.833333</td>\n",
       "      <td>189.213889</td>\n",
       "      <td>0.000170</td>\n",
       "    </tr>\n",
       "    <tr>\n",
       "      <th>3</th>\n",
       "      <td>2</td>\n",
       "      <td>0.996057</td>\n",
       "      <td>73.0</td>\n",
       "      <td>10.0</td>\n",
       "      <td>0.0</td>\n",
       "      <td>21.136875</td>\n",
       "      <td>1746.900000</td>\n",
       "      <td>29.115000</td>\n",
       "      <td>0.034211</td>\n",
       "    </tr>\n",
       "    <tr>\n",
       "      <th>4</th>\n",
       "      <td>2</td>\n",
       "      <td>0.747595</td>\n",
       "      <td>84.0</td>\n",
       "      <td>10.0</td>\n",
       "      <td>0.0</td>\n",
       "      <td>2.452856</td>\n",
       "      <td>29.000000</td>\n",
       "      <td>0.483333</td>\n",
       "      <td>1.546748</td>\n",
       "    </tr>\n",
       "  </tbody>\n",
       "</table>\n",
       "</div>"
      ],
      "text/plain": [
       "   Severity  Distance(mi)  Temperature(F)  Visibility(mi)  Precipitation(in)  \\\n",
       "0         2      0.433173            55.0             3.0                0.0   \n",
       "1         2      0.192266            37.0            10.0                0.0   \n",
       "2         4      0.032112            54.0             9.0                0.0   \n",
       "3         2      0.996057            73.0            10.0                0.0   \n",
       "4         2      0.747595            84.0            10.0                0.0   \n",
       "\n",
       "   dist_to_weather(mi)  const_total_minutes  const_total_hr  \\\n",
       "0             1.673991            23.500000        0.391667   \n",
       "1             9.058579           121.416667        2.023611   \n",
       "2             6.800913         11352.833333      189.213889   \n",
       "3            21.136875          1746.900000       29.115000   \n",
       "4             2.452856            29.000000        0.483333   \n",
       "\n",
       "   rate_of_construction(mi/hr)  \n",
       "0                     1.105974  \n",
       "1                     0.095011  \n",
       "2                     0.000170  \n",
       "3                     0.034211  \n",
       "4                     1.546748  "
      ]
     },
     "execution_count": 13,
     "metadata": {},
     "output_type": "execute_result"
    }
   ],
   "source": [
    "df.head()"
   ]
  },
  {
   "cell_type": "code",
   "execution_count": 14,
   "id": "db440fe2",
   "metadata": {},
   "outputs": [],
   "source": [
    "#drop the column construction time in minutes (replaced above, changed to 'per hour')\n",
    "df.drop(columns = ['const_total_minutes'], inplace = True)"
   ]
  },
  {
   "cell_type": "code",
   "execution_count": 15,
   "id": "96004ed2",
   "metadata": {},
   "outputs": [
    {
     "data": {
      "text/plain": [
       "(5153650, 8)"
      ]
     },
     "execution_count": 15,
     "metadata": {},
     "output_type": "execute_result"
    }
   ],
   "source": [
    "df.shape"
   ]
  },
  {
   "cell_type": "code",
   "execution_count": 16,
   "id": "1d1dea37",
   "metadata": {},
   "outputs": [],
   "source": [
    "#standardize the data so that values are comparable and not inadvertently weighted\n",
    "scaler = StandardScaler()\n",
    "df_std = scaler.fit_transform(df)"
   ]
  },
  {
   "cell_type": "code",
   "execution_count": 17,
   "id": "0593aad8",
   "metadata": {},
   "outputs": [
    {
     "data": {
      "text/plain": [
       "PCA()"
      ]
     },
     "execution_count": 17,
     "metadata": {},
     "output_type": "execute_result"
    }
   ],
   "source": [
    "#fit the standardized data using PCA (to perform dimensionality reduction)\n",
    "pca = PCA()\n",
    "pca.fit(df_std)"
   ]
  },
  {
   "cell_type": "code",
   "execution_count": 18,
   "id": "4c3f1cc4",
   "metadata": {},
   "outputs": [
    {
     "data": {
      "text/plain": [
       "array([0.17811752, 0.14497425, 0.13048244, 0.12935263, 0.12146659,\n",
       "       0.11096758, 0.10019999, 0.08443899])"
      ]
     },
     "execution_count": 18,
     "metadata": {},
     "output_type": "execute_result"
    }
   ],
   "source": [
    "#how much variance is in each of the variables\n",
    "pca.explained_variance_ratio_"
   ]
  },
  {
   "cell_type": "code",
   "execution_count": 20,
   "id": "1e7b1d2c",
   "metadata": {
    "scrolled": true
   },
   "outputs": [
    {
     "data": {
      "text/plain": [
       "Text(0, 0.5, 'Cumulative Explained Variance')"
      ]
     },
     "execution_count": 20,
     "metadata": {},
     "output_type": "execute_result"
    },
    {
     "data": {
      "image/png": "[encoded data removed]",
      "text/plain": [
       "<Figure size 720x576 with 1 Axes>"
      ]
     },
     "metadata": {
      "needs_background": "light"
     },
     "output_type": "display_data"
    }
   ],
   "source": [
    "plt.figure(figsize = (10, 8))\n",
    "plt.plot(range(1, 9), pca.explained_variance_ratio_.cumsum(), marker = 'o', linestyle = '--')\n",
    "plt.title('Explained Variance by Components')\n",
    "plt.xlabel('Number of Components')\n",
    "plt.ylabel('Cumulative Explained Variance')"
   ]
  },
  {
   "cell_type": "code",
   "execution_count": 21,
   "id": "dac6c77e",
   "metadata": {},
   "outputs": [],
   "source": [
    "#I chose 6 components, as I want to keep at least 80% of the variance.\n",
    "pca = PCA(n_components = 6)"
   ]
  },
  {
   "cell_type": "code",
   "execution_count": 22,
   "id": "fd4dff09",
   "metadata": {},
   "outputs": [
    {
     "data": {
      "text/plain": [
       "PCA(n_components=6)"
      ]
     },
     "execution_count": 22,
     "metadata": {},
     "output_type": "execute_result"
    }
   ],
   "source": [
    "#fit the model w data with the 6 components\n",
    "pca.fit(df_std)"
   ]
  },
  {
   "cell_type": "code",
   "execution_count": 23,
   "id": "9e35c207",
   "metadata": {},
   "outputs": [
    {
     "data": {
      "text/plain": [
       "array([[ 0.15689121,  1.63189486,  1.00788972,  0.17881459, -0.50938668,\n",
       "        -2.10169584],\n",
       "       [ 0.14142114,  0.54049049, -0.43017593, -0.23711148, -0.93991768,\n",
       "         0.19928965],\n",
       "       [-0.29607724,  1.35059892, -1.28474475,  1.86086346,  0.56844262,\n",
       "         0.56070531],\n",
       "       ...,\n",
       "       [-0.5329358 ,  1.33493935, -3.21823199, -4.94116632,  4.91077467,\n",
       "        -1.50052163],\n",
       "       [ 0.6621738 , -0.07137925, -0.17613162, -0.35830774, -0.57637857,\n",
       "         0.36973213],\n",
       "       [ 0.12099932,  2.14496354,  0.88024995, -0.06776693, -0.80620553,\n",
       "        -2.07001301]])"
      ]
     },
     "execution_count": 23,
     "metadata": {},
     "output_type": "execute_result"
    }
   ],
   "source": [
    "pca.transform(df_std)"
   ]
  },
  {
   "cell_type": "markdown",
   "id": "89a74562",
   "metadata": {},
   "source": [
    "# 03 the elbow technique"
   ]
  },
  {
   "cell_type": "code",
   "execution_count": 24,
   "id": "f2ac6d0a",
   "metadata": {},
   "outputs": [],
   "source": [
    "#defines range of potential clusters\n",
    "num_cl = range(1, 10)\n",
    "kmeans = [KMeans(n_clusters = i) for i in num_cl]"
   ]
  },
  {
   "cell_type": "code",
   "execution_count": 25,
   "id": "617a236b",
   "metadata": {},
   "outputs": [
    {
     "data": {
      "text/plain": [
       "[-41229200.00000132,\n",
       " -36506868.503870346,\n",
       " -32986182.310382333,\n",
       " -30149850.356675282,\n",
       " -27131473.176681764,\n",
       " -24514791.123929597,\n",
       " -22089630.36383589,\n",
       " -20143258.08878404,\n",
       " -18585512.019684073]"
      ]
     },
     "execution_count": 25,
     "metadata": {},
     "output_type": "execute_result"
    }
   ],
   "source": [
    "#create a score that represents a rate of variation for the given cluster option\n",
    "score = [kmeans[i].fit(df_std).score(df_std) for i in range(len(kmeans))]\n",
    "score"
   ]
  },
  {
   "cell_type": "code",
   "execution_count": 26,
   "id": "c4f85eb5",
   "metadata": {},
   "outputs": [
    {
     "data": {
      "image/png": "[encoded data removed]",
      "text/plain": [
       "<Figure size 432x288 with 1 Axes>"
      ]
     },
     "metadata": {
      "needs_background": "light"
     },
     "output_type": "display_data"
    }
   ],
   "source": [
    "#plot the elbow curve\n",
    "pl.plot(num_cl, score)\n",
    "pl.xlabel('Number of Clusters')\n",
    "pl.ylabel('Score')\n",
    "pl.title('Elbow Curve')\n",
    "pl.show()\n",
    "#elbow curve still has no elbow"
   ]
  },
  {
   "cell_type": "code",
   "execution_count": 27,
   "id": "4bd3a3b0",
   "metadata": {},
   "outputs": [],
   "source": [
    "#will try again in next script encoding categorical variable(s)"
   ]
  },
  {
   "cell_type": "code",
   "execution_count": null,
   "id": "8fae590e",
   "metadata": {},
   "outputs": [],
   "source": []
  }
 ],
 "metadata": {
  "kernelspec": {
   "display_name": "Python 3 (ipykernel)",
   "language": "python",
   "name": "python3"
  },
  "language_info": {
   "codemirror_mode": {
    "name": "ipython",
    "version": 3
   },
   "file_extension": ".py",
   "mimetype": "text/x-python",
   "name": "python",
   "nbconvert_exporter": "python",
   "pygments_lexer": "ipython3",
   "version": "3.9.7"
  }
 },
 "nbformat": 4,
 "nbformat_minor": 5
}
