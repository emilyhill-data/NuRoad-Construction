{
 "cells": [
  {
   "cell_type": "markdown",
   "id": "912dc33f",
   "metadata": {},
   "source": [
    "## contents"
   ]
  },
  {
   "cell_type": "markdown",
   "id": "0a95607a",
   "metadata": {},
   "source": [
    "## 01 import libraries & data\n",
    "## 02 clean airport data\n",
    "## 03 merge airport & US construction data\n",
    "## 04 check and export"
   ]
  },
  {
   "cell_type": "markdown",
   "id": "4a487bdb",
   "metadata": {},
   "source": [
    "# 01 import libraries & data"
   ]
  },
  {
   "cell_type": "code",
   "execution_count": 1,
   "id": "622b14cf",
   "metadata": {},
   "outputs": [],
   "source": [
    "import pandas as pd\n",
    "import numpy as np\n",
    "import os\n",
    "import matplotlib.pyplot as plt\n",
    "import seaborn as sns\n",
    "import scipy"
   ]
  },
  {
   "cell_type": "code",
   "execution_count": 2,
   "id": "12a8fce9",
   "metadata": {},
   "outputs": [],
   "source": [
    "#create path to project folder\n",
    "path = r'C:\\Users\\erhil\\OneDrive\\Career Foundry Program\\Immersion Data Analytics Course\\A6 - Adv. Analytics & Dashboard Design\\Project A6'"
   ]
  },
  {
   "cell_type": "code",
   "execution_count": 3,
   "id": "a61f87f3",
   "metadata": {},
   "outputs": [],
   "source": [
    "#import both clean (construction) data and airport data\n",
    "df_a = pd.read_csv(os.path.join(path, '02 Data', 'Original', 'list-of-airports-in-united-states-of-america-hxl-tags-1.csv'), index_col = False)\n",
    "df = pd.read_csv(os.path.join(path, '02 Data', 'Prepared', 'clean.csv'), index_col = False)"
   ]
  },
  {
   "cell_type": "markdown",
   "id": "de6baa57",
   "metadata": {},
   "source": [
    "# 02 clean airport data"
   ]
  },
  {
   "cell_type": "code",
   "execution_count": 4,
   "id": "b5cb51f4",
   "metadata": {},
   "outputs": [
    {
     "data": {
      "text/html": [
       "<div>\n",
       "<style scoped>\n",
       "    .dataframe tbody tr th:only-of-type {\n",
       "        vertical-align: middle;\n",
       "    }\n",
       "\n",
       "    .dataframe tbody tr th {\n",
       "        vertical-align: top;\n",
       "    }\n",
       "\n",
       "    .dataframe thead th {\n",
       "        text-align: right;\n",
       "    }\n",
       "</style>\n",
       "<table border=\"1\" class=\"dataframe\">\n",
       "  <thead>\n",
       "    <tr style=\"text-align: right;\">\n",
       "      <th></th>\n",
       "      <th>id</th>\n",
       "      <th>ident</th>\n",
       "      <th>type</th>\n",
       "      <th>name</th>\n",
       "      <th>latitude_deg</th>\n",
       "      <th>longitude_deg</th>\n",
       "      <th>elevation_ft</th>\n",
       "      <th>continent</th>\n",
       "      <th>iso_country</th>\n",
       "      <th>iso_region</th>\n",
       "      <th>municipality</th>\n",
       "      <th>scheduled_service</th>\n",
       "      <th>gps_code</th>\n",
       "      <th>iata_code</th>\n",
       "      <th>local_code</th>\n",
       "      <th>home_link</th>\n",
       "      <th>wikipedia_link</th>\n",
       "      <th>keywords</th>\n",
       "      <th>score</th>\n",
       "      <th>last_updated</th>\n",
       "    </tr>\n",
       "  </thead>\n",
       "  <tbody>\n",
       "    <tr>\n",
       "      <th>0</th>\n",
       "      <td>#meta +id</td>\n",
       "      <td>#meta +code</td>\n",
       "      <td>#loc +airport +type</td>\n",
       "      <td>#loc +airport +name</td>\n",
       "      <td>#geo +lat</td>\n",
       "      <td>#geo +lon</td>\n",
       "      <td>#geo +elevation +ft</td>\n",
       "      <td>#region +continent +code</td>\n",
       "      <td>#country +code +iso2</td>\n",
       "      <td>#adm1 +code +iso</td>\n",
       "      <td>#loc +municipality +name</td>\n",
       "      <td>#status +scheduled</td>\n",
       "      <td>#loc +airport +code +gps</td>\n",
       "      <td>#loc +airport +code +iata</td>\n",
       "      <td>#loc +airport +code +local</td>\n",
       "      <td>#meta +url +airport</td>\n",
       "      <td>#meta +url +wikipedia</td>\n",
       "      <td>#meta +keywords</td>\n",
       "      <td>#meta +score</td>\n",
       "      <td>#date +updated</td>\n",
       "    </tr>\n",
       "    <tr>\n",
       "      <th>1</th>\n",
       "      <td>3632</td>\n",
       "      <td>KLAX</td>\n",
       "      <td>large_airport</td>\n",
       "      <td>Los Angeles International Airport</td>\n",
       "      <td>33.94250107</td>\n",
       "      <td>-118.4079971</td>\n",
       "      <td>125</td>\n",
       "      <td>NaN</td>\n",
       "      <td>US</td>\n",
       "      <td>US-CA</td>\n",
       "      <td>Los Angeles</td>\n",
       "      <td>1</td>\n",
       "      <td>KLAX</td>\n",
       "      <td>LAX</td>\n",
       "      <td>LAX</td>\n",
       "      <td>http://www.iflylax.com/</td>\n",
       "      <td>http://en.wikipedia.org/wiki/Los_Angeles_Inter...</td>\n",
       "      <td>NaN</td>\n",
       "      <td>1335475</td>\n",
       "      <td>2010-01-23T11:27:55+00:00</td>\n",
       "    </tr>\n",
       "    <tr>\n",
       "      <th>2</th>\n",
       "      <td>3622</td>\n",
       "      <td>KJFK</td>\n",
       "      <td>large_airport</td>\n",
       "      <td>John F Kennedy International Airport</td>\n",
       "      <td>40.63980103</td>\n",
       "      <td>-73.77890015</td>\n",
       "      <td>13</td>\n",
       "      <td>NaN</td>\n",
       "      <td>US</td>\n",
       "      <td>US-NY</td>\n",
       "      <td>New York</td>\n",
       "      <td>1</td>\n",
       "      <td>KJFK</td>\n",
       "      <td>JFK</td>\n",
       "      <td>JFK</td>\n",
       "      <td>http://www.panynj.gov/CommutingTravel/airports...</td>\n",
       "      <td>http://en.wikipedia.org/wiki/John_F._Kennedy_I...</td>\n",
       "      <td>Manhattan, New York City, NYC, Idlewild</td>\n",
       "      <td>1052075</td>\n",
       "      <td>2010-01-23T11:27:54+00:00</td>\n",
       "    </tr>\n",
       "    <tr>\n",
       "      <th>3</th>\n",
       "      <td>3754</td>\n",
       "      <td>KORD</td>\n",
       "      <td>large_airport</td>\n",
       "      <td>Chicago O'Hare International Airport</td>\n",
       "      <td>41.97859955</td>\n",
       "      <td>-87.90480042</td>\n",
       "      <td>672</td>\n",
       "      <td>NaN</td>\n",
       "      <td>US</td>\n",
       "      <td>US-IL</td>\n",
       "      <td>Chicago</td>\n",
       "      <td>1</td>\n",
       "      <td>KORD</td>\n",
       "      <td>ORD</td>\n",
       "      <td>ORD</td>\n",
       "      <td>http://www.flychicago.com/ohare/en/home/Pages/...</td>\n",
       "      <td>http://en.wikipedia.org/wiki/O'Hare_Internatio...</td>\n",
       "      <td>CHI, Orchard Place</td>\n",
       "      <td>1503175</td>\n",
       "      <td>2014-08-19T18:55:27+00:00</td>\n",
       "    </tr>\n",
       "    <tr>\n",
       "      <th>4</th>\n",
       "      <td>3384</td>\n",
       "      <td>KATL</td>\n",
       "      <td>large_airport</td>\n",
       "      <td>Hartsfield Jackson Atlanta International Airport</td>\n",
       "      <td>33.63669967651367</td>\n",
       "      <td>-84.4281005859375</td>\n",
       "      <td>1026</td>\n",
       "      <td>NaN</td>\n",
       "      <td>US</td>\n",
       "      <td>US-GA</td>\n",
       "      <td>Atlanta</td>\n",
       "      <td>1</td>\n",
       "      <td>KATL</td>\n",
       "      <td>ATL</td>\n",
       "      <td>ATL</td>\n",
       "      <td>http://www.atlanta-airport.com/</td>\n",
       "      <td>http://en.wikipedia.org/wiki/Hartsfield-Jackso...</td>\n",
       "      <td>NaN</td>\n",
       "      <td>2002475</td>\n",
       "      <td>2008-06-13T14:30:04+00:00</td>\n",
       "    </tr>\n",
       "  </tbody>\n",
       "</table>\n",
       "</div>"
      ],
      "text/plain": [
       "          id        ident                 type  \\\n",
       "0  #meta +id  #meta +code  #loc +airport +type   \n",
       "1       3632         KLAX        large_airport   \n",
       "2       3622         KJFK        large_airport   \n",
       "3       3754         KORD        large_airport   \n",
       "4       3384         KATL        large_airport   \n",
       "\n",
       "                                               name       latitude_deg  \\\n",
       "0                               #loc +airport +name          #geo +lat   \n",
       "1                 Los Angeles International Airport        33.94250107   \n",
       "2              John F Kennedy International Airport        40.63980103   \n",
       "3              Chicago O'Hare International Airport        41.97859955   \n",
       "4  Hartsfield Jackson Atlanta International Airport  33.63669967651367   \n",
       "\n",
       "       longitude_deg         elevation_ft                 continent  \\\n",
       "0          #geo +lon  #geo +elevation +ft  #region +continent +code   \n",
       "1       -118.4079971                  125                       NaN   \n",
       "2       -73.77890015                   13                       NaN   \n",
       "3       -87.90480042                  672                       NaN   \n",
       "4  -84.4281005859375                 1026                       NaN   \n",
       "\n",
       "            iso_country        iso_region              municipality  \\\n",
       "0  #country +code +iso2  #adm1 +code +iso  #loc +municipality +name   \n",
       "1                    US             US-CA               Los Angeles   \n",
       "2                    US             US-NY                  New York   \n",
       "3                    US             US-IL                   Chicago   \n",
       "4                    US             US-GA                   Atlanta   \n",
       "\n",
       "    scheduled_service                  gps_code                  iata_code  \\\n",
       "0  #status +scheduled  #loc +airport +code +gps  #loc +airport +code +iata   \n",
       "1                   1                      KLAX                        LAX   \n",
       "2                   1                      KJFK                        JFK   \n",
       "3                   1                      KORD                        ORD   \n",
       "4                   1                      KATL                        ATL   \n",
       "\n",
       "                   local_code  \\\n",
       "0  #loc +airport +code +local   \n",
       "1                         LAX   \n",
       "2                         JFK   \n",
       "3                         ORD   \n",
       "4                         ATL   \n",
       "\n",
       "                                           home_link  \\\n",
       "0                                #meta +url +airport   \n",
       "1                            http://www.iflylax.com/   \n",
       "2  http://www.panynj.gov/CommutingTravel/airports...   \n",
       "3  http://www.flychicago.com/ohare/en/home/Pages/...   \n",
       "4                    http://www.atlanta-airport.com/   \n",
       "\n",
       "                                      wikipedia_link  \\\n",
       "0                              #meta +url +wikipedia   \n",
       "1  http://en.wikipedia.org/wiki/Los_Angeles_Inter...   \n",
       "2  http://en.wikipedia.org/wiki/John_F._Kennedy_I...   \n",
       "3  http://en.wikipedia.org/wiki/O'Hare_Internatio...   \n",
       "4  http://en.wikipedia.org/wiki/Hartsfield-Jackso...   \n",
       "\n",
       "                                  keywords         score  \\\n",
       "0                          #meta +keywords  #meta +score   \n",
       "1                                      NaN       1335475   \n",
       "2  Manhattan, New York City, NYC, Idlewild       1052075   \n",
       "3                       CHI, Orchard Place       1503175   \n",
       "4                                      NaN       2002475   \n",
       "\n",
       "                last_updated  \n",
       "0             #date +updated  \n",
       "1  2010-01-23T11:27:55+00:00  \n",
       "2  2010-01-23T11:27:54+00:00  \n",
       "3  2014-08-19T18:55:27+00:00  \n",
       "4  2008-06-13T14:30:04+00:00  "
      ]
     },
     "execution_count": 4,
     "metadata": {},
     "output_type": "execute_result"
    }
   ],
   "source": [
    "#look at airport data\n",
    "df_a.head()"
   ]
  },
  {
   "cell_type": "code",
   "execution_count": 5,
   "id": "86de73c8",
   "metadata": {},
   "outputs": [
    {
     "data": {
      "text/plain": [
       "(22217, 20)"
      ]
     },
     "execution_count": 5,
     "metadata": {},
     "output_type": "execute_result"
    }
   ],
   "source": [
    "df_a.shape"
   ]
  },
  {
   "cell_type": "code",
   "execution_count": 6,
   "id": "ff6053ec",
   "metadata": {},
   "outputs": [],
   "source": [
    "#clean this up.. row 0 are comments and not necessary (drop it!)\n",
    "df_a1=df_a.drop(0)"
   ]
  },
  {
   "cell_type": "code",
   "execution_count": 7,
   "id": "150f55ed",
   "metadata": {},
   "outputs": [
    {
     "data": {
      "text/html": [
       "<div>\n",
       "<style scoped>\n",
       "    .dataframe tbody tr th:only-of-type {\n",
       "        vertical-align: middle;\n",
       "    }\n",
       "\n",
       "    .dataframe tbody tr th {\n",
       "        vertical-align: top;\n",
       "    }\n",
       "\n",
       "    .dataframe thead th {\n",
       "        text-align: right;\n",
       "    }\n",
       "</style>\n",
       "<table border=\"1\" class=\"dataframe\">\n",
       "  <thead>\n",
       "    <tr style=\"text-align: right;\">\n",
       "      <th></th>\n",
       "      <th>id</th>\n",
       "      <th>ident</th>\n",
       "      <th>type</th>\n",
       "      <th>name</th>\n",
       "      <th>latitude_deg</th>\n",
       "      <th>longitude_deg</th>\n",
       "      <th>elevation_ft</th>\n",
       "      <th>continent</th>\n",
       "      <th>iso_country</th>\n",
       "      <th>iso_region</th>\n",
       "      <th>municipality</th>\n",
       "      <th>scheduled_service</th>\n",
       "      <th>gps_code</th>\n",
       "      <th>iata_code</th>\n",
       "      <th>local_code</th>\n",
       "      <th>home_link</th>\n",
       "      <th>wikipedia_link</th>\n",
       "      <th>keywords</th>\n",
       "      <th>score</th>\n",
       "      <th>last_updated</th>\n",
       "    </tr>\n",
       "  </thead>\n",
       "  <tbody>\n",
       "    <tr>\n",
       "      <th>1</th>\n",
       "      <td>3632</td>\n",
       "      <td>KLAX</td>\n",
       "      <td>large_airport</td>\n",
       "      <td>Los Angeles International Airport</td>\n",
       "      <td>33.94250107</td>\n",
       "      <td>-118.4079971</td>\n",
       "      <td>125</td>\n",
       "      <td>NaN</td>\n",
       "      <td>US</td>\n",
       "      <td>US-CA</td>\n",
       "      <td>Los Angeles</td>\n",
       "      <td>1</td>\n",
       "      <td>KLAX</td>\n",
       "      <td>LAX</td>\n",
       "      <td>LAX</td>\n",
       "      <td>http://www.iflylax.com/</td>\n",
       "      <td>http://en.wikipedia.org/wiki/Los_Angeles_Inter...</td>\n",
       "      <td>NaN</td>\n",
       "      <td>1335475</td>\n",
       "      <td>2010-01-23T11:27:55+00:00</td>\n",
       "    </tr>\n",
       "    <tr>\n",
       "      <th>2</th>\n",
       "      <td>3622</td>\n",
       "      <td>KJFK</td>\n",
       "      <td>large_airport</td>\n",
       "      <td>John F Kennedy International Airport</td>\n",
       "      <td>40.63980103</td>\n",
       "      <td>-73.77890015</td>\n",
       "      <td>13</td>\n",
       "      <td>NaN</td>\n",
       "      <td>US</td>\n",
       "      <td>US-NY</td>\n",
       "      <td>New York</td>\n",
       "      <td>1</td>\n",
       "      <td>KJFK</td>\n",
       "      <td>JFK</td>\n",
       "      <td>JFK</td>\n",
       "      <td>http://www.panynj.gov/CommutingTravel/airports...</td>\n",
       "      <td>http://en.wikipedia.org/wiki/John_F._Kennedy_I...</td>\n",
       "      <td>Manhattan, New York City, NYC, Idlewild</td>\n",
       "      <td>1052075</td>\n",
       "      <td>2010-01-23T11:27:54+00:00</td>\n",
       "    </tr>\n",
       "    <tr>\n",
       "      <th>3</th>\n",
       "      <td>3754</td>\n",
       "      <td>KORD</td>\n",
       "      <td>large_airport</td>\n",
       "      <td>Chicago O'Hare International Airport</td>\n",
       "      <td>41.97859955</td>\n",
       "      <td>-87.90480042</td>\n",
       "      <td>672</td>\n",
       "      <td>NaN</td>\n",
       "      <td>US</td>\n",
       "      <td>US-IL</td>\n",
       "      <td>Chicago</td>\n",
       "      <td>1</td>\n",
       "      <td>KORD</td>\n",
       "      <td>ORD</td>\n",
       "      <td>ORD</td>\n",
       "      <td>http://www.flychicago.com/ohare/en/home/Pages/...</td>\n",
       "      <td>http://en.wikipedia.org/wiki/O'Hare_Internatio...</td>\n",
       "      <td>CHI, Orchard Place</td>\n",
       "      <td>1503175</td>\n",
       "      <td>2014-08-19T18:55:27+00:00</td>\n",
       "    </tr>\n",
       "    <tr>\n",
       "      <th>4</th>\n",
       "      <td>3384</td>\n",
       "      <td>KATL</td>\n",
       "      <td>large_airport</td>\n",
       "      <td>Hartsfield Jackson Atlanta International Airport</td>\n",
       "      <td>33.63669967651367</td>\n",
       "      <td>-84.4281005859375</td>\n",
       "      <td>1026</td>\n",
       "      <td>NaN</td>\n",
       "      <td>US</td>\n",
       "      <td>US-GA</td>\n",
       "      <td>Atlanta</td>\n",
       "      <td>1</td>\n",
       "      <td>KATL</td>\n",
       "      <td>ATL</td>\n",
       "      <td>ATL</td>\n",
       "      <td>http://www.atlanta-airport.com/</td>\n",
       "      <td>http://en.wikipedia.org/wiki/Hartsfield-Jackso...</td>\n",
       "      <td>NaN</td>\n",
       "      <td>2002475</td>\n",
       "      <td>2008-06-13T14:30:04+00:00</td>\n",
       "    </tr>\n",
       "    <tr>\n",
       "      <th>5</th>\n",
       "      <td>3878</td>\n",
       "      <td>KSFO</td>\n",
       "      <td>large_airport</td>\n",
       "      <td>San Francisco International Airport</td>\n",
       "      <td>37.61899948120117</td>\n",
       "      <td>-122.375</td>\n",
       "      <td>13</td>\n",
       "      <td>NaN</td>\n",
       "      <td>US</td>\n",
       "      <td>US-CA</td>\n",
       "      <td>San Francisco</td>\n",
       "      <td>1</td>\n",
       "      <td>KSFO</td>\n",
       "      <td>SFO</td>\n",
       "      <td>SFO</td>\n",
       "      <td>http://www.flysfo.com/</td>\n",
       "      <td>http://en.wikipedia.org/wiki/San_Francisco_Int...</td>\n",
       "      <td>QSF, QBA</td>\n",
       "      <td>1112475</td>\n",
       "      <td>2008-06-13T14:30:04+00:00</td>\n",
       "    </tr>\n",
       "  </tbody>\n",
       "</table>\n",
       "</div>"
      ],
      "text/plain": [
       "     id ident           type  \\\n",
       "1  3632  KLAX  large_airport   \n",
       "2  3622  KJFK  large_airport   \n",
       "3  3754  KORD  large_airport   \n",
       "4  3384  KATL  large_airport   \n",
       "5  3878  KSFO  large_airport   \n",
       "\n",
       "                                               name       latitude_deg  \\\n",
       "1                 Los Angeles International Airport        33.94250107   \n",
       "2              John F Kennedy International Airport        40.63980103   \n",
       "3              Chicago O'Hare International Airport        41.97859955   \n",
       "4  Hartsfield Jackson Atlanta International Airport  33.63669967651367   \n",
       "5               San Francisco International Airport  37.61899948120117   \n",
       "\n",
       "       longitude_deg elevation_ft continent iso_country iso_region  \\\n",
       "1       -118.4079971          125       NaN          US      US-CA   \n",
       "2       -73.77890015           13       NaN          US      US-NY   \n",
       "3       -87.90480042          672       NaN          US      US-IL   \n",
       "4  -84.4281005859375         1026       NaN          US      US-GA   \n",
       "5           -122.375           13       NaN          US      US-CA   \n",
       "\n",
       "    municipality scheduled_service gps_code iata_code local_code  \\\n",
       "1    Los Angeles                 1     KLAX       LAX        LAX   \n",
       "2       New York                 1     KJFK       JFK        JFK   \n",
       "3        Chicago                 1     KORD       ORD        ORD   \n",
       "4        Atlanta                 1     KATL       ATL        ATL   \n",
       "5  San Francisco                 1     KSFO       SFO        SFO   \n",
       "\n",
       "                                           home_link  \\\n",
       "1                            http://www.iflylax.com/   \n",
       "2  http://www.panynj.gov/CommutingTravel/airports...   \n",
       "3  http://www.flychicago.com/ohare/en/home/Pages/...   \n",
       "4                    http://www.atlanta-airport.com/   \n",
       "5                             http://www.flysfo.com/   \n",
       "\n",
       "                                      wikipedia_link  \\\n",
       "1  http://en.wikipedia.org/wiki/Los_Angeles_Inter...   \n",
       "2  http://en.wikipedia.org/wiki/John_F._Kennedy_I...   \n",
       "3  http://en.wikipedia.org/wiki/O'Hare_Internatio...   \n",
       "4  http://en.wikipedia.org/wiki/Hartsfield-Jackso...   \n",
       "5  http://en.wikipedia.org/wiki/San_Francisco_Int...   \n",
       "\n",
       "                                  keywords    score               last_updated  \n",
       "1                                      NaN  1335475  2010-01-23T11:27:55+00:00  \n",
       "2  Manhattan, New York City, NYC, Idlewild  1052075  2010-01-23T11:27:54+00:00  \n",
       "3                       CHI, Orchard Place  1503175  2014-08-19T18:55:27+00:00  \n",
       "4                                      NaN  2002475  2008-06-13T14:30:04+00:00  \n",
       "5                                 QSF, QBA  1112475  2008-06-13T14:30:04+00:00  "
      ]
     },
     "execution_count": 7,
     "metadata": {},
     "output_type": "execute_result"
    }
   ],
   "source": [
    "df_a1.head()"
   ]
  },
  {
   "cell_type": "code",
   "execution_count": 8,
   "id": "63640f87",
   "metadata": {},
   "outputs": [],
   "source": [
    "#rename column in airport data from ident to Airport_Code to merge\n",
    "df_a1.rename(columns={'ident': 'Airport_Code'}, inplace=True)\n"
   ]
  },
  {
   "cell_type": "code",
   "execution_count": 9,
   "id": "cf72025c",
   "metadata": {},
   "outputs": [],
   "source": [
    "#amend airport dataframe without extra columns including only these listed\n",
    "df_a1 = df_a1[['Airport_Code', 'type', 'name', 'latitude_deg', 'longitude_deg']]"
   ]
  },
  {
   "cell_type": "markdown",
   "id": "318df78a",
   "metadata": {},
   "source": [
    "# merge airport and clean (US Construction) data"
   ]
  },
  {
   "cell_type": "code",
   "execution_count": 10,
   "id": "1567128c",
   "metadata": {},
   "outputs": [],
   "source": [
    "#merge data\n",
    "df_merged = df.merge(df_a1, how = 'left', on=['Airport_Code'], indicator = True)"
   ]
  },
  {
   "cell_type": "code",
   "execution_count": 11,
   "id": "ea6d9339",
   "metadata": {},
   "outputs": [
    {
     "data": {
      "text/html": [
       "<div>\n",
       "<style scoped>\n",
       "    .dataframe tbody tr th:only-of-type {\n",
       "        vertical-align: middle;\n",
       "    }\n",
       "\n",
       "    .dataframe tbody tr th {\n",
       "        vertical-align: top;\n",
       "    }\n",
       "\n",
       "    .dataframe thead th {\n",
       "        text-align: right;\n",
       "    }\n",
       "</style>\n",
       "<table border=\"1\" class=\"dataframe\">\n",
       "  <thead>\n",
       "    <tr style=\"text-align: right;\">\n",
       "      <th></th>\n",
       "      <th>ID</th>\n",
       "      <th>Severity</th>\n",
       "      <th>Start_Lat</th>\n",
       "      <th>Start_Lng</th>\n",
       "      <th>Distance(mi)</th>\n",
       "      <th>City</th>\n",
       "      <th>County</th>\n",
       "      <th>State</th>\n",
       "      <th>Timezone</th>\n",
       "      <th>Airport_Code</th>\n",
       "      <th>...</th>\n",
       "      <th>Precipitation(in)</th>\n",
       "      <th>Weather_Condition</th>\n",
       "      <th>Start_Time_no_ext</th>\n",
       "      <th>End_Time_no_ext</th>\n",
       "      <th>Zipcode_no_ext</th>\n",
       "      <th>type</th>\n",
       "      <th>name</th>\n",
       "      <th>latitude_deg</th>\n",
       "      <th>longitude_deg</th>\n",
       "      <th>_merge</th>\n",
       "    </tr>\n",
       "  </thead>\n",
       "  <tbody>\n",
       "    <tr>\n",
       "      <th>0</th>\n",
       "      <td>C-1</td>\n",
       "      <td>4</td>\n",
       "      <td>32.838360</td>\n",
       "      <td>-93.152378</td>\n",
       "      <td>1.103497</td>\n",
       "      <td>Haynesville</td>\n",
       "      <td>Claiborne</td>\n",
       "      <td>LA</td>\n",
       "      <td>US/Central</td>\n",
       "      <td>KMNE</td>\n",
       "      <td>...</td>\n",
       "      <td>0.0</td>\n",
       "      <td>Fair</td>\n",
       "      <td>2019-04-05 16:00:00</td>\n",
       "      <td>2020-09-29 11:53:57</td>\n",
       "      <td>71038</td>\n",
       "      <td>NaN</td>\n",
       "      <td>NaN</td>\n",
       "      <td>NaN</td>\n",
       "      <td>NaN</td>\n",
       "      <td>left_only</td>\n",
       "    </tr>\n",
       "    <tr>\n",
       "      <th>1</th>\n",
       "      <td>C-2</td>\n",
       "      <td>2</td>\n",
       "      <td>30.221331</td>\n",
       "      <td>-92.008625</td>\n",
       "      <td>0.433173</td>\n",
       "      <td>Lafayette</td>\n",
       "      <td>Lafayette</td>\n",
       "      <td>LA</td>\n",
       "      <td>US/Central</td>\n",
       "      <td>KLFT</td>\n",
       "      <td>...</td>\n",
       "      <td>0.0</td>\n",
       "      <td>Mostly Cloudy</td>\n",
       "      <td>2021-11-12 07:59:00</td>\n",
       "      <td>2021-11-12 08:22:30</td>\n",
       "      <td>70501</td>\n",
       "      <td>large_airport</td>\n",
       "      <td>Lafayette Regional Airport</td>\n",
       "      <td>30.20529938</td>\n",
       "      <td>-91.98760223</td>\n",
       "      <td>both</td>\n",
       "    </tr>\n",
       "    <tr>\n",
       "      <th>2</th>\n",
       "      <td>C-3</td>\n",
       "      <td>2</td>\n",
       "      <td>39.653153</td>\n",
       "      <td>-104.910224</td>\n",
       "      <td>0.192266</td>\n",
       "      <td>Denver</td>\n",
       "      <td>Denver</td>\n",
       "      <td>CO</td>\n",
       "      <td>US/Mountain</td>\n",
       "      <td>KBKF</td>\n",
       "      <td>...</td>\n",
       "      <td>0.0</td>\n",
       "      <td>Partly Cloudy</td>\n",
       "      <td>2021-10-12 07:17:30</td>\n",
       "      <td>2021-10-12 09:18:55</td>\n",
       "      <td>80224</td>\n",
       "      <td>medium_airport</td>\n",
       "      <td>Buckley Air Force Base</td>\n",
       "      <td>39.701698303200004</td>\n",
       "      <td>-104.751998901</td>\n",
       "      <td>both</td>\n",
       "    </tr>\n",
       "    <tr>\n",
       "      <th>3</th>\n",
       "      <td>C-4</td>\n",
       "      <td>4</td>\n",
       "      <td>33.961506</td>\n",
       "      <td>-118.029339</td>\n",
       "      <td>0.032112</td>\n",
       "      <td>Whittier</td>\n",
       "      <td>Los Angeles</td>\n",
       "      <td>CA</td>\n",
       "      <td>US/Pacific</td>\n",
       "      <td>KFUL</td>\n",
       "      <td>...</td>\n",
       "      <td>0.0</td>\n",
       "      <td>Cloudy</td>\n",
       "      <td>2021-02-10 02:46:10</td>\n",
       "      <td>2021-02-17 23:59:00</td>\n",
       "      <td>90605</td>\n",
       "      <td>small_airport</td>\n",
       "      <td>Fullerton Municipal Airport</td>\n",
       "      <td>33.8720016479</td>\n",
       "      <td>-117.980003357</td>\n",
       "      <td>both</td>\n",
       "    </tr>\n",
       "    <tr>\n",
       "      <th>4</th>\n",
       "      <td>C-5</td>\n",
       "      <td>2</td>\n",
       "      <td>40.008734</td>\n",
       "      <td>-79.599696</td>\n",
       "      <td>0.996057</td>\n",
       "      <td>Connellsville</td>\n",
       "      <td>Fayette</td>\n",
       "      <td>PA</td>\n",
       "      <td>US/Eastern</td>\n",
       "      <td>KLBE</td>\n",
       "      <td>...</td>\n",
       "      <td>0.0</td>\n",
       "      <td>Partly Cloudy</td>\n",
       "      <td>2020-09-24 15:58:00</td>\n",
       "      <td>2020-09-25 21:04:54</td>\n",
       "      <td>15425</td>\n",
       "      <td>medium_airport</td>\n",
       "      <td>Arnold Palmer Regional Airport</td>\n",
       "      <td>40.27590179</td>\n",
       "      <td>-79.40480042</td>\n",
       "      <td>both</td>\n",
       "    </tr>\n",
       "  </tbody>\n",
       "</table>\n",
       "<p>5 rows × 25 columns</p>\n",
       "</div>"
      ],
      "text/plain": [
       "    ID  Severity  Start_Lat   Start_Lng  Distance(mi)           City  \\\n",
       "0  C-1         4  32.838360  -93.152378      1.103497    Haynesville   \n",
       "1  C-2         2  30.221331  -92.008625      0.433173      Lafayette   \n",
       "2  C-3         2  39.653153 -104.910224      0.192266         Denver   \n",
       "3  C-4         4  33.961506 -118.029339      0.032112       Whittier   \n",
       "4  C-5         2  40.008734  -79.599696      0.996057  Connellsville   \n",
       "\n",
       "        County State     Timezone Airport_Code  ... Precipitation(in)  \\\n",
       "0    Claiborne    LA   US/Central         KMNE  ...               0.0   \n",
       "1    Lafayette    LA   US/Central         KLFT  ...               0.0   \n",
       "2       Denver    CO  US/Mountain         KBKF  ...               0.0   \n",
       "3  Los Angeles    CA   US/Pacific         KFUL  ...               0.0   \n",
       "4      Fayette    PA   US/Eastern         KLBE  ...               0.0   \n",
       "\n",
       "   Weather_Condition    Start_Time_no_ext      End_Time_no_ext Zipcode_no_ext  \\\n",
       "0               Fair  2019-04-05 16:00:00  2020-09-29 11:53:57          71038   \n",
       "1      Mostly Cloudy  2021-11-12 07:59:00  2021-11-12 08:22:30          70501   \n",
       "2      Partly Cloudy  2021-10-12 07:17:30  2021-10-12 09:18:55          80224   \n",
       "3             Cloudy  2021-02-10 02:46:10  2021-02-17 23:59:00          90605   \n",
       "4      Partly Cloudy  2020-09-24 15:58:00  2020-09-25 21:04:54          15425   \n",
       "\n",
       "             type                            name        latitude_deg  \\\n",
       "0             NaN                             NaN                 NaN   \n",
       "1   large_airport      Lafayette Regional Airport         30.20529938   \n",
       "2  medium_airport          Buckley Air Force Base  39.701698303200004   \n",
       "3   small_airport     Fullerton Municipal Airport       33.8720016479   \n",
       "4  medium_airport  Arnold Palmer Regional Airport         40.27590179   \n",
       "\n",
       "    longitude_deg     _merge  \n",
       "0             NaN  left_only  \n",
       "1    -91.98760223       both  \n",
       "2  -104.751998901       both  \n",
       "3  -117.980003357       both  \n",
       "4    -79.40480042       both  \n",
       "\n",
       "[5 rows x 25 columns]"
      ]
     },
     "execution_count": 11,
     "metadata": {},
     "output_type": "execute_result"
    }
   ],
   "source": [
    "#check that column headers & data look ok\n",
    "df_merged.head()"
   ]
  },
  {
   "cell_type": "code",
   "execution_count": 12,
   "id": "6a004185",
   "metadata": {},
   "outputs": [
    {
     "data": {
      "text/plain": [
       "(5564502, 25)"
      ]
     },
     "execution_count": 12,
     "metadata": {},
     "output_type": "execute_result"
    }
   ],
   "source": [
    "#check numbers \n",
    "#(20 columns from clean Construction, including one joined column) + 4 new columns + _merge column = 25)\n",
    "#same number of records as in clean Construction :)\n",
    "df_merged.shape"
   ]
  },
  {
   "cell_type": "code",
   "execution_count": 13,
   "id": "15d71f85",
   "metadata": {},
   "outputs": [
    {
     "data": {
      "text/plain": [
       "both          5153662\n",
       "left_only      410840\n",
       "right_only          0\n",
       "Name: _merge, dtype: int64"
      ]
     },
     "execution_count": 13,
     "metadata": {},
     "output_type": "execute_result"
    }
   ],
   "source": [
    "#410,840 construction data did not have an airport match\n",
    "df_merged['_merge'].value_counts(dropna = False)"
   ]
  },
  {
   "cell_type": "code",
   "execution_count": 14,
   "id": "413ccdb5",
   "metadata": {},
   "outputs": [
    {
     "name": "stdout",
     "output_type": "stream",
     "text": [
      "83.51925987423968\n"
     ]
    }
   ],
   "source": [
    "#what percent of data will I be left with, omitting the unmatched data\n",
    "x = (5153662*100)/6170627\n",
    "print (x)"
   ]
  },
  {
   "cell_type": "code",
   "execution_count": 15,
   "id": "48b64d42",
   "metadata": {},
   "outputs": [
    {
     "data": {
      "text/plain": [
       "NaN                   410840\n",
       "33.43429946899414     183097\n",
       "25.79319953918457     102855\n",
       "40.77719879            95790\n",
       "33.52690124511719      73645\n",
       "                       ...  \n",
       "33.23979949951172          2\n",
       "27.901100158691406         2\n",
       "36.587200164799995         1\n",
       "48.177898407               1\n",
       "47.79570007                1\n",
       "Name: latitude_deg, Length: 1872, dtype: int64"
      ]
     },
     "execution_count": 15,
     "metadata": {},
     "output_type": "execute_result"
    }
   ],
   "source": [
    "#checking that the missing latitude_deg of the airport is the same number as 'left_only' merges\n",
    "df_merged['latitude_deg'].value_counts(dropna = False)"
   ]
  },
  {
   "cell_type": "code",
   "execution_count": 16,
   "id": "ef1781a2",
   "metadata": {},
   "outputs": [],
   "source": [
    "#executive decision: drop unmatched data since part of my analysis is to look at distance from Construction to Airport\n",
    "df_merged2 = df_merged[df_merged['latitude_deg'].isnull()==False]"
   ]
  },
  {
   "cell_type": "code",
   "execution_count": 17,
   "id": "6b4100e5",
   "metadata": {},
   "outputs": [
    {
     "data": {
      "text/plain": [
       "(5153662, 25)"
      ]
     },
     "execution_count": 17,
     "metadata": {},
     "output_type": "execute_result"
    }
   ],
   "source": [
    "df_merged2.shape"
   ]
  },
  {
   "cell_type": "code",
   "execution_count": 18,
   "id": "f3ab33a9",
   "metadata": {},
   "outputs": [],
   "source": [
    "#no need for the _merge column, drop it!\n",
    "df_merged2=df_merged2.drop(columns=['_merge'])"
   ]
  },
  {
   "cell_type": "code",
   "execution_count": 19,
   "id": "28c74436",
   "metadata": {},
   "outputs": [
    {
     "data": {
      "text/plain": [
       "(5153662, 24)"
      ]
     },
     "execution_count": 19,
     "metadata": {},
     "output_type": "execute_result"
    }
   ],
   "source": [
    "df_merged2.shape"
   ]
  },
  {
   "cell_type": "code",
   "execution_count": 20,
   "id": "f8edbee1",
   "metadata": {},
   "outputs": [
    {
     "data": {
      "text/plain": [
       "ID                   5153662\n",
       "Severity                   4\n",
       "Start_Lat            1039524\n",
       "Start_Lng            1076240\n",
       "Distance(mi)         1511596\n",
       "City                   13381\n",
       "County                  1847\n",
       "State                     49\n",
       "Timezone                   4\n",
       "Airport_Code            1874\n",
       "Weather_Timestamp     456433\n",
       "Temperature(F)           738\n",
       "Wind_Chill(F)           1151\n",
       "Visibility(mi)            69\n",
       "Wind_Direction            18\n",
       "Precipitation(in)        218\n",
       "Weather_Condition        108\n",
       "Start_Time_no_ext    1611740\n",
       "End_Time_no_ext      1881548\n",
       "Zipcode_no_ext         24210\n",
       "type                       5\n",
       "name                    1846\n",
       "latitude_deg            1871\n",
       "longitude_deg           1872\n",
       "dtype: int64"
      ]
     },
     "execution_count": 20,
     "metadata": {},
     "output_type": "execute_result"
    }
   ],
   "source": [
    "#check values in dataset, make sure still 49 states (not incl AK & HI, incl DC)\n",
    "df_merged2.nunique()"
   ]
  },
  {
   "cell_type": "code",
   "execution_count": 21,
   "id": "ecbbc467",
   "metadata": {},
   "outputs": [
    {
     "data": {
      "text/plain": [
       "ID                   0\n",
       "Severity             0\n",
       "Start_Lat            0\n",
       "Start_Lng            0\n",
       "Distance(mi)         0\n",
       "City                 0\n",
       "County               0\n",
       "State                0\n",
       "Timezone             0\n",
       "Airport_Code         0\n",
       "Weather_Timestamp    0\n",
       "Temperature(F)       0\n",
       "Wind_Chill(F)        0\n",
       "Visibility(mi)       0\n",
       "Wind_Direction       0\n",
       "Precipitation(in)    0\n",
       "Weather_Condition    0\n",
       "Start_Time_no_ext    0\n",
       "End_Time_no_ext      0\n",
       "Zipcode_no_ext       0\n",
       "type                 0\n",
       "name                 0\n",
       "latitude_deg         0\n",
       "longitude_deg        0\n",
       "dtype: int64"
      ]
     },
     "execution_count": 21,
     "metadata": {},
     "output_type": "execute_result"
    }
   ],
   "source": [
    "#check for null values\n",
    "df_merged2.isnull().sum()"
   ]
  },
  {
   "cell_type": "code",
   "execution_count": 22,
   "id": "1227909e",
   "metadata": {},
   "outputs": [],
   "source": [
    "#not needed for analysis\n",
    "df_merged2 = df_merged2.drop(columns=('Wind_Chill(F)'))"
   ]
  },
  {
   "cell_type": "code",
   "execution_count": 23,
   "id": "73856b67",
   "metadata": {},
   "outputs": [
    {
     "data": {
      "text/plain": [
       "(5153662, 23)"
      ]
     },
     "execution_count": 23,
     "metadata": {},
     "output_type": "execute_result"
    }
   ],
   "source": [
    "df_merged2.shape"
   ]
  },
  {
   "cell_type": "code",
   "execution_count": 24,
   "id": "67ed2164",
   "metadata": {},
   "outputs": [],
   "source": [
    "for col in df_merged2.columns.tolist():\n",
    "    weird = (df_merged2[[col]].applymap(type) != df_merged2[[col]].iloc[0].apply(type)).any(axis = 1)\n",
    "    if len (df_merged2[weird]) > 0:\n",
    "        print (col)"
   ]
  },
  {
   "cell_type": "code",
   "execution_count": 25,
   "id": "9f9c3582",
   "metadata": {},
   "outputs": [],
   "source": [
    "#export data\n",
    "df_merged2.to_csv(os.path.join(path, '02 Data', 'Prepared', 'merged.csv'), index = False)"
   ]
  },
  {
   "cell_type": "code",
   "execution_count": null,
   "id": "628d79ac",
   "metadata": {},
   "outputs": [],
   "source": []
  }
 ],
 "metadata": {
  "kernelspec": {
   "display_name": "Python 3 (ipykernel)",
   "language": "python",
   "name": "python3"
  },
  "language_info": {
   "codemirror_mode": {
    "name": "ipython",
    "version": 3
   },
   "file_extension": ".py",
   "mimetype": "text/x-python",
   "name": "python",
   "nbconvert_exporter": "python",
   "pygments_lexer": "ipython3",
   "version": "3.9.7"
  }
 },
 "nbformat": 4,
 "nbformat_minor": 5
}
