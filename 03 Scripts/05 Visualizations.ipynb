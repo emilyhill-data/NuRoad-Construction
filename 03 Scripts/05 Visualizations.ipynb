{
 "cells": [
  {
   "cell_type": "markdown",
   "id": "6d1ec264",
   "metadata": {},
   "source": [
    "## contents\n",
    "### 01 import libraries\n",
    "### 02 import data\n",
    "### 03 change data types\n",
    "#### a) change int64 and float64 to smaller values if it will not lose numeric value\n",
    "#### b) create new df using records where visibility is <= 100mi. (eliminating 12 records)\n",
    "### 04 visualizations\n",
    "#### a) correlation matrix heatmap (colored)\n",
    "#### b) scatterplot(s)\n",
    "#### c) pair plot w/ entire dataset\n",
    "#### d) categorical plot"
   ]
  },
  {
   "cell_type": "markdown",
   "id": "db3a138f",
   "metadata": {},
   "source": [
    "# 01 import libraries"
   ]
  },
  {
   "cell_type": "code",
   "execution_count": 1,
   "id": "01631085",
   "metadata": {},
   "outputs": [],
   "source": [
    "#import libraries\n",
    "import pandas as pd\n",
    "import numpy as np\n",
    "import os\n",
    "import matplotlib.pyplot as plt\n",
    "import seaborn as sns\n",
    "import scipy"
   ]
  },
  {
   "cell_type": "markdown",
   "id": "65d5a90a",
   "metadata": {},
   "source": [
    "# 02 import data"
   ]
  },
  {
   "cell_type": "code",
   "execution_count": 2,
   "id": "d4d641f6",
   "metadata": {},
   "outputs": [],
   "source": [
    "#create path\n",
    "path = r'C:\\Users\\erhil\\OneDrive\\Career Foundry Program\\Immersion Data Analytics Course\\A6 - Adv. Analytics & Dashboard Design\\Project A6'"
   ]
  },
  {
   "cell_type": "code",
   "execution_count": 3,
   "id": "1e95a294",
   "metadata": {},
   "outputs": [],
   "source": [
    "#import clean data\n",
    "df = pd.read_csv(os.path.join(path, '02 Data', 'Prepared', 'merged.csv'), index_col = False)"
   ]
  },
  {
   "cell_type": "markdown",
   "id": "b89589e3",
   "metadata": {},
   "source": [
    "# 03 change data types\n",
    "a) numeric values are evaluated so that data are not compromised, but may be faster to work with on visualizations\n",
    "b) change column names to remove ambiguity after being merged\n",
    "c) use records where visibility is <= 100mi. (eliminating 12 records)\n",
    "d) export cleaned data"
   ]
  },
  {
   "cell_type": "code",
   "execution_count": 4,
   "id": "a54d8c41",
   "metadata": {},
   "outputs": [
    {
     "data": {
      "text/plain": [
       "(5153662, 23)"
      ]
     },
     "execution_count": 4,
     "metadata": {},
     "output_type": "execute_result"
    }
   ],
   "source": [
    "df.shape"
   ]
  },
  {
   "cell_type": "code",
   "execution_count": 5,
   "id": "42f54cb7",
   "metadata": {},
   "outputs": [
    {
     "data": {
      "text/html": [
       "<div>\n",
       "<style scoped>\n",
       "    .dataframe tbody tr th:only-of-type {\n",
       "        vertical-align: middle;\n",
       "    }\n",
       "\n",
       "    .dataframe tbody tr th {\n",
       "        vertical-align: top;\n",
       "    }\n",
       "\n",
       "    .dataframe thead th {\n",
       "        text-align: right;\n",
       "    }\n",
       "</style>\n",
       "<table border=\"1\" class=\"dataframe\">\n",
       "  <thead>\n",
       "    <tr style=\"text-align: right;\">\n",
       "      <th></th>\n",
       "      <th>ID</th>\n",
       "      <th>Severity</th>\n",
       "      <th>Start_Lat</th>\n",
       "      <th>Start_Lng</th>\n",
       "      <th>Distance(mi)</th>\n",
       "      <th>City</th>\n",
       "      <th>County</th>\n",
       "      <th>State</th>\n",
       "      <th>Timezone</th>\n",
       "      <th>Airport_Code</th>\n",
       "      <th>...</th>\n",
       "      <th>Wind_Direction</th>\n",
       "      <th>Precipitation(in)</th>\n",
       "      <th>Weather_Condition</th>\n",
       "      <th>Start_Time_no_ext</th>\n",
       "      <th>End_Time_no_ext</th>\n",
       "      <th>Zipcode_no_ext</th>\n",
       "      <th>type</th>\n",
       "      <th>name</th>\n",
       "      <th>latitude_deg</th>\n",
       "      <th>longitude_deg</th>\n",
       "    </tr>\n",
       "  </thead>\n",
       "  <tbody>\n",
       "    <tr>\n",
       "      <th>count</th>\n",
       "      <td>5153662</td>\n",
       "      <td>5.153662e+06</td>\n",
       "      <td>5.153662e+06</td>\n",
       "      <td>5.153662e+06</td>\n",
       "      <td>5.153662e+06</td>\n",
       "      <td>5153662</td>\n",
       "      <td>5153662</td>\n",
       "      <td>5153662</td>\n",
       "      <td>5153662</td>\n",
       "      <td>5153662</td>\n",
       "      <td>...</td>\n",
       "      <td>5153662</td>\n",
       "      <td>5.153662e+06</td>\n",
       "      <td>5153662</td>\n",
       "      <td>5153662</td>\n",
       "      <td>5153662</td>\n",
       "      <td>5.153662e+06</td>\n",
       "      <td>5153662</td>\n",
       "      <td>5153662</td>\n",
       "      <td>5.153662e+06</td>\n",
       "      <td>5.153662e+06</td>\n",
       "    </tr>\n",
       "    <tr>\n",
       "      <th>unique</th>\n",
       "      <td>5153662</td>\n",
       "      <td>NaN</td>\n",
       "      <td>NaN</td>\n",
       "      <td>NaN</td>\n",
       "      <td>NaN</td>\n",
       "      <td>13381</td>\n",
       "      <td>1847</td>\n",
       "      <td>49</td>\n",
       "      <td>4</td>\n",
       "      <td>1874</td>\n",
       "      <td>...</td>\n",
       "      <td>18</td>\n",
       "      <td>NaN</td>\n",
       "      <td>108</td>\n",
       "      <td>1611740</td>\n",
       "      <td>1881548</td>\n",
       "      <td>NaN</td>\n",
       "      <td>5</td>\n",
       "      <td>1846</td>\n",
       "      <td>NaN</td>\n",
       "      <td>NaN</td>\n",
       "    </tr>\n",
       "    <tr>\n",
       "      <th>top</th>\n",
       "      <td>C-2</td>\n",
       "      <td>NaN</td>\n",
       "      <td>NaN</td>\n",
       "      <td>NaN</td>\n",
       "      <td>NaN</td>\n",
       "      <td>Phoenix</td>\n",
       "      <td>Maricopa</td>\n",
       "      <td>FL</td>\n",
       "      <td>US/Eastern</td>\n",
       "      <td>KPHX</td>\n",
       "      <td>...</td>\n",
       "      <td>CALM</td>\n",
       "      <td>NaN</td>\n",
       "      <td>Fair</td>\n",
       "      <td>2021-02-16 05:41:49</td>\n",
       "      <td>2021-02-16 19:08:41</td>\n",
       "      <td>NaN</td>\n",
       "      <td>small_airport</td>\n",
       "      <td>Phoenix Sky Harbor International Airport</td>\n",
       "      <td>NaN</td>\n",
       "      <td>NaN</td>\n",
       "    </tr>\n",
       "    <tr>\n",
       "      <th>freq</th>\n",
       "      <td>1</td>\n",
       "      <td>NaN</td>\n",
       "      <td>NaN</td>\n",
       "      <td>NaN</td>\n",
       "      <td>NaN</td>\n",
       "      <td>245868</td>\n",
       "      <td>344589</td>\n",
       "      <td>734571</td>\n",
       "      <td>2614757</td>\n",
       "      <td>183097</td>\n",
       "      <td>...</td>\n",
       "      <td>888129</td>\n",
       "      <td>NaN</td>\n",
       "      <td>2288709</td>\n",
       "      <td>1296</td>\n",
       "      <td>1599</td>\n",
       "      <td>NaN</td>\n",
       "      <td>1892381</td>\n",
       "      <td>183097</td>\n",
       "      <td>NaN</td>\n",
       "      <td>NaN</td>\n",
       "    </tr>\n",
       "    <tr>\n",
       "      <th>mean</th>\n",
       "      <td>NaN</td>\n",
       "      <td>2.258540e+00</td>\n",
       "      <td>3.707710e+01</td>\n",
       "      <td>-9.188944e+01</td>\n",
       "      <td>1.355767e+00</td>\n",
       "      <td>NaN</td>\n",
       "      <td>NaN</td>\n",
       "      <td>NaN</td>\n",
       "      <td>NaN</td>\n",
       "      <td>NaN</td>\n",
       "      <td>...</td>\n",
       "      <td>NaN</td>\n",
       "      <td>2.764264e-03</td>\n",
       "      <td>NaN</td>\n",
       "      <td>NaN</td>\n",
       "      <td>NaN</td>\n",
       "      <td>5.128151e+04</td>\n",
       "      <td>NaN</td>\n",
       "      <td>NaN</td>\n",
       "      <td>3.707535e+01</td>\n",
       "      <td>-9.188983e+01</td>\n",
       "    </tr>\n",
       "    <tr>\n",
       "      <th>std</th>\n",
       "      <td>NaN</td>\n",
       "      <td>6.317708e-01</td>\n",
       "      <td>5.666324e+00</td>\n",
       "      <td>1.594532e+01</td>\n",
       "      <td>4.092732e+00</td>\n",
       "      <td>NaN</td>\n",
       "      <td>NaN</td>\n",
       "      <td>NaN</td>\n",
       "      <td>NaN</td>\n",
       "      <td>NaN</td>\n",
       "      <td>...</td>\n",
       "      <td>NaN</td>\n",
       "      <td>4.926363e-02</td>\n",
       "      <td>NaN</td>\n",
       "      <td>NaN</td>\n",
       "      <td>NaN</td>\n",
       "      <td>2.942521e+04</td>\n",
       "      <td>NaN</td>\n",
       "      <td>NaN</td>\n",
       "      <td>5.663796e+00</td>\n",
       "      <td>1.595180e+01</td>\n",
       "    </tr>\n",
       "    <tr>\n",
       "      <th>min</th>\n",
       "      <td>NaN</td>\n",
       "      <td>1.000000e+00</td>\n",
       "      <td>2.455045e+01</td>\n",
       "      <td>-1.245569e+02</td>\n",
       "      <td>4.657500e-05</td>\n",
       "      <td>NaN</td>\n",
       "      <td>NaN</td>\n",
       "      <td>NaN</td>\n",
       "      <td>NaN</td>\n",
       "      <td>NaN</td>\n",
       "      <td>...</td>\n",
       "      <td>NaN</td>\n",
       "      <td>0.000000e+00</td>\n",
       "      <td>NaN</td>\n",
       "      <td>NaN</td>\n",
       "      <td>NaN</td>\n",
       "      <td>1.001000e+03</td>\n",
       "      <td>NaN</td>\n",
       "      <td>NaN</td>\n",
       "      <td>2.455610e+01</td>\n",
       "      <td>-1.245630e+02</td>\n",
       "    </tr>\n",
       "    <tr>\n",
       "      <th>25%</th>\n",
       "      <td>NaN</td>\n",
       "      <td>2.000000e+00</td>\n",
       "      <td>3.346487e+01</td>\n",
       "      <td>-1.050013e+02</td>\n",
       "      <td>1.569348e-01</td>\n",
       "      <td>NaN</td>\n",
       "      <td>NaN</td>\n",
       "      <td>NaN</td>\n",
       "      <td>NaN</td>\n",
       "      <td>NaN</td>\n",
       "      <td>...</td>\n",
       "      <td>NaN</td>\n",
       "      <td>0.000000e+00</td>\n",
       "      <td>NaN</td>\n",
       "      <td>NaN</td>\n",
       "      <td>NaN</td>\n",
       "      <td>2.811700e+04</td>\n",
       "      <td>NaN</td>\n",
       "      <td>NaN</td>\n",
       "      <td>3.343430e+01</td>\n",
       "      <td>-1.050480e+02</td>\n",
       "    </tr>\n",
       "    <tr>\n",
       "      <th>50%</th>\n",
       "      <td>NaN</td>\n",
       "      <td>2.000000e+00</td>\n",
       "      <td>3.895644e+01</td>\n",
       "      <td>-8.625898e+01</td>\n",
       "      <td>3.725871e-01</td>\n",
       "      <td>NaN</td>\n",
       "      <td>NaN</td>\n",
       "      <td>NaN</td>\n",
       "      <td>NaN</td>\n",
       "      <td>NaN</td>\n",
       "      <td>...</td>\n",
       "      <td>NaN</td>\n",
       "      <td>0.000000e+00</td>\n",
       "      <td>NaN</td>\n",
       "      <td>NaN</td>\n",
       "      <td>NaN</td>\n",
       "      <td>4.727400e+04</td>\n",
       "      <td>NaN</td>\n",
       "      <td>NaN</td>\n",
       "      <td>3.896970e+01</td>\n",
       "      <td>-8.629440e+01</td>\n",
       "    </tr>\n",
       "    <tr>\n",
       "      <th>75%</th>\n",
       "      <td>NaN</td>\n",
       "      <td>2.000000e+00</td>\n",
       "      <td>4.123571e+01</td>\n",
       "      <td>-8.012046e+01</td>\n",
       "      <td>1.134753e+00</td>\n",
       "      <td>NaN</td>\n",
       "      <td>NaN</td>\n",
       "      <td>NaN</td>\n",
       "      <td>NaN</td>\n",
       "      <td>NaN</td>\n",
       "      <td>...</td>\n",
       "      <td>NaN</td>\n",
       "      <td>0.000000e+00</td>\n",
       "      <td>NaN</td>\n",
       "      <td>NaN</td>\n",
       "      <td>NaN</td>\n",
       "      <td>8.022300e+04</td>\n",
       "      <td>NaN</td>\n",
       "      <td>NaN</td>\n",
       "      <td>4.126370e+01</td>\n",
       "      <td>-8.011110e+01</td>\n",
       "    </tr>\n",
       "    <tr>\n",
       "      <th>max</th>\n",
       "      <td>NaN</td>\n",
       "      <td>4.000000e+00</td>\n",
       "      <td>4.900083e+01</td>\n",
       "      <td>-6.706635e+01</td>\n",
       "      <td>6.877400e+02</td>\n",
       "      <td>NaN</td>\n",
       "      <td>NaN</td>\n",
       "      <td>NaN</td>\n",
       "      <td>NaN</td>\n",
       "      <td>NaN</td>\n",
       "      <td>...</td>\n",
       "      <td>NaN</td>\n",
       "      <td>2.400000e+01</td>\n",
       "      <td>NaN</td>\n",
       "      <td>NaN</td>\n",
       "      <td>NaN</td>\n",
       "      <td>9.940300e+04</td>\n",
       "      <td>NaN</td>\n",
       "      <td>NaN</td>\n",
       "      <td>4.894140e+01</td>\n",
       "      <td>-6.779210e+01</td>\n",
       "    </tr>\n",
       "  </tbody>\n",
       "</table>\n",
       "<p>11 rows × 23 columns</p>\n",
       "</div>"
      ],
      "text/plain": [
       "             ID      Severity     Start_Lat     Start_Lng  Distance(mi)  \\\n",
       "count   5153662  5.153662e+06  5.153662e+06  5.153662e+06  5.153662e+06   \n",
       "unique  5153662           NaN           NaN           NaN           NaN   \n",
       "top         C-2           NaN           NaN           NaN           NaN   \n",
       "freq          1           NaN           NaN           NaN           NaN   \n",
       "mean        NaN  2.258540e+00  3.707710e+01 -9.188944e+01  1.355767e+00   \n",
       "std         NaN  6.317708e-01  5.666324e+00  1.594532e+01  4.092732e+00   \n",
       "min         NaN  1.000000e+00  2.455045e+01 -1.245569e+02  4.657500e-05   \n",
       "25%         NaN  2.000000e+00  3.346487e+01 -1.050013e+02  1.569348e-01   \n",
       "50%         NaN  2.000000e+00  3.895644e+01 -8.625898e+01  3.725871e-01   \n",
       "75%         NaN  2.000000e+00  4.123571e+01 -8.012046e+01  1.134753e+00   \n",
       "max         NaN  4.000000e+00  4.900083e+01 -6.706635e+01  6.877400e+02   \n",
       "\n",
       "           City    County    State    Timezone Airport_Code  ...  \\\n",
       "count   5153662   5153662  5153662     5153662      5153662  ...   \n",
       "unique    13381      1847       49           4         1874  ...   \n",
       "top     Phoenix  Maricopa       FL  US/Eastern         KPHX  ...   \n",
       "freq     245868    344589   734571     2614757       183097  ...   \n",
       "mean        NaN       NaN      NaN         NaN          NaN  ...   \n",
       "std         NaN       NaN      NaN         NaN          NaN  ...   \n",
       "min         NaN       NaN      NaN         NaN          NaN  ...   \n",
       "25%         NaN       NaN      NaN         NaN          NaN  ...   \n",
       "50%         NaN       NaN      NaN         NaN          NaN  ...   \n",
       "75%         NaN       NaN      NaN         NaN          NaN  ...   \n",
       "max         NaN       NaN      NaN         NaN          NaN  ...   \n",
       "\n",
       "       Wind_Direction  Precipitation(in)  Weather_Condition  \\\n",
       "count         5153662       5.153662e+06            5153662   \n",
       "unique             18                NaN                108   \n",
       "top              CALM                NaN               Fair   \n",
       "freq           888129                NaN            2288709   \n",
       "mean              NaN       2.764264e-03                NaN   \n",
       "std               NaN       4.926363e-02                NaN   \n",
       "min               NaN       0.000000e+00                NaN   \n",
       "25%               NaN       0.000000e+00                NaN   \n",
       "50%               NaN       0.000000e+00                NaN   \n",
       "75%               NaN       0.000000e+00                NaN   \n",
       "max               NaN       2.400000e+01                NaN   \n",
       "\n",
       "          Start_Time_no_ext      End_Time_no_ext Zipcode_no_ext  \\\n",
       "count               5153662              5153662   5.153662e+06   \n",
       "unique              1611740              1881548            NaN   \n",
       "top     2021-02-16 05:41:49  2021-02-16 19:08:41            NaN   \n",
       "freq                   1296                 1599            NaN   \n",
       "mean                    NaN                  NaN   5.128151e+04   \n",
       "std                     NaN                  NaN   2.942521e+04   \n",
       "min                     NaN                  NaN   1.001000e+03   \n",
       "25%                     NaN                  NaN   2.811700e+04   \n",
       "50%                     NaN                  NaN   4.727400e+04   \n",
       "75%                     NaN                  NaN   8.022300e+04   \n",
       "max                     NaN                  NaN   9.940300e+04   \n",
       "\n",
       "                 type                                      name  latitude_deg  \\\n",
       "count         5153662                                   5153662  5.153662e+06   \n",
       "unique              5                                      1846           NaN   \n",
       "top     small_airport  Phoenix Sky Harbor International Airport           NaN   \n",
       "freq          1892381                                    183097           NaN   \n",
       "mean              NaN                                       NaN  3.707535e+01   \n",
       "std               NaN                                       NaN  5.663796e+00   \n",
       "min               NaN                                       NaN  2.455610e+01   \n",
       "25%               NaN                                       NaN  3.343430e+01   \n",
       "50%               NaN                                       NaN  3.896970e+01   \n",
       "75%               NaN                                       NaN  4.126370e+01   \n",
       "max               NaN                                       NaN  4.894140e+01   \n",
       "\n",
       "       longitude_deg  \n",
       "count   5.153662e+06  \n",
       "unique           NaN  \n",
       "top              NaN  \n",
       "freq             NaN  \n",
       "mean   -9.188983e+01  \n",
       "std     1.595180e+01  \n",
       "min    -1.245630e+02  \n",
       "25%    -1.050480e+02  \n",
       "50%    -8.629440e+01  \n",
       "75%    -8.011110e+01  \n",
       "max    -6.779210e+01  \n",
       "\n",
       "[11 rows x 23 columns]"
      ]
     },
     "execution_count": 5,
     "metadata": {},
     "output_type": "execute_result"
    }
   ],
   "source": [
    "df.describe(include='all')"
   ]
  },
  {
   "cell_type": "code",
   "execution_count": 6,
   "id": "4d868a19",
   "metadata": {},
   "outputs": [
    {
     "data": {
      "text/html": [
       "<div>\n",
       "<style scoped>\n",
       "    .dataframe tbody tr th:only-of-type {\n",
       "        vertical-align: middle;\n",
       "    }\n",
       "\n",
       "    .dataframe tbody tr th {\n",
       "        vertical-align: top;\n",
       "    }\n",
       "\n",
       "    .dataframe thead th {\n",
       "        text-align: right;\n",
       "    }\n",
       "</style>\n",
       "<table border=\"1\" class=\"dataframe\">\n",
       "  <thead>\n",
       "    <tr style=\"text-align: right;\">\n",
       "      <th></th>\n",
       "      <th>ID</th>\n",
       "      <th>Severity</th>\n",
       "      <th>Start_Lat</th>\n",
       "      <th>Start_Lng</th>\n",
       "      <th>Distance(mi)</th>\n",
       "      <th>City</th>\n",
       "      <th>County</th>\n",
       "      <th>State</th>\n",
       "      <th>Timezone</th>\n",
       "      <th>Airport_Code</th>\n",
       "      <th>...</th>\n",
       "      <th>Wind_Direction</th>\n",
       "      <th>Precipitation(in)</th>\n",
       "      <th>Weather_Condition</th>\n",
       "      <th>Start_Time_no_ext</th>\n",
       "      <th>End_Time_no_ext</th>\n",
       "      <th>Zipcode_no_ext</th>\n",
       "      <th>type</th>\n",
       "      <th>name</th>\n",
       "      <th>latitude_deg</th>\n",
       "      <th>longitude_deg</th>\n",
       "    </tr>\n",
       "  </thead>\n",
       "  <tbody>\n",
       "    <tr>\n",
       "      <th>0</th>\n",
       "      <td>C-2</td>\n",
       "      <td>2</td>\n",
       "      <td>30.221331</td>\n",
       "      <td>-92.008625</td>\n",
       "      <td>0.433173</td>\n",
       "      <td>Lafayette</td>\n",
       "      <td>Lafayette</td>\n",
       "      <td>LA</td>\n",
       "      <td>US/Central</td>\n",
       "      <td>KLFT</td>\n",
       "      <td>...</td>\n",
       "      <td>CALM</td>\n",
       "      <td>0.0</td>\n",
       "      <td>Mostly Cloudy</td>\n",
       "      <td>2021-11-12 07:59:00</td>\n",
       "      <td>2021-11-12 08:22:30</td>\n",
       "      <td>70501</td>\n",
       "      <td>large_airport</td>\n",
       "      <td>Lafayette Regional Airport</td>\n",
       "      <td>30.205299</td>\n",
       "      <td>-91.987602</td>\n",
       "    </tr>\n",
       "    <tr>\n",
       "      <th>1</th>\n",
       "      <td>C-3</td>\n",
       "      <td>2</td>\n",
       "      <td>39.653153</td>\n",
       "      <td>-104.910224</td>\n",
       "      <td>0.192266</td>\n",
       "      <td>Denver</td>\n",
       "      <td>Denver</td>\n",
       "      <td>CO</td>\n",
       "      <td>US/Mountain</td>\n",
       "      <td>KBKF</td>\n",
       "      <td>...</td>\n",
       "      <td>WSW</td>\n",
       "      <td>0.0</td>\n",
       "      <td>Partly Cloudy</td>\n",
       "      <td>2021-10-12 07:17:30</td>\n",
       "      <td>2021-10-12 09:18:55</td>\n",
       "      <td>80224</td>\n",
       "      <td>medium_airport</td>\n",
       "      <td>Buckley Air Force Base</td>\n",
       "      <td>39.701698</td>\n",
       "      <td>-104.751999</td>\n",
       "    </tr>\n",
       "    <tr>\n",
       "      <th>2</th>\n",
       "      <td>C-4</td>\n",
       "      <td>4</td>\n",
       "      <td>33.961506</td>\n",
       "      <td>-118.029339</td>\n",
       "      <td>0.032112</td>\n",
       "      <td>Whittier</td>\n",
       "      <td>Los Angeles</td>\n",
       "      <td>CA</td>\n",
       "      <td>US/Pacific</td>\n",
       "      <td>KFUL</td>\n",
       "      <td>...</td>\n",
       "      <td>CALM</td>\n",
       "      <td>0.0</td>\n",
       "      <td>Cloudy</td>\n",
       "      <td>2021-02-10 02:46:10</td>\n",
       "      <td>2021-02-17 23:59:00</td>\n",
       "      <td>90605</td>\n",
       "      <td>small_airport</td>\n",
       "      <td>Fullerton Municipal Airport</td>\n",
       "      <td>33.872002</td>\n",
       "      <td>-117.980003</td>\n",
       "    </tr>\n",
       "    <tr>\n",
       "      <th>3</th>\n",
       "      <td>C-5</td>\n",
       "      <td>2</td>\n",
       "      <td>40.008734</td>\n",
       "      <td>-79.599696</td>\n",
       "      <td>0.996057</td>\n",
       "      <td>Connellsville</td>\n",
       "      <td>Fayette</td>\n",
       "      <td>PA</td>\n",
       "      <td>US/Eastern</td>\n",
       "      <td>KLBE</td>\n",
       "      <td>...</td>\n",
       "      <td>SSW</td>\n",
       "      <td>0.0</td>\n",
       "      <td>Partly Cloudy</td>\n",
       "      <td>2020-09-24 15:58:00</td>\n",
       "      <td>2020-09-25 21:04:54</td>\n",
       "      <td>15425</td>\n",
       "      <td>medium_airport</td>\n",
       "      <td>Arnold Palmer Regional Airport</td>\n",
       "      <td>40.275902</td>\n",
       "      <td>-79.404800</td>\n",
       "    </tr>\n",
       "    <tr>\n",
       "      <th>4</th>\n",
       "      <td>C-6</td>\n",
       "      <td>2</td>\n",
       "      <td>32.811618</td>\n",
       "      <td>-96.853139</td>\n",
       "      <td>0.747595</td>\n",
       "      <td>Dallas</td>\n",
       "      <td>Dallas</td>\n",
       "      <td>TX</td>\n",
       "      <td>US/Central</td>\n",
       "      <td>KDAL</td>\n",
       "      <td>...</td>\n",
       "      <td>SSE</td>\n",
       "      <td>0.0</td>\n",
       "      <td>Partly Cloudy</td>\n",
       "      <td>2021-06-08 21:35:00</td>\n",
       "      <td>2021-06-08 22:04:00</td>\n",
       "      <td>75247</td>\n",
       "      <td>large_airport</td>\n",
       "      <td>Dallas Love Field</td>\n",
       "      <td>32.847099</td>\n",
       "      <td>-96.851799</td>\n",
       "    </tr>\n",
       "  </tbody>\n",
       "</table>\n",
       "<p>5 rows × 23 columns</p>\n",
       "</div>"
      ],
      "text/plain": [
       "    ID  Severity  Start_Lat   Start_Lng  Distance(mi)           City  \\\n",
       "0  C-2         2  30.221331  -92.008625      0.433173      Lafayette   \n",
       "1  C-3         2  39.653153 -104.910224      0.192266         Denver   \n",
       "2  C-4         4  33.961506 -118.029339      0.032112       Whittier   \n",
       "3  C-5         2  40.008734  -79.599696      0.996057  Connellsville   \n",
       "4  C-6         2  32.811618  -96.853139      0.747595         Dallas   \n",
       "\n",
       "        County State     Timezone Airport_Code  ... Wind_Direction  \\\n",
       "0    Lafayette    LA   US/Central         KLFT  ...           CALM   \n",
       "1       Denver    CO  US/Mountain         KBKF  ...            WSW   \n",
       "2  Los Angeles    CA   US/Pacific         KFUL  ...           CALM   \n",
       "3      Fayette    PA   US/Eastern         KLBE  ...            SSW   \n",
       "4       Dallas    TX   US/Central         KDAL  ...            SSE   \n",
       "\n",
       "   Precipitation(in)  Weather_Condition    Start_Time_no_ext  \\\n",
       "0                0.0      Mostly Cloudy  2021-11-12 07:59:00   \n",
       "1                0.0      Partly Cloudy  2021-10-12 07:17:30   \n",
       "2                0.0             Cloudy  2021-02-10 02:46:10   \n",
       "3                0.0      Partly Cloudy  2020-09-24 15:58:00   \n",
       "4                0.0      Partly Cloudy  2021-06-08 21:35:00   \n",
       "\n",
       "       End_Time_no_ext Zipcode_no_ext            type  \\\n",
       "0  2021-11-12 08:22:30          70501   large_airport   \n",
       "1  2021-10-12 09:18:55          80224  medium_airport   \n",
       "2  2021-02-17 23:59:00          90605   small_airport   \n",
       "3  2020-09-25 21:04:54          15425  medium_airport   \n",
       "4  2021-06-08 22:04:00          75247   large_airport   \n",
       "\n",
       "                             name  latitude_deg longitude_deg  \n",
       "0      Lafayette Regional Airport     30.205299    -91.987602  \n",
       "1          Buckley Air Force Base     39.701698   -104.751999  \n",
       "2     Fullerton Municipal Airport     33.872002   -117.980003  \n",
       "3  Arnold Palmer Regional Airport     40.275902    -79.404800  \n",
       "4               Dallas Love Field     32.847099    -96.851799  \n",
       "\n",
       "[5 rows x 23 columns]"
      ]
     },
     "execution_count": 6,
     "metadata": {},
     "output_type": "execute_result"
    }
   ],
   "source": [
    "df.head()"
   ]
  },
  {
   "cell_type": "code",
   "execution_count": 7,
   "id": "da201c4d",
   "metadata": {},
   "outputs": [
    {
     "name": "stdout",
     "output_type": "stream",
     "text": [
      "<class 'pandas.core.frame.DataFrame'>\n",
      "RangeIndex: 5153662 entries, 0 to 5153661\n",
      "Data columns (total 23 columns):\n",
      " #   Column             Dtype  \n",
      "---  ------             -----  \n",
      " 0   ID                 object \n",
      " 1   Severity           int64  \n",
      " 2   Start_Lat          float64\n",
      " 3   Start_Lng          float64\n",
      " 4   Distance(mi)       float64\n",
      " 5   City               object \n",
      " 6   County             object \n",
      " 7   State              object \n",
      " 8   Timezone           object \n",
      " 9   Airport_Code       object \n",
      " 10  Weather_Timestamp  object \n",
      " 11  Temperature(F)     float64\n",
      " 12  Visibility(mi)     float64\n",
      " 13  Wind_Direction     object \n",
      " 14  Precipitation(in)  float64\n",
      " 15  Weather_Condition  object \n",
      " 16  Start_Time_no_ext  object \n",
      " 17  End_Time_no_ext    object \n",
      " 18  Zipcode_no_ext     int64  \n",
      " 19  type               object \n",
      " 20  name               object \n",
      " 21  latitude_deg       float64\n",
      " 22  longitude_deg      float64\n",
      "dtypes: float64(8), int64(2), object(13)\n",
      "memory usage: 904.3+ MB\n"
     ]
    }
   ],
   "source": [
    "df.info()"
   ]
  },
  {
   "cell_type": "code",
   "execution_count": 8,
   "id": "11234951",
   "metadata": {},
   "outputs": [],
   "source": [
    "#change data type for integer and float variables to control size/memory\n",
    "df = df.astype({\n",
    "    'Severity': 'uint8',\n",
    "    'Distance(mi)': 'float32',\n",
    "    'Temperature(F)': 'float32', \n",
    "    'Visibility(mi)': 'float32',\n",
    "    'Precipitation(in)': 'float32',\n",
    "    'Zipcode_no_ext': 'uint32',\n",
    "    'Start_Lat': 'float32',\n",
    "    'Start_Lng': 'float32',\n",
    "    'latitude_deg': 'float32',\n",
    "    'longitude_deg': 'float32'\n",
    "})"
   ]
  },
  {
   "cell_type": "code",
   "execution_count": 9,
   "id": "5da9c3ee",
   "metadata": {},
   "outputs": [],
   "source": [
    "#rename merged columns to remove ambiguity\n",
    "df.rename(columns = {'type' : 'Airport_Type',\n",
    "                    'name' : 'Airport_Name',\n",
    "                    'latitude_deg' : 'Airport_Lat',\n",
    "                    'longitude_deg' : 'Airport_Lng'}, \n",
    "                    inplace = True)"
   ]
  },
  {
   "cell_type": "code",
   "execution_count": 10,
   "id": "1a5c3545",
   "metadata": {},
   "outputs": [
    {
     "name": "stdout",
     "output_type": "stream",
     "text": [
      "<class 'pandas.core.frame.DataFrame'>\n",
      "RangeIndex: 5153662 entries, 0 to 5153661\n",
      "Data columns (total 23 columns):\n",
      " #   Column             Dtype  \n",
      "---  ------             -----  \n",
      " 0   ID                 object \n",
      " 1   Severity           uint8  \n",
      " 2   Start_Lat          float32\n",
      " 3   Start_Lng          float32\n",
      " 4   Distance(mi)       float32\n",
      " 5   City               object \n",
      " 6   County             object \n",
      " 7   State              object \n",
      " 8   Timezone           object \n",
      " 9   Airport_Code       object \n",
      " 10  Weather_Timestamp  object \n",
      " 11  Temperature(F)     float32\n",
      " 12  Visibility(mi)     float32\n",
      " 13  Wind_Direction     object \n",
      " 14  Precipitation(in)  float32\n",
      " 15  Weather_Condition  object \n",
      " 16  Start_Time_no_ext  object \n",
      " 17  End_Time_no_ext    object \n",
      " 18  Zipcode_no_ext     uint32 \n",
      " 19  Airport_Type       object \n",
      " 20  Airport_Name       object \n",
      " 21  Airport_Lat        float32\n",
      " 22  Airport_Lng        float32\n",
      "dtypes: float32(8), object(13), uint32(1), uint8(1)\n",
      "memory usage: 693.0+ MB\n"
     ]
    }
   ],
   "source": [
    "df.info()"
   ]
  },
  {
   "cell_type": "code",
   "execution_count": 11,
   "id": "be6353c3",
   "metadata": {},
   "outputs": [
    {
     "data": {
      "text/html": [
       "<div>\n",
       "<style scoped>\n",
       "    .dataframe tbody tr th:only-of-type {\n",
       "        vertical-align: middle;\n",
       "    }\n",
       "\n",
       "    .dataframe tbody tr th {\n",
       "        vertical-align: top;\n",
       "    }\n",
       "\n",
       "    .dataframe thead th {\n",
       "        text-align: right;\n",
       "    }\n",
       "</style>\n",
       "<table border=\"1\" class=\"dataframe\">\n",
       "  <thead>\n",
       "    <tr style=\"text-align: right;\">\n",
       "      <th></th>\n",
       "      <th>ID</th>\n",
       "      <th>Severity</th>\n",
       "      <th>Start_Lat</th>\n",
       "      <th>Start_Lng</th>\n",
       "      <th>Distance(mi)</th>\n",
       "      <th>City</th>\n",
       "      <th>County</th>\n",
       "      <th>State</th>\n",
       "      <th>Timezone</th>\n",
       "      <th>Airport_Code</th>\n",
       "      <th>...</th>\n",
       "      <th>Wind_Direction</th>\n",
       "      <th>Precipitation(in)</th>\n",
       "      <th>Weather_Condition</th>\n",
       "      <th>Start_Time_no_ext</th>\n",
       "      <th>End_Time_no_ext</th>\n",
       "      <th>Zipcode_no_ext</th>\n",
       "      <th>Airport_Type</th>\n",
       "      <th>Airport_Name</th>\n",
       "      <th>Airport_Lat</th>\n",
       "      <th>Airport_Lng</th>\n",
       "    </tr>\n",
       "  </thead>\n",
       "  <tbody>\n",
       "    <tr>\n",
       "      <th>0</th>\n",
       "      <td>C-2</td>\n",
       "      <td>2</td>\n",
       "      <td>30.221331</td>\n",
       "      <td>-92.008621</td>\n",
       "      <td>0.433173</td>\n",
       "      <td>Lafayette</td>\n",
       "      <td>Lafayette</td>\n",
       "      <td>LA</td>\n",
       "      <td>US/Central</td>\n",
       "      <td>KLFT</td>\n",
       "      <td>...</td>\n",
       "      <td>CALM</td>\n",
       "      <td>0.0</td>\n",
       "      <td>Mostly Cloudy</td>\n",
       "      <td>2021-11-12 07:59:00</td>\n",
       "      <td>2021-11-12 08:22:30</td>\n",
       "      <td>70501</td>\n",
       "      <td>large_airport</td>\n",
       "      <td>Lafayette Regional Airport</td>\n",
       "      <td>30.205299</td>\n",
       "      <td>-91.987602</td>\n",
       "    </tr>\n",
       "    <tr>\n",
       "      <th>1</th>\n",
       "      <td>C-3</td>\n",
       "      <td>2</td>\n",
       "      <td>39.653152</td>\n",
       "      <td>-104.910225</td>\n",
       "      <td>0.192266</td>\n",
       "      <td>Denver</td>\n",
       "      <td>Denver</td>\n",
       "      <td>CO</td>\n",
       "      <td>US/Mountain</td>\n",
       "      <td>KBKF</td>\n",
       "      <td>...</td>\n",
       "      <td>WSW</td>\n",
       "      <td>0.0</td>\n",
       "      <td>Partly Cloudy</td>\n",
       "      <td>2021-10-12 07:17:30</td>\n",
       "      <td>2021-10-12 09:18:55</td>\n",
       "      <td>80224</td>\n",
       "      <td>medium_airport</td>\n",
       "      <td>Buckley Air Force Base</td>\n",
       "      <td>39.701698</td>\n",
       "      <td>-104.751999</td>\n",
       "    </tr>\n",
       "    <tr>\n",
       "      <th>2</th>\n",
       "      <td>C-4</td>\n",
       "      <td>4</td>\n",
       "      <td>33.961506</td>\n",
       "      <td>-118.029343</td>\n",
       "      <td>0.032112</td>\n",
       "      <td>Whittier</td>\n",
       "      <td>Los Angeles</td>\n",
       "      <td>CA</td>\n",
       "      <td>US/Pacific</td>\n",
       "      <td>KFUL</td>\n",
       "      <td>...</td>\n",
       "      <td>CALM</td>\n",
       "      <td>0.0</td>\n",
       "      <td>Cloudy</td>\n",
       "      <td>2021-02-10 02:46:10</td>\n",
       "      <td>2021-02-17 23:59:00</td>\n",
       "      <td>90605</td>\n",
       "      <td>small_airport</td>\n",
       "      <td>Fullerton Municipal Airport</td>\n",
       "      <td>33.872002</td>\n",
       "      <td>-117.980003</td>\n",
       "    </tr>\n",
       "    <tr>\n",
       "      <th>3</th>\n",
       "      <td>C-5</td>\n",
       "      <td>2</td>\n",
       "      <td>40.008736</td>\n",
       "      <td>-79.599693</td>\n",
       "      <td>0.996057</td>\n",
       "      <td>Connellsville</td>\n",
       "      <td>Fayette</td>\n",
       "      <td>PA</td>\n",
       "      <td>US/Eastern</td>\n",
       "      <td>KLBE</td>\n",
       "      <td>...</td>\n",
       "      <td>SSW</td>\n",
       "      <td>0.0</td>\n",
       "      <td>Partly Cloudy</td>\n",
       "      <td>2020-09-24 15:58:00</td>\n",
       "      <td>2020-09-25 21:04:54</td>\n",
       "      <td>15425</td>\n",
       "      <td>medium_airport</td>\n",
       "      <td>Arnold Palmer Regional Airport</td>\n",
       "      <td>40.275902</td>\n",
       "      <td>-79.404800</td>\n",
       "    </tr>\n",
       "    <tr>\n",
       "      <th>4</th>\n",
       "      <td>C-6</td>\n",
       "      <td>2</td>\n",
       "      <td>32.811619</td>\n",
       "      <td>-96.853142</td>\n",
       "      <td>0.747595</td>\n",
       "      <td>Dallas</td>\n",
       "      <td>Dallas</td>\n",
       "      <td>TX</td>\n",
       "      <td>US/Central</td>\n",
       "      <td>KDAL</td>\n",
       "      <td>...</td>\n",
       "      <td>SSE</td>\n",
       "      <td>0.0</td>\n",
       "      <td>Partly Cloudy</td>\n",
       "      <td>2021-06-08 21:35:00</td>\n",
       "      <td>2021-06-08 22:04:00</td>\n",
       "      <td>75247</td>\n",
       "      <td>large_airport</td>\n",
       "      <td>Dallas Love Field</td>\n",
       "      <td>32.847099</td>\n",
       "      <td>-96.851799</td>\n",
       "    </tr>\n",
       "  </tbody>\n",
       "</table>\n",
       "<p>5 rows × 23 columns</p>\n",
       "</div>"
      ],
      "text/plain": [
       "    ID  Severity  Start_Lat   Start_Lng  Distance(mi)           City  \\\n",
       "0  C-2         2  30.221331  -92.008621      0.433173      Lafayette   \n",
       "1  C-3         2  39.653152 -104.910225      0.192266         Denver   \n",
       "2  C-4         4  33.961506 -118.029343      0.032112       Whittier   \n",
       "3  C-5         2  40.008736  -79.599693      0.996057  Connellsville   \n",
       "4  C-6         2  32.811619  -96.853142      0.747595         Dallas   \n",
       "\n",
       "        County State     Timezone Airport_Code  ... Wind_Direction  \\\n",
       "0    Lafayette    LA   US/Central         KLFT  ...           CALM   \n",
       "1       Denver    CO  US/Mountain         KBKF  ...            WSW   \n",
       "2  Los Angeles    CA   US/Pacific         KFUL  ...           CALM   \n",
       "3      Fayette    PA   US/Eastern         KLBE  ...            SSW   \n",
       "4       Dallas    TX   US/Central         KDAL  ...            SSE   \n",
       "\n",
       "   Precipitation(in)  Weather_Condition    Start_Time_no_ext  \\\n",
       "0                0.0      Mostly Cloudy  2021-11-12 07:59:00   \n",
       "1                0.0      Partly Cloudy  2021-10-12 07:17:30   \n",
       "2                0.0             Cloudy  2021-02-10 02:46:10   \n",
       "3                0.0      Partly Cloudy  2020-09-24 15:58:00   \n",
       "4                0.0      Partly Cloudy  2021-06-08 21:35:00   \n",
       "\n",
       "       End_Time_no_ext Zipcode_no_ext    Airport_Type  \\\n",
       "0  2021-11-12 08:22:30          70501   large_airport   \n",
       "1  2021-10-12 09:18:55          80224  medium_airport   \n",
       "2  2021-02-17 23:59:00          90605   small_airport   \n",
       "3  2020-09-25 21:04:54          15425  medium_airport   \n",
       "4  2021-06-08 22:04:00          75247   large_airport   \n",
       "\n",
       "                     Airport_Name  Airport_Lat Airport_Lng  \n",
       "0      Lafayette Regional Airport    30.205299  -91.987602  \n",
       "1          Buckley Air Force Base    39.701698 -104.751999  \n",
       "2     Fullerton Municipal Airport    33.872002 -117.980003  \n",
       "3  Arnold Palmer Regional Airport    40.275902  -79.404800  \n",
       "4               Dallas Love Field    32.847099  -96.851799  \n",
       "\n",
       "[5 rows x 23 columns]"
      ]
     },
     "execution_count": 11,
     "metadata": {},
     "output_type": "execute_result"
    }
   ],
   "source": [
    "df.head()"
   ]
  },
  {
   "cell_type": "code",
   "execution_count": 12,
   "id": "320368db",
   "metadata": {},
   "outputs": [
    {
     "data": {
      "text/plain": [
       "10.5          3\n",
       "11.0         31\n",
       "12.0        247\n",
       "13.0       5990\n",
       "14.0          2\n",
       "15.0       7228\n",
       "16.0          7\n",
       "17.0          1\n",
       "19.0         53\n",
       "20.0       6489\n",
       "22.0          2\n",
       "25.0        486\n",
       "30.0       1751\n",
       "35.0        104\n",
       "40.0       1341\n",
       "45.0         92\n",
       "50.0       1213\n",
       "58.0          1\n",
       "60.0        232\n",
       "65.0         42\n",
       "70.0        304\n",
       "75.0        663\n",
       "80.0        343\n",
       "90.0         57\n",
       "98.0          4\n",
       "100.0        58\n",
       "101.0         8\n",
       "215.0         2\n",
       "2984.0        1\n",
       "34007.0       1\n",
       "Name: Visibility(mi), dtype: int64"
      ]
     },
     "execution_count": 12,
     "metadata": {},
     "output_type": "execute_result"
    }
   ],
   "source": [
    "#look at max visibility values\n",
    "df['Visibility(mi)'].value_counts(dropna = False).sort_index().tail(30)"
   ]
  },
  {
   "cell_type": "code",
   "execution_count": 13,
   "id": "c3cd4f87",
   "metadata": {},
   "outputs": [],
   "source": [
    "#b) redefine df without super-high visibility values\n",
    "#Visibility(mi) is limited here to under 100 miles, the 12 values over are omitted\n",
    "df=df.loc[df['Visibility(mi)']<=100]"
   ]
  },
  {
   "cell_type": "code",
   "execution_count": 14,
   "id": "f6c3362d",
   "metadata": {},
   "outputs": [
    {
     "data": {
      "text/plain": [
       "(5153650, 23)"
      ]
     },
     "execution_count": 14,
     "metadata": {},
     "output_type": "execute_result"
    }
   ],
   "source": [
    "df.shape"
   ]
  },
  {
   "cell_type": "code",
   "execution_count": 15,
   "id": "1442cfe4",
   "metadata": {},
   "outputs": [],
   "source": [
    "#export cleaned data\n",
    "df.to_csv(os.path.join(path, '02 Data', 'Prepared', 'merged2.csv'), index = False)"
   ]
  },
  {
   "cell_type": "markdown",
   "id": "224d8c1e",
   "metadata": {},
   "source": [
    "# 04 visualizations"
   ]
  },
  {
   "cell_type": "markdown",
   "id": "abf69196",
   "metadata": {},
   "source": [
    "## a) correlation matrix heatmap (colored)"
   ]
  },
  {
   "cell_type": "code",
   "execution_count": 16,
   "id": "5dee6a4b",
   "metadata": {},
   "outputs": [],
   "source": [
    "df1=df[['Severity', 'Distance(mi)', 'Temperature(F)', 'Visibility(mi)', 'Precipitation(in)']]"
   ]
  },
  {
   "cell_type": "code",
   "execution_count": 17,
   "id": "06aabc06",
   "metadata": {},
   "outputs": [
    {
     "data": {
      "image/png": "[encoded data removed]",
      "text/plain": [
       "<Figure size 288x288 with 1 Axes>"
      ]
     },
     "metadata": {
      "needs_background": "light"
     },
     "output_type": "display_data"
    }
   ],
   "source": [
    "plt.matshow(df1.corr())\n",
    "plt.show()"
   ]
  },
  {
   "cell_type": "code",
   "execution_count": 18,
   "id": "75a833d4",
   "metadata": {
    "scrolled": true
   },
   "outputs": [
    {
     "data": {
      "text/plain": [
       "Text(0.5, 1.0, 'Correlation Matrix')"
      ]
     },
     "execution_count": 18,
     "metadata": {},
     "output_type": "execute_result"
    },
    {
     "data": {
      "image/png": "[encoded data removed]",
      "text/plain": [
       "<Figure size 576x576 with 2 Axes>"
      ]
     },
     "metadata": {
      "needs_background": "light"
     },
     "output_type": "display_data"
    }
   ],
   "source": [
    "#show correlation matrix with increased size, added colorbar, labels, and title\n",
    "f = plt.figure(figsize=(8, 8)) # figure size \n",
    "plt.matshow(df1.corr(), fignum=f.number) # type of plot\n",
    "plt.xticks(range(df1.shape[1]), df1.columns, fontsize=14, rotation=45) # x axis labels\n",
    "plt.yticks(range(df1.shape[1]), df1.columns, fontsize=14) # y axis labels\n",
    "cb = plt.colorbar() # add a colour legend (called colorbar)\n",
    "cb.ax.tick_params(labelsize=14) # add font size\n",
    "plt.title('Correlation Matrix', fontsize=14) # add title"
   ]
  },
  {
   "cell_type": "markdown",
   "id": "8ec37bf0",
   "metadata": {},
   "source": [
    "In the correlation matrix above, there does not seem to be a correlation between any of the weather factors, severity of the construction's impact on traffic, nor the distance of the construction (all boxes are dark blue)."
   ]
  },
  {
   "cell_type": "markdown",
   "id": "4e900a70",
   "metadata": {},
   "source": [
    "## b) scatterplot(s)"
   ]
  },
  {
   "cell_type": "code",
   "execution_count": 19,
   "id": "7b5f0650",
   "metadata": {},
   "outputs": [
    {
     "data": {
      "text/plain": [
       "<seaborn.axisgrid.FacetGrid at 0x2bed4be2df0>"
      ]
     },
     "execution_count": 19,
     "metadata": {},
     "output_type": "execute_result"
    },
    {
     "data": {
      "image/png": "[encoded data removed]",
      "text/plain": [
       "<Figure size 360x360 with 1 Axes>"
      ]
     },
     "metadata": {
      "needs_background": "light"
     },
     "output_type": "display_data"
    }
   ],
   "source": [
    "sns.lmplot(x = 'Distance(mi)', y = 'Severity', data = df1)"
   ]
  },
  {
   "cell_type": "code",
   "execution_count": 20,
   "id": "08558c54",
   "metadata": {},
   "outputs": [],
   "source": [
    "#creating a random sample with 70% of the data\n",
    "np.random.seed(4)\n",
    "dev = np.random.rand(len(df1)) <=0.7"
   ]
  },
  {
   "cell_type": "code",
   "execution_count": 21,
   "id": "c057f548",
   "metadata": {},
   "outputs": [],
   "source": [
    "#naming both samples 70% and 30%\n",
    "big_70 = df1[dev]\n",
    "small_30 = df1[~dev]"
   ]
  },
  {
   "cell_type": "code",
   "execution_count": 22,
   "id": "e17f1b1c",
   "metadata": {},
   "outputs": [
    {
     "data": {
      "text/plain": [
       "<seaborn.axisgrid.FacetGrid at 0x2bf505c2b80>"
      ]
     },
     "execution_count": 22,
     "metadata": {},
     "output_type": "execute_result"
    },
    {
     "data": {
      "image/png": "[encoded data removed]",
      "text/plain": [
       "<Figure size 360x360 with 1 Axes>"
      ]
     },
     "metadata": {
      "needs_background": "light"
     },
     "output_type": "display_data"
    }
   ],
   "source": [
    "#create scatterplot with Distance & Severity with random 30% of data (small_30)\n",
    "sns.lmplot(x = 'Distance(mi)', y = 'Severity', data = small_30)"
   ]
  },
  {
   "cell_type": "markdown",
   "id": "1bbcaedf",
   "metadata": {},
   "source": [
    "In the scatterplot above, you can see that the construction distances are mostly short and does not have a strong correlation with severity of traffic implications."
   ]
  },
  {
   "cell_type": "code",
   "execution_count": 23,
   "id": "92a236cb",
   "metadata": {},
   "outputs": [
    {
     "data": {
      "text/plain": [
       "<seaborn.axisgrid.FacetGrid at 0x2bed8a484c0>"
      ]
     },
     "execution_count": 23,
     "metadata": {},
     "output_type": "execute_result"
    },
    {
     "data": {
      "image/png": "[encoded data removed]",
      "text/plain": [
       "<Figure size 360x360 with 1 Axes>"
      ]
     },
     "metadata": {
      "needs_background": "light"
     },
     "output_type": "display_data"
    }
   ],
   "source": [
    "#create scatterplot with Visibility & Temperature with small_30\n",
    "sns.lmplot(x = 'Visibility(mi)', y = 'Temperature(F)', data = small_30)"
   ]
  },
  {
   "cell_type": "markdown",
   "id": "a2962370",
   "metadata": {},
   "source": [
    "In the scatterplot above comparing Visibility and Temperature, as Visibility increased, the Temperature tended to a more average temperature (not too cold or too hot). Looking at the trend line, temperature values should be increasing as visibility increases, but this is not the case."
   ]
  },
  {
   "cell_type": "markdown",
   "id": "b73dfc55",
   "metadata": {},
   "source": [
    "## c) pair plot using 30% of dataset"
   ]
  },
  {
   "cell_type": "code",
   "execution_count": 24,
   "id": "0611bb03",
   "metadata": {},
   "outputs": [
    {
     "data": {
      "image/png": "[encoded data removed]",
      "text/plain": [
       "<Figure size 900x900 with 30 Axes>"
      ]
     },
     "metadata": {
      "needs_background": "light"
     },
     "output_type": "display_data"
    }
   ],
   "source": [
    "#create a pairplot with small_30\n",
    "g = sns.pairplot(small_30)"
   ]
  },
  {
   "cell_type": "markdown",
   "id": "25fc8bcf",
   "metadata": {},
   "source": [
    "The categorical variable (Severity) is very obvious, as the plot is way more structured. Precipitation, Visibility and Temperature all seem to have a relationship with Distance of the construction."
   ]
  },
  {
   "cell_type": "markdown",
   "id": "2d92abfe",
   "metadata": {},
   "source": [
    "## d) categorical plot"
   ]
  },
  {
   "cell_type": "code",
   "execution_count": 25,
   "id": "5644c5b5",
   "metadata": {},
   "outputs": [
    {
     "data": {
      "text/html": [
       "<div>\n",
       "<style scoped>\n",
       "    .dataframe tbody tr th:only-of-type {\n",
       "        vertical-align: middle;\n",
       "    }\n",
       "\n",
       "    .dataframe tbody tr th {\n",
       "        vertical-align: top;\n",
       "    }\n",
       "\n",
       "    .dataframe thead th {\n",
       "        text-align: right;\n",
       "    }\n",
       "</style>\n",
       "<table border=\"1\" class=\"dataframe\">\n",
       "  <thead>\n",
       "    <tr style=\"text-align: right;\">\n",
       "      <th></th>\n",
       "      <th>Severity</th>\n",
       "      <th>Distance(mi)</th>\n",
       "      <th>Temperature(F)</th>\n",
       "      <th>Visibility(mi)</th>\n",
       "      <th>Precipitation(in)</th>\n",
       "    </tr>\n",
       "  </thead>\n",
       "  <tbody>\n",
       "    <tr>\n",
       "      <th>count</th>\n",
       "      <td>1.545023e+06</td>\n",
       "      <td>1.545023e+06</td>\n",
       "      <td>1.545023e+06</td>\n",
       "      <td>1.545023e+06</td>\n",
       "      <td>1.545023e+06</td>\n",
       "    </tr>\n",
       "    <tr>\n",
       "      <th>mean</th>\n",
       "      <td>2.258506e+00</td>\n",
       "      <td>1.355317e+00</td>\n",
       "      <td>6.389312e+01</td>\n",
       "      <td>9.452708e+00</td>\n",
       "      <td>2.822355e-03</td>\n",
       "    </tr>\n",
       "    <tr>\n",
       "      <th>std</th>\n",
       "      <td>6.317469e-01</td>\n",
       "      <td>4.082941e+00</td>\n",
       "      <td>1.781324e+01</td>\n",
       "      <td>2.460274e+00</td>\n",
       "      <td>5.590240e-02</td>\n",
       "    </tr>\n",
       "    <tr>\n",
       "      <th>min</th>\n",
       "      <td>1.000000e+00</td>\n",
       "      <td>4.658693e-05</td>\n",
       "      <td>-3.700000e+01</td>\n",
       "      <td>0.000000e+00</td>\n",
       "      <td>0.000000e+00</td>\n",
       "    </tr>\n",
       "    <tr>\n",
       "      <th>25%</th>\n",
       "      <td>2.000000e+00</td>\n",
       "      <td>1.568349e-01</td>\n",
       "      <td>5.200000e+01</td>\n",
       "      <td>1.000000e+01</td>\n",
       "      <td>0.000000e+00</td>\n",
       "    </tr>\n",
       "    <tr>\n",
       "      <th>50%</th>\n",
       "      <td>2.000000e+00</td>\n",
       "      <td>3.722588e-01</td>\n",
       "      <td>6.600000e+01</td>\n",
       "      <td>1.000000e+01</td>\n",
       "      <td>0.000000e+00</td>\n",
       "    </tr>\n",
       "    <tr>\n",
       "      <th>75%</th>\n",
       "      <td>2.000000e+00</td>\n",
       "      <td>1.134703e+00</td>\n",
       "      <td>7.700000e+01</td>\n",
       "      <td>1.000000e+01</td>\n",
       "      <td>0.000000e+00</td>\n",
       "    </tr>\n",
       "    <tr>\n",
       "      <th>max</th>\n",
       "      <td>4.000000e+00</td>\n",
       "      <td>5.749000e+02</td>\n",
       "      <td>1.240000e+02</td>\n",
       "      <td>1.000000e+02</td>\n",
       "      <td>2.400000e+01</td>\n",
       "    </tr>\n",
       "  </tbody>\n",
       "</table>\n",
       "</div>"
      ],
      "text/plain": [
       "           Severity  Distance(mi)  Temperature(F)  Visibility(mi)  \\\n",
       "count  1.545023e+06  1.545023e+06    1.545023e+06    1.545023e+06   \n",
       "mean   2.258506e+00  1.355317e+00    6.389312e+01    9.452708e+00   \n",
       "std    6.317469e-01  4.082941e+00    1.781324e+01    2.460274e+00   \n",
       "min    1.000000e+00  4.658693e-05   -3.700000e+01    0.000000e+00   \n",
       "25%    2.000000e+00  1.568349e-01    5.200000e+01    1.000000e+01   \n",
       "50%    2.000000e+00  3.722588e-01    6.600000e+01    1.000000e+01   \n",
       "75%    2.000000e+00  1.134703e+00    7.700000e+01    1.000000e+01   \n",
       "max    4.000000e+00  5.749000e+02    1.240000e+02    1.000000e+02   \n",
       "\n",
       "       Precipitation(in)  \n",
       "count       1.545023e+06  \n",
       "mean        2.822355e-03  \n",
       "std         5.590240e-02  \n",
       "min         0.000000e+00  \n",
       "25%         0.000000e+00  \n",
       "50%         0.000000e+00  \n",
       "75%         0.000000e+00  \n",
       "max         2.400000e+01  "
      ]
     },
     "execution_count": 25,
     "metadata": {},
     "output_type": "execute_result"
    }
   ],
   "source": [
    "#use visibility data to make categories\n",
    "small_30.describe()"
   ]
  },
  {
   "cell_type": "code",
   "execution_count": 26,
   "id": "e20020e3",
   "metadata": {},
   "outputs": [
    {
     "data": {
      "text/html": [
       "<div>\n",
       "<style scoped>\n",
       "    .dataframe tbody tr th:only-of-type {\n",
       "        vertical-align: middle;\n",
       "    }\n",
       "\n",
       "    .dataframe tbody tr th {\n",
       "        vertical-align: top;\n",
       "    }\n",
       "\n",
       "    .dataframe thead th {\n",
       "        text-align: right;\n",
       "    }\n",
       "</style>\n",
       "<table border=\"1\" class=\"dataframe\">\n",
       "  <thead>\n",
       "    <tr style=\"text-align: right;\">\n",
       "      <th></th>\n",
       "      <th>Severity</th>\n",
       "      <th>Distance(mi)</th>\n",
       "      <th>Temperature(F)</th>\n",
       "      <th>Visibility(mi)</th>\n",
       "      <th>Precipitation(in)</th>\n",
       "    </tr>\n",
       "  </thead>\n",
       "  <tbody>\n",
       "    <tr>\n",
       "      <th>count</th>\n",
       "      <td>5.153650e+06</td>\n",
       "      <td>5.153650e+06</td>\n",
       "      <td>5.153650e+06</td>\n",
       "      <td>5.153650e+06</td>\n",
       "      <td>5.153650e+06</td>\n",
       "    </tr>\n",
       "    <tr>\n",
       "      <th>mean</th>\n",
       "      <td>2.258540e+00</td>\n",
       "      <td>1.344019e+00</td>\n",
       "      <td>6.380623e+01</td>\n",
       "      <td>8.952274e+00</td>\n",
       "      <td>2.761149e-03</td>\n",
       "    </tr>\n",
       "    <tr>\n",
       "      <th>std</th>\n",
       "      <td>6.317709e-01</td>\n",
       "      <td>4.030754e+00</td>\n",
       "      <td>1.781520e+01</td>\n",
       "      <td>2.558197e+00</td>\n",
       "      <td>4.918816e-02</td>\n",
       "    </tr>\n",
       "    <tr>\n",
       "      <th>min</th>\n",
       "      <td>1.000000e+00</td>\n",
       "      <td>4.657500e-05</td>\n",
       "      <td>-3.700000e+01</td>\n",
       "      <td>0.000000e+00</td>\n",
       "      <td>0.000000e+00</td>\n",
       "    </tr>\n",
       "    <tr>\n",
       "      <th>25%</th>\n",
       "      <td>2.000000e+00</td>\n",
       "      <td>1.569342e-01</td>\n",
       "      <td>5.200000e+01</td>\n",
       "      <td>1.000000e+01</td>\n",
       "      <td>0.000000e+00</td>\n",
       "    </tr>\n",
       "    <tr>\n",
       "      <th>50%</th>\n",
       "      <td>2.000000e+00</td>\n",
       "      <td>3.725871e-01</td>\n",
       "      <td>6.600000e+01</td>\n",
       "      <td>1.000000e+01</td>\n",
       "      <td>0.000000e+00</td>\n",
       "    </tr>\n",
       "    <tr>\n",
       "      <th>75%</th>\n",
       "      <td>2.000000e+00</td>\n",
       "      <td>1.134753e+00</td>\n",
       "      <td>7.700000e+01</td>\n",
       "      <td>1.000000e+01</td>\n",
       "      <td>0.000000e+00</td>\n",
       "    </tr>\n",
       "    <tr>\n",
       "      <th>max</th>\n",
       "      <td>4.000000e+00</td>\n",
       "      <td>6.877400e+02</td>\n",
       "      <td>1.270000e+02</td>\n",
       "      <td>1.000000e+02</td>\n",
       "      <td>2.400000e+01</td>\n",
       "    </tr>\n",
       "  </tbody>\n",
       "</table>\n",
       "</div>"
      ],
      "text/plain": [
       "           Severity  Distance(mi)  Temperature(F)  Visibility(mi)  \\\n",
       "count  5.153650e+06  5.153650e+06    5.153650e+06    5.153650e+06   \n",
       "mean   2.258540e+00  1.344019e+00    6.380623e+01    8.952274e+00   \n",
       "std    6.317709e-01  4.030754e+00    1.781520e+01    2.558197e+00   \n",
       "min    1.000000e+00  4.657500e-05   -3.700000e+01    0.000000e+00   \n",
       "25%    2.000000e+00  1.569342e-01    5.200000e+01    1.000000e+01   \n",
       "50%    2.000000e+00  3.725871e-01    6.600000e+01    1.000000e+01   \n",
       "75%    2.000000e+00  1.134753e+00    7.700000e+01    1.000000e+01   \n",
       "max    4.000000e+00  6.877400e+02    1.270000e+02    1.000000e+02   \n",
       "\n",
       "       Precipitation(in)  \n",
       "count       5.153650e+06  \n",
       "mean        2.761149e-03  \n",
       "std         4.918816e-02  \n",
       "min         0.000000e+00  \n",
       "25%         0.000000e+00  \n",
       "50%         0.000000e+00  \n",
       "75%         0.000000e+00  \n",
       "max         2.400000e+01  "
      ]
     },
     "execution_count": 26,
     "metadata": {},
     "output_type": "execute_result"
    }
   ],
   "source": [
    "df1.describe()"
   ]
  },
  {
   "cell_type": "code",
   "execution_count": 27,
   "id": "b4c025d2",
   "metadata": {},
   "outputs": [
    {
     "data": {
      "text/plain": [
       "<AxesSubplot:xlabel='Visibility(mi)', ylabel='Count'>"
      ]
     },
     "execution_count": 27,
     "metadata": {},
     "output_type": "execute_result"
    },
    {
     "data": {
      "image/png": "[encoded data removed]",
      "text/plain": [
       "<Figure size 432x288 with 1 Axes>"
      ]
     },
     "metadata": {
      "needs_background": "light"
     },
     "output_type": "display_data"
    }
   ],
   "source": [
    "sns.histplot(small_30['Visibility(mi)'], bins = 10, kde = True)"
   ]
  },
  {
   "cell_type": "markdown",
   "id": "e2dcbaab",
   "metadata": {},
   "source": [
    "Visibility levels were derived from the following website: https://www.renkeer.com/product/atmospheric-visibility-sensor/\n",
    "This is a product that measures visiblility."
   ]
  },
  {
   "cell_type": "code",
   "execution_count": 28,
   "id": "b2034173",
   "metadata": {},
   "outputs": [
    {
     "name": "stderr",
     "output_type": "stream",
     "text": [
      "C:\\Users\\erhil\\anaconda3\\lib\\site-packages\\pandas\\core\\indexing.py:1684: SettingWithCopyWarning: \n",
      "A value is trying to be set on a copy of a slice from a DataFrame.\n",
      "Try using .loc[row_indexer,col_indexer] = value instead\n",
      "\n",
      "See the caveats in the documentation: https://pandas.pydata.org/pandas-docs/stable/user_guide/indexing.html#returning-a-view-versus-a-copy\n",
      "  self.obj[key] = infer_fill_value(value)\n",
      "C:\\Users\\erhil\\anaconda3\\lib\\site-packages\\pandas\\core\\indexing.py:1817: SettingWithCopyWarning: \n",
      "A value is trying to be set on a copy of a slice from a DataFrame.\n",
      "Try using .loc[row_indexer,col_indexer] = value instead\n",
      "\n",
      "See the caveats in the documentation: https://pandas.pydata.org/pandas-docs/stable/user_guide/indexing.html#returning-a-view-versus-a-copy\n",
      "  self._setitem_single_column(loc, value, pi)\n"
     ]
    }
   ],
   "source": [
    "#less than 100 m is generally recognized as 0 m visibility\n",
    "small_30.loc[small_30['Visibility(mi)'] <=0.0621, 'Visibility_range'] = 'No Visibility'"
   ]
  },
  {
   "cell_type": "code",
   "execution_count": 29,
   "id": "82eff050",
   "metadata": {},
   "outputs": [],
   "source": [
    "# greater than 100 m and less than 1km is recognized as poor to extremely poor visibility (heavy to thick fog)\n",
    "small_30.loc[(small_30['Visibility(mi)'] > 0.0621) & (small_30['Visibility(mi)'] <=0.62137), 'Visibility_range'] = 'Limited'"
   ]
  },
  {
   "cell_type": "code",
   "execution_count": 30,
   "id": "7b22b075",
   "metadata": {},
   "outputs": [],
   "source": [
    "# greater than 1km and less than 15km, visibility is unclear to clear (light fog to average)\n",
    "small_30.loc[(small_30['Visibility(mi)']>0.62137) &(small_30['Visibility(mi)']<9.3205), 'Visibility_range'] = 'Good'"
   ]
  },
  {
   "cell_type": "code",
   "execution_count": 31,
   "id": "fec27b67",
   "metadata": {},
   "outputs": [],
   "source": [
    "# greater than 15km is good to perfect visibility/ over 10 miles is perfect with meteorologists\n",
    "#\n",
    "small_30.loc[small_30['Visibility(mi)'] >= 9.3205, 'Visibility_range'] = 'Excellent'"
   ]
  },
  {
   "cell_type": "code",
   "execution_count": 32,
   "id": "8cf68e84",
   "metadata": {},
   "outputs": [
    {
     "data": {
      "text/plain": [
       "Excellent        1338428\n",
       "Good              195222\n",
       "Limited            10086\n",
       "No Visibility       1287\n",
       "Name: Visibility_range, dtype: int64"
      ]
     },
     "execution_count": 32,
     "metadata": {},
     "output_type": "execute_result"
    }
   ],
   "source": [
    "small_30['Visibility_range'].value_counts(dropna = False)"
   ]
  },
  {
   "cell_type": "code",
   "execution_count": 33,
   "id": "46545c27",
   "metadata": {},
   "outputs": [
    {
     "data": {
      "text/html": [
       "<div>\n",
       "<style scoped>\n",
       "    .dataframe tbody tr th:only-of-type {\n",
       "        vertical-align: middle;\n",
       "    }\n",
       "\n",
       "    .dataframe tbody tr th {\n",
       "        vertical-align: top;\n",
       "    }\n",
       "\n",
       "    .dataframe thead th {\n",
       "        text-align: right;\n",
       "    }\n",
       "</style>\n",
       "<table border=\"1\" class=\"dataframe\">\n",
       "  <thead>\n",
       "    <tr style=\"text-align: right;\">\n",
       "      <th></th>\n",
       "      <th>Severity</th>\n",
       "      <th>Distance(mi)</th>\n",
       "      <th>Temperature(F)</th>\n",
       "      <th>Visibility(mi)</th>\n",
       "      <th>Precipitation(in)</th>\n",
       "      <th>Visibility_range</th>\n",
       "    </tr>\n",
       "  </thead>\n",
       "  <tbody>\n",
       "    <tr>\n",
       "      <th>0</th>\n",
       "      <td>2</td>\n",
       "      <td>0.433173</td>\n",
       "      <td>55.0</td>\n",
       "      <td>3.0</td>\n",
       "      <td>0.0</td>\n",
       "      <td>Good</td>\n",
       "    </tr>\n",
       "    <tr>\n",
       "      <th>2</th>\n",
       "      <td>4</td>\n",
       "      <td>0.032112</td>\n",
       "      <td>54.0</td>\n",
       "      <td>9.0</td>\n",
       "      <td>0.0</td>\n",
       "      <td>Good</td>\n",
       "    </tr>\n",
       "    <tr>\n",
       "      <th>3</th>\n",
       "      <td>2</td>\n",
       "      <td>0.996057</td>\n",
       "      <td>73.0</td>\n",
       "      <td>10.0</td>\n",
       "      <td>0.0</td>\n",
       "      <td>Excellent</td>\n",
       "    </tr>\n",
       "    <tr>\n",
       "      <th>6</th>\n",
       "      <td>2</td>\n",
       "      <td>0.073240</td>\n",
       "      <td>61.0</td>\n",
       "      <td>10.0</td>\n",
       "      <td>0.0</td>\n",
       "      <td>Excellent</td>\n",
       "    </tr>\n",
       "    <tr>\n",
       "      <th>10</th>\n",
       "      <td>2</td>\n",
       "      <td>0.192480</td>\n",
       "      <td>81.0</td>\n",
       "      <td>10.0</td>\n",
       "      <td>0.0</td>\n",
       "      <td>Excellent</td>\n",
       "    </tr>\n",
       "  </tbody>\n",
       "</table>\n",
       "</div>"
      ],
      "text/plain": [
       "    Severity  Distance(mi)  Temperature(F)  Visibility(mi)  Precipitation(in)  \\\n",
       "0          2      0.433173            55.0             3.0                0.0   \n",
       "2          4      0.032112            54.0             9.0                0.0   \n",
       "3          2      0.996057            73.0            10.0                0.0   \n",
       "6          2      0.073240            61.0            10.0                0.0   \n",
       "10         2      0.192480            81.0            10.0                0.0   \n",
       "\n",
       "   Visibility_range  \n",
       "0              Good  \n",
       "2              Good  \n",
       "3         Excellent  \n",
       "6         Excellent  \n",
       "10        Excellent  "
      ]
     },
     "execution_count": 33,
     "metadata": {},
     "output_type": "execute_result"
    }
   ],
   "source": [
    "small_30.head()"
   ]
  },
  {
   "cell_type": "code",
   "execution_count": 34,
   "id": "88c8938f",
   "metadata": {},
   "outputs": [
    {
     "data": {
      "text/plain": [
       "(1545023, 6)"
      ]
     },
     "execution_count": 34,
     "metadata": {},
     "output_type": "execute_result"
    }
   ],
   "source": [
    "small_30.shape"
   ]
  },
  {
   "cell_type": "code",
   "execution_count": 35,
   "id": "0e928060",
   "metadata": {},
   "outputs": [
    {
     "data": {
      "image/png": "[encoded data removed]",
      "text/plain": [
       "<Figure size 456.6x360 with 1 Axes>"
      ]
     },
     "metadata": {},
     "output_type": "display_data"
    }
   ],
   "source": [
    "sns.set(style = 'ticks')\n",
    "g = sns.catplot(x = 'Severity', y = 'Visibility(mi)', hue='Visibility_range', hue_order=['Excellent', 'Good', 'Limited', 'No Visibility'], data = small_30)"
   ]
  },
  {
   "cell_type": "markdown",
   "id": "fdd246d9",
   "metadata": {},
   "source": [
    "For the categorical plot, I chose to categorize visibility ranges. In this diagram, my categories are the Severity levels (of the Construction's impact on traffic conditions) mapped with the Distance in Visibility on the road. The days with greatest visibility were the days that construction began with the \"Level 2\" of Severity impact on traffic. Overall, it seems that the severity of impact on traffic goes up with the visibility distance. "
   ]
  }
 ],
 "metadata": {
  "kernelspec": {
   "display_name": "Python 3 (ipykernel)",
   "language": "python",
   "name": "python3"
  },
  "language_info": {
   "codemirror_mode": {
    "name": "ipython",
    "version": 3
   },
   "file_extension": ".py",
   "mimetype": "text/x-python",
   "name": "python",
   "nbconvert_exporter": "python",
   "pygments_lexer": "ipython3",
   "version": "3.9.7"
  }
 },
 "nbformat": 4,
 "nbformat_minor": 5
}
